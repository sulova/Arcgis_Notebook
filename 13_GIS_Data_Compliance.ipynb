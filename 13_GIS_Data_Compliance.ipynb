{
 "cells": [
  {
   "cell_type": "markdown",
   "metadata": {},
   "source": [
    "# GIS Data Compliance"
   ]
  },
  {
   "cell_type": "code",
   "execution_count": 1,
   "metadata": {},
   "outputs": [],
   "source": [
    "import arcpy\n",
    "import os\n",
    "import pandas as pd\n",
    "from arcpy import metadata as md\n"
   ]
  },
  {
   "cell_type": "code",
   "execution_count": 32,
   "metadata": {},
   "outputs": [],
   "source": [
    "# TESTING FOLDER\n",
    "root_directory = r\"\\\\WM20ocqu46ph01\\WF_Projects\\DK_THO\\1_INPUT\\GRID\\20240716_from_ecodoc_004773710-06_updated\\JNHE - Onshore cable route engineering report - Land Cable\\JNHE - Onshore cable route engineering report - Land Cable\\test\"\n",
    "\n",
    "root_directory = r\"\\\\WM20ocqu46ph01\\WF_Projects\\DK_THO\\1_INPUT\\SITEINV\\20240718_Fugro_WP1_WP2\\WP1_EAC\""
   ]
  },
  {
   "cell_type": "code",
   "execution_count": 31,
   "metadata": {},
   "outputs": [
    {
     "name": "stdout",
     "output_type": "stream",
     "text": [
      "                                       File Name  \\\n",
      "0                     Annotatddions_2405bb08.shp   \n",
      "1            Dune_Underground_Structeeure_LN.shp   \n",
      "2  NL_IJV_I_WTG_L003_236D_DA3_67T_UTM31N_v1_edge   \n",
      "3                     Annotatddions_2405bb08.shp   \n",
      "4            Dune_Underground_Structeeure_LN.shp   \n",
      "\n",
      "                                           Full Path       Coordinate System  \\\n",
      "0  \\\\WM20ocqu46ph01\\WF_Projects\\DK_THO\\1_INPUT\\GR...   WGS_1984_UTM_Zone_32N   \n",
      "1  \\\\WM20ocqu46ph01\\WF_Projects\\DK_THO\\1_INPUT\\GR...  ETRS_1989_UTM_Zone_32N   \n",
      "2  \\\\WM20ocqu46ph01\\WF_Projects\\DK_THO\\1_INPUT\\GR...  ETRS_1989_UTM_Zone_31N   \n",
      "3  \\\\WM20ocqu46ph01\\WF_Projects\\DK_THO\\1_INPUT\\GR...   WGS_1984_UTM_Zone_32N   \n",
      "4  \\\\WM20ocqu46ph01\\WF_Projects\\DK_THO\\1_INPUT\\GR...  ETRS_1989_UTM_Zone_32N   \n",
      "\n",
      "                                        Title         Tags  \\\n",
      "0                          Annotations_240508  testing tag   \n",
      "1                                                     test   \n",
      "2  IJVER Site I - WTG Layout 003 236D DA3 67T  Layout, WTG   \n",
      "3                          Annotations_240508  testing tag   \n",
      "4                                                     test   \n",
      "\n",
      "                                             Summary  \\\n",
      "0                                    testing summary   \n",
      "1                                               test   \n",
      "2  Site layout for business case 2 based on devel...   \n",
      "3                                    testing summary   \n",
      "4                                               test   \n",
      "\n",
      "                                         Description             Credits  \n",
      "0  <DIV STYLE=\"text-align:Left;\"><DIV><P><SPAN>ss...              andrea  \n",
      "1                                                                         \n",
      "2  <DIV STYLE=\"text-align:Left;\"><DIV><DIV><P><SP...  beate.kost@rwe.com  \n",
      "3  <DIV STYLE=\"text-align:Left;\"><DIV><P><SPAN>ss...              andrea  \n",
      "4                                                                         \n",
      "Excel file generated: \\\\WM20ocqu46ph01\\WF_Projects\\DK_THO\\1_INPUT\\GRID\\20240716_from_ecodoc_004773710-06_updated\\JNHE - Onshore cable route engineering report - Land Cable\\JNHE - Onshore cable route engineering report - Land Cable\\test\\geospatial_data_info.xlsx\n"
     ]
    }
   ],
   "source": [
    "\n",
    "def process_files(root_dir):\n",
    "    \"\"\"Loop through directories and process shapefiles and geodatabases.\"\"\"\n",
    "    data = []\n",
    "    for dirpath, dirnames, filenames in os.walk(root_dir):\n",
    "        for dirname in dirnames:\n",
    "            for filename in filenames:\n",
    "                if filename.endswith(\".shp\"):                  \n",
    "                    file_path = os.path.join(dirpath, filename)\n",
    "                    metadata = arcpy.metadata.Metadata(file_path)\n",
    "                    desc = arcpy.Describe(file_path)\n",
    "                    spatial_ref = desc.spatialReference.name if desc.spatialReference else \"Unknown\"\n",
    "                    data.append({\"File Name\": os.path.basename(file_path),\n",
    "                                     'Full Path': file_path, \n",
    "                                     'Coordinate System': spatial_ref, \n",
    "                                     \"Title\": metadata.title if metadata.title else \"\",\n",
    "                                     \"Tags\": metadata.tags if metadata.tags else \"\",\n",
    "                                     \"Summary\": metadata.summary if metadata.summary else \"\",\n",
    "                                     \"Description\": metadata.description if metadata.description else \"\",\n",
    "                                     \"Credits\": metadata.credits if metadata.credits else \"\"})\n",
    "        \n",
    "            if dirname.endswith('.gdb'):    \n",
    "                gdb_path = os.path.join(dirpath, dirname)\n",
    "                arcpy.env.workspace = gdb_path\n",
    "                feature_datasets = arcpy.ListDatasets(feature_type='feature')\n",
    "                for feature_class in arcpy.ListFeatureClasses():\n",
    "                            file_path = os.path.join(gdb_path, feature_class)\n",
    "                            metadata = arcpy.metadata.Metadata(file_path)\n",
    "                            desc = arcpy.Describe(file_path)\n",
    "                            spatial_ref = desc.spatialReference.name if desc.spatialReference else \"Unknown\"\n",
    "                            data.append({\"File Name\": os.path.basename(file_path),\n",
    "                                         'Full Path': file_path, \n",
    "                                         'Coordinate System': spatial_ref, \n",
    "                                         \"Title\": metadata.title if metadata.title else \"\",\n",
    "                                         \"Tags\": metadata.tags if metadata.tags else \"\",\n",
    "                                         \"Summary\": metadata.summary if metadata.summary else \"\",\n",
    "                                         \"Description\": metadata.description if metadata.description else \"\",\n",
    "                                         \"Credits\": metadata.credits if metadata.credits else \"\"})\n",
    "                if feature_datasets:\n",
    "                    for fds in feature_datasets:\n",
    "                        # Set the workspace to the feature dataset\n",
    "                        arcpy.env.workspace = f\"{gdb_path}\\\\{fds}\"\n",
    "                        for feature_class in arcpy.ListFeatureClasses():\n",
    "                            file_path = os.path.join(gdb_path, feature_class)\n",
    "                            metadata = arcpy.metadata.Metadata(file_path)\n",
    "                            desc = arcpy.Describe(file_path)\n",
    "                            spatial_ref = desc.spatialReference.name if desc.spatialReference else \"Unknown\"\n",
    "                            data.append({\"File Name\": os.path.basename(file_path),\n",
    "                                         'Full Path': file_path, \n",
    "                                         'Coordinate System': spatial_ref, \n",
    "                                         \"Title\": metadata.title if metadata.title else \"\",\n",
    "                                         \"Tags\": metadata.tags if metadata.tags else \"\",\n",
    "                                         \"Summary\": metadata.summary if metadata.summary else \"\",\n",
    "                                         \"Description\": metadata.description if metadata.description else \"\",\n",
    "                                         \"Credits\": metadata.credits if metadata.credits else \"\"})\n",
    "   \n",
    "    return data\n",
    "\n",
    "def save_to_excel(data, output_excel):\n",
    "    \"\"\"Save the data to an Excel file.\"\"\"\n",
    "    df = pd.DataFrame(data)\n",
    "    df.to_excel(output_excel, index=False)\n",
    "    df\n",
    "    print(df)\n",
    "\n",
    "if __name__ == \"__main__\":\n",
    "    output_excel_file = os.path.join(root_directory, \"geospatial_data_info.xlsx\")\n",
    "    metadata_list = process_files(root_directory)\n",
    "    save_to_excel(metadata_list, output_excel_file)\n",
    "    print(f\"Excel file generated: {output_excel_file}\")\n"
   ]
  },
  {
   "cell_type": "code",
   "execution_count": null,
   "metadata": {},
   "outputs": [],
   "source": []
  },
  {
   "cell_type": "code",
   "execution_count": null,
   "metadata": {},
   "outputs": [],
   "source": []
  },
  {
   "cell_type": "code",
   "execution_count": null,
   "metadata": {},
   "outputs": [],
   "source": []
  },
  {
   "cell_type": "code",
   "execution_count": null,
   "metadata": {},
   "outputs": [],
   "source": []
  }
 ],
 "metadata": {
  "kernelspec": {
   "display_name": "ArcGISPro",
   "language": "Python",
   "name": "python3"
  },
  "language_info": {
   "codemirror_mode": {
    "name": "ipython",
    "version": 3
   },
   "file_extension": ".py",
   "mimetype": "text/x-python",
   "name": "python",
   "nbconvert_exporter": "python",
   "pygments_lexer": "ipython3",
   "version": "3.9.18"
  }
 },
 "nbformat": 4,
 "nbformat_minor": 2
}
