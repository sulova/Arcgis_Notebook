{
 "cells": [
  {
   "cell_type": "markdown",
   "metadata": {},
   "source": [
    "## Seabed Mobility [2019, 2020, 2023, 2024]"
   ]
  },
  {
   "cell_type": "code",
   "execution_count": 5,
   "metadata": {},
   "outputs": [],
   "source": [
    "import arcpy\n",
    "import numpy as np\n",
    "import os\n",
    "\n",
    "# Set environment\n",
    "arcpy.env.overwriteOutput = True\n",
    "workspace = r\"\\\\WM20ocqu46ph01\\WF_Projects\\DK_THO\\4_OUTPUT\\SITEINV\\20241010_SeabedMobility_JustinPeterLarkin\"\n",
    "arcpy.env.workspace = workspace\n",
    "\n",
    "# Input rasters (update file paths once 2024 data is available)\n",
    "raster_2019 = r\"\\\\WM20ocqu46ph01\\WF_Projects\\DK_THO\\1_INPUT\\SITEINV\\20240206_from_WTP_004502963-03\\004502963-03-MASP - GIS Data - Task 1 - Seabed Morphology and Mobility\\RWE_Thor_Task1_v0.3.gdb\\SN2019_011_R_DTM_MBES_100CM\"\n",
    "raster_2020 = r\"\\\\WM20ocqu46ph01\\WF_Projects\\DK_THO\\1_INPUT\\SITEINV\\20240206_from_WTP_004502963-03\\004502963-03-MASP - GIS Data - Task 1 - Seabed Morphology and Mobility\\RWE_Thor_Task1_v0.3.gdb\\MMT_628_GU_OWF_T50R_DTU15_MSL_DTM_100CM\"\n",
    "raster_2023 = r\"\\\\WM20ocqu46ph01\\WF_Projects\\DK_THO\\2_FINAL\\SITEINV\\SITEINV.gdb\\DK_THO_Fugro_MBES_2023_DEM_Mean_1pt00m_ra_UTM32N_EXT\"\n",
    "raster_2024 = r\"\\\\WM20ocqu46ph01\\WF_Projects\\DK_THO\\1_INPUT\\SITEINV\\20240924_Bathy\\F248460_RWE_Thor_1m_MSL\\F248460_RWE_Thor_1m_MSL.tif\"\n",
    "\n",
    "\n",
    "wtg = r\"\\\\WM20ocqu46ph01\\WF_Projects\\DK_THO\\2_FINAL\\WTG\\WTG.gdb\\DK_THO_Layout_pt_UTM32N_v7\"\n",
    "\n",
    "# Buffer parameters\n",
    "buffer_distance = \"200 meters\"  # Example buffer size"
   ]
  },
  {
   "cell_type": "markdown",
   "metadata": {},
   "source": [
    "# Functions"
   ]
  },
  {
   "cell_type": "code",
   "execution_count": 7,
   "metadata": {},
   "outputs": [],
   "source": [
    "# Function to create a buffer around the WTG locations\n",
    "def create_wtg_buffer(wtg_fc, buffer_distance, output_buffer):\n",
    "    arcpy.Buffer_analysis(wtg_fc, output_buffer, buffer_distance)\n",
    "    print(f\"Buffer created around WTG locations: {output_buffer}\")\n",
    "\n",
    "# Function to clip raster to the buffer zone\n",
    "def clip_raster_to_buffer(input_raster, buffer_fc, output_clipped_raster):\n",
    "    arcpy.Clip_management(input_raster, \"#\", output_clipped_raster, buffer_fc, \"NoData\", \"ClippingGeometry\")\n",
    "    print(f\"Raster clipped to buffer zone: {output_clipped_raster}\")\n",
    "\n",
    "# Function to calculate raster difference\n",
    "def calculate_difference_raster(raster1, raster2, output_name, mean_correction=0):\n",
    "    diff_raster = arcpy.sa.Raster(raster1) - arcpy.sa.Raster(raster2)\n",
    "    if mean_correction != 0:\n",
    "        diff_raster += mean_correction\n",
    "    diff_raster.save(os.path.join(workspace, output_name))\n",
    "    return diff_raster\n",
    "\n",
    "# Function to calculate zonal statistics\n",
    "def calculate_zonal_statistics(diff_raster, buffer_fc, zone_field, output_table):\n",
    "    # Absolute value raster for mean of magnitude\n",
    "    abs_diff_raster = arcpy.sa.Abs(diff_raster)\n",
    "\n",
    "    # Create Zonal Statistics tables for Max, Min, and Mean\n",
    "    arcpy.sa.ZonalStatisticsAsTable(buffer_fc, zone_field, diff_raster, output_table, \"DATA\", \"ALL\")\n",
    "    \n",
    "    # Add the field with the new shorter name\n",
    "    arcpy.AddField_management(output_table, mean_field_name, \"DOUBLE\")\n",
    "    \n",
    "    # Calculate mean of magnitude (average of absolute values)\n",
    "    abs_table = os.path.join(workspace, \"abs_\" + os.path.basename(output_table))\n",
    "    arcpy.sa.ZonalStatisticsAsTable(buffer_fc, zone_field, abs_diff_raster, abs_table, \"DATA\", \"MEAN\")\n",
    "    \n",
    "    # Ensure the correct field name is referenced\n",
    "    with arcpy.da.UpdateCursor(output_table, [zone_field, mean_field_name]) as cursor:\n",
    "        with arcpy.da.SearchCursor(abs_table, [zone_field, \"MEAN\"]) as abs_cursor:\n",
    "            abs_dict = {row[0]: row[1] for row in abs_cursor}  # Ensure this field is correct\n",
    "            for row in cursor:\n",
    "                zone_id = row[0]\n",
    "                if zone_id in abs_dict:\n",
    "                    row[1] = abs_dict[zone_id]\n",
    "                cursor.updateRow(row)\n",
    "\n",
    "    print(f\"Zonal statistics table created: {output_table}\")\n"
   ]
  },
  {
   "cell_type": "markdown",
   "metadata": {},
   "source": [
    "## A) Calculate difference rasters B) clip them to the buffer zone C) compute statistics"
   ]
  },
  {
   "cell_type": "code",
   "execution_count": 9,
   "metadata": {},
   "outputs": [
    {
     "name": "stdout",
     "output_type": "stream",
     "text": [
      "Buffer created around WTG locations: \\\\WM20ocqu46ph01\\WF_Projects\\DK_THO\\4_OUTPUT\\SITEINV\\20241010_SeabedMobility_JustinPeterLarkin\\WTG_Buffer_500m.shp\n",
      "Calculating difference for diff_2024_2019_clipped.tif...\n",
      "Raster clipped to buffer zone: \\\\WM20ocqu46ph01\\WF_Projects\\DK_THO\\4_OUTPUT\\SITEINV\\20241010_SeabedMobility_JustinPeterLarkin\\clipped_diff_2024_2019_clipped.tif\n",
      "Calculating difference for diff_2024_2023_clipped.tif...\n",
      "Raster clipped to buffer zone: \\\\WM20ocqu46ph01\\WF_Projects\\DK_THO\\4_OUTPUT\\SITEINV\\20241010_SeabedMobility_JustinPeterLarkin\\clipped_diff_2024_2023_clipped.tif\n",
      "Calculating difference for diff_2023_2019_clipped.tif...\n",
      "Raster clipped to buffer zone: \\\\WM20ocqu46ph01\\WF_Projects\\DK_THO\\4_OUTPUT\\SITEINV\\20241010_SeabedMobility_JustinPeterLarkin\\clipped_diff_2023_2019_clipped.tif\n",
      "Calculating difference for diff_2023_2020_clipped.tif...\n",
      "Raster clipped to buffer zone: \\\\WM20ocqu46ph01\\WF_Projects\\DK_THO\\4_OUTPUT\\SITEINV\\20241010_SeabedMobility_JustinPeterLarkin\\clipped_diff_2023_2020_clipped.tif\n",
      "Calculating difference for diff_2020_2019_clipped.tif...\n",
      "Raster clipped to buffer zone: \\\\WM20ocqu46ph01\\WF_Projects\\DK_THO\\4_OUTPUT\\SITEINV\\20241010_SeabedMobility_JustinPeterLarkin\\clipped_diff_2020_2019_clipped.tif\n"
     ]
    }
   ],
   "source": [
    "\n",
    "# Create buffer around WTG locations\n",
    "wtg_buffer = os.path.join(workspace, \"WTG_Buffer_500m.shp\")\n",
    "create_wtg_buffer(wtg, buffer_distance, wtg_buffer)\n",
    "\n",
    "# List of output difference raster names and correction values\n",
    "raster_pairs = [\n",
    "    (raster_2024, raster_2019, \"diff_2024_2019_clipped.tif\", 0),     # 2024 - 2019\n",
    "    (raster_2024, raster_2023, \"diff_2024_2023_clipped.tif\", 0),     # 2024 - 2023\n",
    "    (raster_2023, raster_2019, \"diff_2023_2019_clipped.tif\", 0.11),  # 2023 - 2019 (+0.11)\n",
    "    (raster_2023, raster_2020, \"diff_2023_2020_clipped.tif\", 0.09),  # 2023 - 2020 (+0.09)\n",
    "    (raster_2020, raster_2019, \"diff_2020_2019_clipped.tif\", 0)      # 2020 - 2019 (no correction)\n",
    "]\n",
    "\n",
    "# Calculate difference rasters, clip them to the buffer zone, and compute statistics\n",
    "for r1, r2, output_name, correction in raster_pairs:\n",
    "    if arcpy.Exists(r1) and arcpy.Exists(r2):  # Only process if both rasters exist\n",
    "        print(f\"Calculating difference for {output_name}...\")\n",
    "        diff_raster = calculate_difference_raster(r1, r2, output_name, correction)\n",
    "        \n",
    "        # Clip the difference raster to the WTG buffer zone\n",
    "        output_clipped_raster = os.path.join(workspace, \"clipped_\" + output_name)\n",
    "        clip_raster_to_buffer(diff_raster, wtg_buffer, output_clipped_raster)\n",
    "        \n"
   ]
  },
  {
   "cell_type": "code",
   "execution_count": 10,
   "metadata": {},
   "outputs": [
    {
     "name": "stdout",
     "output_type": "stream",
     "text": [
      "Calculating calculate_zonal_statistics for diff_2024_2019_clipped.tif...\n",
      "Zonal statistics table created: \\\\WM20ocqu46ph01\\WF_Projects\\DK_THO\\4_OUTPUT\\SITEINV\\20241010_SeabedMobility_JustinPeterLarkin\\zonal_stats_diff_2024_2019_clipped.dbf\n",
      "Calculating calculate_zonal_statistics for diff_2024_2023_clipped.tif...\n",
      "Zonal statistics table created: \\\\WM20ocqu46ph01\\WF_Projects\\DK_THO\\4_OUTPUT\\SITEINV\\20241010_SeabedMobility_JustinPeterLarkin\\zonal_stats_diff_2024_2023_clipped.dbf\n",
      "Calculating calculate_zonal_statistics for diff_2023_2019_clipped.tif...\n",
      "Zonal statistics table created: \\\\WM20ocqu46ph01\\WF_Projects\\DK_THO\\4_OUTPUT\\SITEINV\\20241010_SeabedMobility_JustinPeterLarkin\\zonal_stats_diff_2023_2019_clipped.dbf\n",
      "Calculating calculate_zonal_statistics for diff_2023_2020_clipped.tif...\n",
      "Zonal statistics table created: \\\\WM20ocqu46ph01\\WF_Projects\\DK_THO\\4_OUTPUT\\SITEINV\\20241010_SeabedMobility_JustinPeterLarkin\\zonal_stats_diff_2023_2020_clipped.dbf\n",
      "Calculating calculate_zonal_statistics for diff_2020_2019_clipped.tif...\n",
      "Zonal statistics table created: \\\\WM20ocqu46ph01\\WF_Projects\\DK_THO\\4_OUTPUT\\SITEINV\\20241010_SeabedMobility_JustinPeterLarkin\\zonal_stats_diff_2020_2019_clipped.dbf\n"
     ]
    }
   ],
   "source": [
    "# Change the field name to a shorter version\n",
    "mean_field_name = \"MeanMag\"  # Shorter field name\n",
    "\n",
    "# Zone field for WTG locations (use the field that represents unique WTG identifiers)\n",
    "zone_field = \"Layout_ID1\"\n",
    "\n",
    "# Calculate difference rasters, clip them to the buffer zone, and compute statistics\n",
    "for r1, r2, output_name, correction in raster_pairs:\n",
    "    if arcpy.Exists(r1) and arcpy.Exists(r2):  # Only process if both rasters exist\n",
    "        print(f\"Calculating calculate_zonal_statistics for {output_name}...\")\n",
    "        output_clipped_raster = os.path.join(workspace, \"clipped_\" + output_name)\n",
    "        output_table = os.path.join(workspace, \"zonal_stats_\" + os.path.basename(output_name).replace(\".tif\", \".dbf\"))\n",
    "        # Calculate zonal statistics and add to attribute table\n",
    "        calculate_zonal_statistics(output_clipped_raster, wtg_buffer, zone_field, output_table)"
   ]
  },
  {
   "cell_type": "code",
   "execution_count": null,
   "metadata": {},
   "outputs": [],
   "source": []
  }
 ],
 "metadata": {
  "kernelspec": {
   "display_name": "ArcGISPro",
   "language": "Python",
   "name": "python3"
  },
  "language_info": {
   "file_extension": ".py",
   "name": "python",
   "version": "3"
  }
 },
 "nbformat": 4,
 "nbformat_minor": 2
}
