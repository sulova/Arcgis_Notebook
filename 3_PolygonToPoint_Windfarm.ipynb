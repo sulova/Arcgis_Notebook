{
 "cells": [
  {
   "attachments": {},
   "cell_type": "markdown",
   "metadata": {},
   "source": [
    "### 3 LineToPoint Export Coordinates"
   ]
  },
  {
   "cell_type": "code",
   "execution_count": null,
   "metadata": {},
   "outputs": [],
   "source": [
    "# Import arcpy module\n",
    "import arcpy\n",
    "import numpy\n",
    "import os\n",
    "import pandas as pd\n",
    "from IPython.display import display, HTML"
   ]
  },
  {
   "cell_type": "code",
   "execution_count": 29,
   "metadata": {},
   "outputs": [],
   "source": [
    "\n",
    "# Set the input polygon feature class\n",
    "# in_fc = r\"\\\\WM20ocqu46ph01\\WF_Projects\\FR_OLE\\4_OUTPUT\\WINDFARM\\20231010_FR_OLE_Windfarm_Boundary_toMariaCarmen\\FR_OLE_WINDFARM_AO7_Sud_Atlantique_Parc2_PY_WGS84UTM30.shp\"\n",
    "# in_fc = r\"\\\\WM20ocqu46ph01\\WF_Projects\\FR_OLE\\4_OUTPUT\\WINDFARM\\20231010_FR_OLE_Windfarm_Boundary_toMariaCarmen\\FR_OLE_WINDFARM_AO7_Sud_Atlantique_Parc1_WGS84UTM30.shp\"\n",
    "\n",
    "# Set the output point feature class\n",
    "# output_point_fc = r\"\\\\WM20ocqu46ph01\\WF_Projects\\FR_OLE\\4_OUTPUT\\WINDFARM\\20231010_FR_OLE_Windfarm_Boundary_toMariaCarmen\\FR_OLE_WINDFARM_AO7_Sud_Atlantique_Parc2_PY_WGS84UTM30_point.shp\"\n",
    "# output_point_fc = r\"\\\\WM20ocqu46ph01\\WF_Projects\\FR_OLE\\4_OUTPUT\\WINDFARM\\20231010_FR_OLE_Windfarm_Boundary_toMariaCarmen\\FR_OLE_WINDFARM_AO7_Sud_Atlantique_Parc1_WGS84UTM30_point.shp\""
   ]
  },
  {
   "attachments": {},
   "cell_type": "markdown",
   "metadata": {},
   "source": [
    "### 1) Polygon to Point"
   ]
  },
  {
   "cell_type": "code",
   "execution_count": null,
   "metadata": {},
   "outputs": [],
   "source": [
    "# Use FeatureVerticesToPoints_management to convert polygon to points\n",
    "arcpy.management.FeatureVerticesToPoints(in_fc, output_point_fc, \"ALL\")\n",
    "print(\"Polygon vertices converted to points successfully.\")\n"
   ]
  },
  {
   "attachments": {},
   "cell_type": "markdown",
   "metadata": {},
   "source": [
    "### 2) Add Coordinate Data to Attribute table"
   ]
  },
  {
   "cell_type": "code",
   "execution_count": null,
   "metadata": {},
   "outputs": [],
   "source": [
    "# WGS84 UTM Zone 30N - 32630\n",
    "out_sr = arcpy.SpatialReference(32630) \n",
    "\n",
    "# Add geometry attributes\n",
    "geom_props = \"POINT_X_Y_Z_M\"\n",
    "arcpy.AddGeometryAttributes_management(output_point_fc, geom_props , \"\", \"\", out_sr)"
   ]
  },
  {
   "attachments": {},
   "cell_type": "markdown",
   "metadata": {},
   "source": [
    "### 3) Round Coordinates to 1 dec place"
   ]
  },
  {
   "cell_type": "code",
   "execution_count": 32,
   "metadata": {},
   "outputs": [],
   "source": [
    "# Create an update cursor to access the rows of the feature class\n",
    "with arcpy.da.UpdateCursor(output_point_fc, ['POINT_X', 'POINT_Y']) as cursor:\n",
    "    # Loop through each row\n",
    "    for row in cursor:\n",
    "        # Round the coordinates to 1 decimal place using numpy.round\n",
    "        row[0] = numpy.round(row[0], 1)\n",
    "        row[1] = numpy.round(row[1], 1)\n",
    "        # Update the row with the rounded values\n",
    "        cursor.updateRow(row)"
   ]
  },
  {
   "attachments": {},
   "cell_type": "markdown",
   "metadata": {},
   "source": [
    "### 4) Export Data"
   ]
  },
  {
   "cell_type": "code",
   "execution_count": 33,
   "metadata": {},
   "outputs": [
    {
     "name": "stdout",
     "output_type": "stream",
     "text": [
      "Shp Path: \\\\WM20ocqu46ph01\\WF_Projects\\FR_OLE\\4_OUTPUT\\WINDFARM\\20231010_FR_OLE_Windfarm_Boundary_toMariaCarmen\\FR_OLE_WINDFARM_AO7_Sud_Atlantique_Parc2_PY_WGS84UTM30_point.shp.xlsx\n"
     ]
    },
    {
     "data": {
      "text/html": [
       "<div class='gpresult'><h2>Messages</h2><div id='messages' data-messages='[\"Start Time: Wednesday, October 11, 2023 11:41:23 AM\",\"Succeeded at Wednesday, October 11, 2023 11:41:25 AM (Elapsed Time: 1.74 seconds)\"]' data-show='true'><div id = 'default' /></div></div>"
      ],
      "text/plain": [
       "<Result '\\\\\\\\WM20ocqu46ph01\\\\WF_Projects\\\\FR_OLE\\\\4_OUTPUT\\\\WINDFARM\\\\20231010_FR_OLE_Windfarm_Boundary_toMariaCarmen\\\\FR_OLE_WINDFARM_AO7_Sud_Atlantique_Parc2_PY_WGS84UTM30_point.shp.xlsx'>"
      ]
     },
     "execution_count": 33,
     "metadata": {},
     "output_type": "execute_result"
    }
   ],
   "source": [
    "directory_excel = r\"\\\\WM20ocqu46ph01\\WF_Projects\\FR_OLE\\4_OUTPUT\\WINDFARM\\20231010_FR_OLE_Windfarm_Boundary_toMariaCarmen\"\n",
    "\n",
    "# Extract directory and file name\n",
    "file_path = os.path.dirname(output_point_fc)\n",
    "file_name = output_point_fc.split(os.path.sep)[-1]\n",
    "excel_name = file_name +\".xlsx\"\n",
    "\n",
    "ouput_excel = os.path.join(directory_excel, excel_name)\n",
    "print(\"Shp Path:\", ouput_excel)\n",
    "\n",
    "\n",
    "# Use TableToExcel_conversion to export shapefile to Excel\n",
    "arcpy.TableToExcel_conversion(output_point_fc, ouput_excel)\n"
   ]
  },
  {
   "cell_type": "code",
   "execution_count": null,
   "metadata": {},
   "outputs": [],
   "source": []
  }
 ],
 "metadata": {
  "kernelspec": {
   "display_name": "Python 3",
   "language": "python",
   "name": "python3"
  },
  "language_info": {
   "codemirror_mode": {
    "name": "ipython",
    "version": 3
   },
   "file_extension": ".py",
   "mimetype": "text/x-python",
   "name": "python",
   "nbconvert_exporter": "python",
   "pygments_lexer": "ipython3",
   "version": "3.9.16 [MSC v.1931 64 bit (AMD64)]"
  },
  "vscode": {
   "interpreter": {
    "hash": "ce21b655b4d6c9e397d5ad93d5666c623f49909f6d0cc2f72076dafcf1b3ecfb"
   }
  }
 },
 "nbformat": 4,
 "nbformat_minor": 2
}
