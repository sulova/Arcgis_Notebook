{
 "cells": [
  {
   "cell_type": "code",
   "execution_count": null,
   "metadata": {},
   "outputs": [],
   "source": [
    "# Import arcpy module\n",
    "import arcpy\n",
    "import numpy\n",
    "import os\n",
    "import pandas as pd\n",
    "from IPython.display import display, HTML\n",
    "from arcpy import metadata as md\n",
    "\n",
    "import warnings\n",
    "\n",
    "# Suppress all warnings\n",
    "warnings.filterwarnings(\"ignore\")\n"
   ]
  },
  {
   "cell_type": "markdown",
   "metadata": {},
   "source": [
    "# 1) Feature classes in GDB "
   ]
  },
  {
   "cell_type": "code",
   "execution_count": 97,
   "metadata": {},
   "outputs": [],
   "source": [
    "\n",
    "list_shp = [r\"\\\\WM20ocqu46ph01\\TEMP\\Andrea_Sulova\\HKW\\0_HKW_Playground\\0_HKW_Playground.gdb\\HKW_VII_EAC_L05_DA2_53T_IMDC_string_UTM31_v2\",\n",
    "            r\"\\\\WM20ocqu46ph01\\TEMP\\Andrea_Sulova\\HKW\\0_HKW_Playground\\0_HKW_Playground.gdb\\HKW_VII_WTG_L09_236D_DA2_56T_UTM31N_v0\"\n",
    "            \n",
    "            ]\n",
    "\n",
    "\n",
    "folder = r\"\\\\WM20ocqu46ph01\\WF_Projects\\NL_HKW\\4_OUTPUT\\20240126_GRID_Cable_Entry_10m_Orientation_IMDC_Christian\""
   ]
  },
  {
   "cell_type": "code",
   "execution_count": 98,
   "metadata": {},
   "outputs": [
    {
     "name": "stdout",
     "output_type": "stream",
     "text": [
      "Input file: \\\\WM20ocqu46ph01\\TEMP\\Andrea_Sulova\\HKW\\0_HKW_Playground\\0_HKW_Playground.gdb\\HKW_VII_EAC_L05_DA2_53T_IMDC_string_UTM31_v2\n",
      "- DWG '\\\\WM20ocqu46ph01\\WF_Projects\\NL_HKW\\4_OUTPUT\\20240126_GRID_Cable_Entry_10m_Orientation_IMDC_Christian\\HKW_VII_EAC_L05_DA2_53T_IMDC_string_UTM31_v2_DWG' created successfully.\n",
      "Input file: \\\\WM20ocqu46ph01\\TEMP\\Andrea_Sulova\\HKW\\0_HKW_Playground\\0_HKW_Playground.gdb\\HKW_VII_WTG_L09_236D_DA2_56T_UTM31N_v0\n",
      "- DWG '\\\\WM20ocqu46ph01\\WF_Projects\\NL_HKW\\4_OUTPUT\\20240126_GRID_Cable_Entry_10m_Orientation_IMDC_Christian\\HKW_VII_WTG_L09_236D_DA2_56T_UTM31N_v0_DWG' created successfully.\n"
     ]
    }
   ],
   "source": [
    "for i in list_shp:\n",
    "    print('Input file:', i)\n",
    "    fc_name = i.split(os.path.sep)[-1]\n",
    "\n",
    "    if fc_name:\n",
    "        # Output DWG file\n",
    "        dwg_folder = os.path.join(folder, fc_name + '_DWG')\n",
    "        dwg_output = os.path.join(dwg_folder, fc_name +'.dwg')\n",
    "        if not os.path.exists(dwg_folder):\n",
    "            os.makedirs(dwg_folder)\n",
    "        if not os.path.exists(dwg_output):\n",
    "            arcpy.conversion.ExportCAD(i, \"DWG_R2018\", dwg_output, False, False)\n",
    "            print(f\"- DWG '{dwg_folder}' created successfully.\")\n"
   ]
  },
  {
   "cell_type": "markdown",
   "metadata": {},
   "source": [
    "# 2) From Folder iterate shp"
   ]
  },
  {
   "cell_type": "code",
   "execution_count": 4,
   "metadata": {},
   "outputs": [
    {
     "name": "stdout",
     "output_type": "stream",
     "text": [
      "Input file: \\\\WM20ocqu46ph01\\WF_Projects\\NL_HKW\\4_OUTPUT\\20240404_SolarDuck_Luc\\SolarDuck_BufferZone_600mRadius.shp\n",
      "- DWG '\\\\WM20ocqu46ph01\\WF_Projects\\NL_HKW\\4_OUTPUT\\20240404_SolarDuck_Luc\\SolarDuck_BufferZone_600mRadius.shp_DWG' created successfully.\n",
      "Input file: \\\\WM20ocqu46ph01\\WF_Projects\\NL_HKW\\4_OUTPUT\\20240404_SolarDuck_Luc\\SolarDuck_CenterPoint.shp\n",
      "- DWG '\\\\WM20ocqu46ph01\\WF_Projects\\NL_HKW\\4_OUTPUT\\20240404_SolarDuck_Luc\\SolarDuck_CenterPoint.shp_DWG' created successfully.\n",
      "Input file: \\\\WM20ocqu46ph01\\WF_Projects\\NL_HKW\\4_OUTPUT\\20240404_SolarDuck_Luc\\SolarDuck_Plant.shp\n",
      "- DWG '\\\\WM20ocqu46ph01\\WF_Projects\\NL_HKW\\4_OUTPUT\\20240404_SolarDuck_Luc\\SolarDuck_Plant.shp_DWG' created successfully.\n"
     ]
    }
   ],
   "source": [
    "import os\n",
    "import arcpy\n",
    "\n",
    "# Path to the folder containing shapefiles\n",
    "folder = r\"\\\\WM20ocqu46ph01\\WF_Projects\\NL_HKW\\4_OUTPUT\\20240404_SolarDuck_Luc\"\n",
    "\n",
    "\n",
    "# List shapefiles in the folder\n",
    "list_shp = [os.path.join(folder, file) for file in os.listdir(folder) if file.endswith('.shp')]\n",
    "\n",
    "\n",
    "for i in list_shp:\n",
    "    print('Input file:', i)\n",
    "    fc_name = i.split(os.path.sep)[-1]\n",
    "\n",
    "    if fc_name:\n",
    "        # Output DWG file\n",
    "        dwg_folder = os.path.join(folder, fc_name + '_DWG')\n",
    "        dwg_output = os.path.join(dwg_folder, fc_name +'.dwg')\n",
    "        if not os.path.exists(dwg_folder):\n",
    "            os.makedirs(dwg_folder)\n",
    "        if not os.path.exists(dwg_output):\n",
    "            arcpy.conversion.ExportCAD(i, \"DWG_R2018\", dwg_output, False, False)\n",
    "            print(f\"- DWG '{dwg_folder}' created successfully.\")\n"
   ]
  },
  {
   "cell_type": "code",
   "execution_count": null,
   "metadata": {},
   "outputs": [],
   "source": []
  }
 ],
 "metadata": {
  "kernelspec": {
   "display_name": "ArcGISPro",
   "language": "Python",
   "name": "python3"
  },
  "language_info": {
   "codemirror_mode": {
    "name": "ipython",
    "version": 3
   },
   "file_extension": ".py",
   "mimetype": "text/x-python",
   "name": "python",
   "nbconvert_exporter": "python",
   "pygments_lexer": "ipython3",
   "version": "3.9.18"
  },
  "vscode": {
   "interpreter": {
    "hash": "ce21b655b4d6c9e397d5ad93d5666c623f49909f6d0cc2f72076dafcf1b3ecfb"
   }
  }
 },
 "nbformat": 4,
 "nbformat_minor": 2
}
