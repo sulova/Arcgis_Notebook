{
 "cells": [
  {
   "attachments": {},
   "cell_type": "markdown",
   "metadata": {},
   "source": [
    "## IAC Depths \n",
    "\n",
    "This jupiter notebook splits a line feature into points at 5-meter intervals, adds an attribute value, and then extracts depths at those point locations from a bathymetry raster:"
   ]
  },
  {
   "cell_type": "code",
   "execution_count": 1,
   "metadata": {},
   "outputs": [],
   "source": [
    "from arcgis.features import FeatureLayer, FeatureSet\n",
    "from arcgis.geometry import Point\n",
    "import arcpy"
   ]
  },
  {
   "attachments": {},
   "cell_type": "markdown",
   "metadata": {},
   "source": [
    "#### 1. Load the shapefile and raster data"
   ]
  },
  {
   "attachments": {},
   "cell_type": "markdown",
   "metadata": {},
   "source": [
    "Replace \"path/to/your/feature_class.shp\" with the path to your specific feature class. Adjust as needed depending on the format and location of your feature class."
   ]
  },
  {
   "cell_type": "code",
   "execution_count": null,
   "metadata": {},
   "outputs": [],
   "source": [
    "\n",
    "# Define paths\n",
    "input_line_feature = r\"path/to/your/line_feature.shp\"  # Replace with your line feature path\n",
    "bathymetry_raster = r\"path/to/your/bathymetry_raster.tif\"  # Replace with your raster path\n"
   ]
  },
  {
   "cell_type": "code",
   "execution_count": null,
   "metadata": {},
   "outputs": [],
   "source": [
    "# Define the attribute value you want to add to the points\n",
    "attribute_value = \"Depth\"  # Replace with the desired attribute value\n"
   ]
  },
  {
   "attachments": {},
   "cell_type": "markdown",
   "metadata": {},
   "source": [
    "### 2.  Split line to points with depths information added \n",
    "- 1) Adjust the attribute value as needed.\n",
    "- 2) Splot plit the line into points at 5-meter intervals,\n",
    "- 3) Assign the specified attribute value, and extract depth values from the raster at those points' locations.\n",
    "- 4) Adjust as necessary based on your specific data and requirements."
   ]
  },
  {
   "cell_type": "code",
   "execution_count": null,
   "metadata": {},
   "outputs": [],
   "source": [
    "def split_line_to_points_with_depths(input_feature, raster, attribute):\n",
    "    # Create a cursor to iterate through the line features\n",
    "    with arcpy.da.SearchCursor(input_feature, [\"SHAPE@\", \"OID@\"]) as cursor:\n",
    "        for row in cursor:\n",
    "            # Get the geometry (line) and ObjectID from the feature\n",
    "            line_geometry = row[0]\n",
    "            feature_oid = row[1]\n",
    "            \n",
    "            # Initialize variables for the loop\n",
    "            distance_along_line = 0\n",
    "            increment = 5  # 5-meter intervals\n",
    "            \n",
    "            # Create a while loop to split the line into points at 5-meter intervals\n",
    "            while distance_along_line < line_geometry.length:\n",
    "                # Create a point at the given distance along the line\n",
    "                point = line_geometry.positionAlongLine(distance_along_line)\n",
    "                \n",
    "                # Create a new point feature\n",
    "                output_point = arcpy.PointGeometry(point, line_geometry.spatialReference)\n",
    "                \n",
    "                # Add the attribute value to the point feature\n",
    "                attributes = [(feature_oid, attribute)]\n",
    "                arcpy.management.AddFields(output_point, [[\"Feature_OID\", \"LONG\"], [attribute, \"DOUBLE\"]])\n",
    "                with arcpy.da.InsertCursor(output_point, [\"Feature_OID\", attribute]) as icursor:\n",
    "                    icursor.insertRow(attributes)\n",
    "                \n",
    "                # Extract depth value from the raster at the point location\n",
    "                depth_result = arcpy.GetCellValue_management(raster, point)\n",
    "                depth_value = float(depth_result.getOutput(0))\n",
    "                \n",
    "                # Update the attribute value for the point\n",
    "                with arcpy.da.UpdateCursor(output_point, [attribute]) as ucursor:\n",
    "                    for row in ucursor:\n",
    "                        row[0] = depth_value\n",
    "                        ucursor.updateRow(row)\n",
    "                \n",
    "                # Save the point as a feature class with attribute value\n",
    "                output_name = f\"Point_{feature_oid}_5m\"  # Naming convention for output points\n",
    "                arcpy.CopyFeatures_management(output_point, output_name)\n",
    "                \n",
    "                # Move along the line by 5 meters\n",
    "                distance_along_line += increment\n",
    "    \n",
    "    print(\"Splitting and attribute assignment completed.\")\n",
    "\n",
    "# Call the function\n",
    "split_line_to_points_with_depths(input_line_feature, bathymetry_raster, attribute_value)"
   ]
  },
  {
   "cell_type": "code",
   "execution_count": null,
   "metadata": {},
   "outputs": [],
   "source": []
  },
  {
   "cell_type": "code",
   "execution_count": null,
   "metadata": {},
   "outputs": [],
   "source": []
  }
 ],
 "metadata": {
  "kernelspec": {
   "display_name": "Python 3",
   "language": "python",
   "name": "python3"
  },
  "language_info": {
   "codemirror_mode": {
    "name": "ipython",
    "version": 3
   },
   "file_extension": ".py",
   "mimetype": "text/x-python",
   "name": "python",
   "nbconvert_exporter": "python",
   "pygments_lexer": "ipython3",
   "version": "3.9.16"
  },
  "vscode": {
   "interpreter": {
    "hash": "ce21b655b4d6c9e397d5ad93d5666c623f49909f6d0cc2f72076dafcf1b3ecfb"
   }
  }
 },
 "nbformat": 4,
 "nbformat_minor": 2
}
