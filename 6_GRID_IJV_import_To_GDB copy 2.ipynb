{
 "cells": [
  {
   "attachments": {},
   "cell_type": "markdown",
   "metadata": {},
   "source": [
    "## (6) IJV - GRID import to GDB from excel GRID template"
   ]
  },
  {
   "cell_type": "code",
   "execution_count": 3,
   "metadata": {},
   "outputs": [],
   "source": [
    "import arcpy\n",
    "import openpyxl\n",
    "import os\n",
    "import pandas as pd\n",
    "import zipfile\n",
    "from arcpy import metadata as md\n",
    "\n"
   ]
  },
  {
   "attachments": {},
   "cell_type": "markdown",
   "metadata": {},
   "source": [
    "### 1) Import excel file to GDB"
   ]
  },
  {
   "cell_type": "code",
   "execution_count": 23,
   "metadata": {},
   "outputs": [],
   "source": [
    "excel_file_path =  r\"\\\\WM20ocqu46ph01\\WF_Projects\\NL_IJV\\1_INPUT\\GRID\\20231020_EAC_layout 21MW_BC_from_Daniel_Kartar\\Layout1_Libra III BC2 50x21MW 7 loops 3xs.xlsx\"\n",
    "\n",
    "output_gdb_path = r\"\\\\WM20ocqu46ph01\\WF_Projects\\NL_IJV\\2_FINAL\\GRID\\GRID.gdb\"\n",
    "\n",
    "output_fc = \"NL_IJV_III_EAC_L005_276D_DA6_50T_loops_UTM31N_v1\" "
   ]
  },
  {
   "cell_type": "code",
   "execution_count": 25,
   "metadata": {},
   "outputs": [
    {
     "name": "stdout",
     "output_type": "stream",
     "text": [
      "Excel table detected in sheet \"Sheet1\" and range B17:U74\n",
      "Header row from Excel: ['Start point', 'Start Easting [m]', 'Start Northing [m]', 'Start Depth to LAT [m]', 'End point', 'End Easting [m]', 'End Northing [m]', 'End Depth to LAT [m]', 'A [m]', 'B [m]', 'C [m]', 'D [m]', 'E [m]', 'Length [m] incl. Water depth', 'Cross section [mm²]', 'Material', 'CAPEX [€]', 'OPEX [€]', 'Loss [MWh]', 'Loss [%]']\n",
      "Create feature class: NL_IJV_III_EAC_L005_276D_DA6_50T_loops_UTM31N_v1\n",
      "{'String_number': 'String number', 'Start_point': 'Start point', 'Start_Easting_m': 'Start Easting [m]', 'Start_Northing_m': 'Start Northing [m]', 'Start_Depth_to_LAT_m': 'Start Depth to LAT [m]', 'End_point': 'End point', 'End_Easting_m': 'End Easting [m]', 'End_Northing_m': 'End Northing [m]', 'End_Depth_to_LAT_m': 'End Depth to LAT [m]', 'A_m': 'A [m]', 'B_m': 'B [m]', 'C_m': 'C [m]', 'D_m': 'D [m]', 'E_m': 'E [m]', 'Length_m_incl_Water_depth': 'Length [m] incl. Water depth', 'Cross_section_mm': 'Cross section [mm²]', 'Material': 'Material', 'CAPEX': 'CAPEX [€]', 'OPEX': 'OPEX [€]', 'Loss_MWh': 'Loss [MWh]', 'Loss': 'Loss [%]'}\n",
      "Write cable strings to fc\n",
      "*** Finished ***\n"
     ]
    }
   ],
   "source": [
    "\n",
    "def find_table_in_excel(file_path, keyword):\n",
    "    # Load the workbook\n",
    "    wb = openpyxl.load_workbook(file_path)\n",
    "\n",
    "    # Loop through each sheet in the workbook\n",
    "    for sheet in wb.sheetnames:\n",
    "        ws = wb[sheet]\n",
    "\n",
    "        # Loop through each row in the sheet\n",
    "        for row in ws.iter_rows():\n",
    "            # Loop through each cell in the row\n",
    "            for cell in row:\n",
    "                # Check if the cell value matches the keyword\n",
    "                if cell.value == keyword:\n",
    "                    start_cell = cell.coordinate\n",
    "\n",
    "                    # Get start cell coordinates\n",
    "                    start_col = start_cell[0]\n",
    "                    start_row = int(start_cell[1:])\n",
    "\n",
    "                    # Initialize end cell coordinates\n",
    "                    end_col = start_col\n",
    "                    end_row = start_row\n",
    "\n",
    "                    # Find end of table in rows\n",
    "                    while ws[end_col + str(end_row)].value is not None:\n",
    "                        end_row += 1\n",
    "\n",
    "                    # Find end of table in columns\n",
    "                    while ws[end_col + str(start_row)].value is not None:\n",
    "                        if ord(end_col) < 90:  # ASCII value of 'Z'\n",
    "                            end_col = chr(ord(end_col) + 1)\n",
    "                        else:\n",
    "                            break\n",
    "\n",
    "                    # Adjust for overstepping boundaries\n",
    "                    if ord(end_col) > 65:  # ASCII value of 'A'\n",
    "                        end_col = chr(ord(end_col) - 1)\n",
    "                        \n",
    "                    end_cell = end_col + str(end_row - 1)\n",
    "\n",
    "                    print(f\"Excel table detected in sheet \\\"{sheet}\\\" and range {start_cell}:{end_cell}\")\n",
    "                    arcpy.AddMessage(f\"Excel table detected in sheet \\\"{sheet}\\\" and range {start_cell}:{end_cell}\")\n",
    "\n",
    "                    # Return table range\n",
    "                    return sheet, start_cell, end_cell                  \n",
    "                    \n",
    "def excel_table_to_feature_class(excel_file_path, output_gdb_path, output_fc, sheet_name, start_cell, end_cell, epsg_code):\n",
    "    \n",
    "    epsg_code = int(epsg_code)\n",
    "    \n",
    "    # Load the workbook and select the sheet\n",
    "    wb = openpyxl.load_workbook(excel_file_path)\n",
    "    ws = wb[sheet_name]\n",
    "\n",
    "    # Create an empty list to store the cable strings and a dictionary to store the attributes\n",
    "    cable_strings = []\n",
    "    attributes = {}\n",
    "    string_number = 0\n",
    "\n",
    "    # Get the headers from the first row of the cell range\n",
    "    headers = [cell.value for cell in ws[start_cell:end_cell][0]]\n",
    "    \n",
    "    # As the coordinate columns for start and end point have same names, they need to get renamed to be unique\n",
    "    replacements = {'Easting [m]': ['Start Easting [m]', 'End Easting [m]'], \n",
    "                    'Northing [m]': ['Start Northing [m]', 'End Northing [m]'],\n",
    "                    'Depth to LAT [m]': ['Start Depth to LAT [m]', 'End Depth to LAT [m]']}\n",
    "    for key, values in replacements.items():\n",
    "        try:\n",
    "            for value in values:\n",
    "                index = headers.index(key)\n",
    "                headers[index] = value\n",
    "        except ValueError:\n",
    "            pass        \n",
    "\n",
    "    print(f'Header row from Excel: {headers}')\n",
    "    arcpy.AddMessage(f'Header row from Excel: {headers}')\n",
    "\n",
    "    # Create a dictionary to map valid field names to original headers\n",
    "    field_names = {arcpy.ValidateFieldName(header): header for header in headers}\n",
    "    field_names = {name.rstrip(\"_\").replace(\"__\",\"_\"): value for name, value in field_names.items()}\n",
    "    \n",
    "    # Iterate through each row in the cell range (excluding the header row)\n",
    "    for row in ws[start_cell:end_cell][1:]:\n",
    "        # Create a polyline geometry object using the start and end coordinates\n",
    "        array = arcpy.Array([arcpy.Point(row[1].value, row[2].value), arcpy.Point(row[5].value, row[6].value)])\n",
    "        polyline = arcpy.Polyline(array)\n",
    "    \n",
    "        # Check if the start point is 0 and increment string number\n",
    "        if row[0].value == 0:\n",
    "            string_number += 1\n",
    "    \n",
    "        # Create a dictionary of attributes for the current row\n",
    "        attrs = {'String_number' : string_number}\n",
    "        attrs.update({header: value for header, value in zip(field_names, row)})\n",
    "    \n",
    "        # Append a tuple with the polyline and the attributes to the list\n",
    "        cable_strings.append((polyline, attrs))\n",
    "\n",
    "    # Define the spatial reference of the output feature class (you may need to adjust this)\n",
    "    spatial_reference = arcpy.SpatialReference(epsg_code)\n",
    "\n",
    "    print(f'Create feature class: {output_fc}')\n",
    "    arcpy.AddMessage(f'Create feature class: {output_fc}')\n",
    "\n",
    "    # Create a new feature class in the geodatabase\n",
    "    fc_path = os.path.join(output_gdb_path, output_fc)\n",
    "    arcpy.CreateFeatureclass_management(output_gdb_path, output_fc, 'POLYLINE', spatial_reference=spatial_reference)\n",
    "\n",
    "    # String number should be the first attribute in fc table, so an extra step is needed to get it added to field_names dict\n",
    "    string_item = ({\"String_number\" : \"String number\"})\n",
    "    field_names = {**string_item, **field_names}\n",
    "    print(field_names)\n",
    "\n",
    "    # Add fields for each header in the Excel table\n",
    "    # arcpy.AddField_management(fc_path, 'string_number', 'LONG', field_alias=\"String number\")\n",
    "    for field_name, header in field_names.items():\n",
    "        if header in ['Start point', 'End point', \"String number\"]:\n",
    "            arcpy.AddField_management(fc_path, field_name, 'SHORT', field_alias=header)\n",
    "        else:\n",
    "            arcpy.AddField_management(fc_path, field_name, 'DOUBLE', field_alias=header)\n",
    "\n",
    "    # Use an insert cursor to add the cable strings to the new feature class\n",
    "    print(f'Write cable strings to fc')\n",
    "    arcpy.AddMessage(f'Write cable strings to fc')\n",
    "    \n",
    "    try:\n",
    "        with arcpy.da.InsertCursor(fc_path, ['SHAPE@'] + list(field_names.keys())) as cursor:\n",
    "            for cable_string, attrs in cable_strings:\n",
    "                cursor.insertRow([cable_string] + [attrs[field_name].value if hasattr(attrs[field_name], 'value') else attrs[field_name] for field_name in field_names])\n",
    "    except Exception as e:\n",
    "        print(f\"An error occurred: {e}\")\n",
    "        arcpy.AddError(f\"An error occurred: {e}\")\n",
    "    print(f\"*** Finished ***\")\n",
    "    arcpy.AddMessage(f\"*** Finished ***\")\n",
    "   \n",
    "arcpy.env.workspace = output_gdb_path\n",
    "keyword = \"Start point\"\n",
    "\n",
    "# Call function to get the sheet name and cell range\n",
    "sheet_name, start_cell, end_cell = find_table_in_excel(excel_file_path, keyword)\n",
    "\n",
    "# Call function to \n",
    "excel_table_to_feature_class(excel_file_path, output_gdb_path, output_fc, sheet_name, start_cell, end_cell, 25831) \n"
   ]
  },
  {
   "attachments": {},
   "cell_type": "markdown",
   "metadata": {},
   "source": [
    "### 2) optional add Type of cabel as a new field Backlink/ArrayCable"
   ]
  },
  {
   "cell_type": "code",
   "execution_count": 26,
   "metadata": {},
   "outputs": [
    {
     "name": "stdout",
     "output_type": "stream",
     "text": [
      "Field updated successfully!\n"
     ]
    }
   ],
   "source": [
    "output_fc_gdb = os.path.join(output_gdb_path, output_fc)\n",
    "\n",
    "# Name of the new field and its data type\n",
    "new_field_name = \"Type_cable\"\n",
    "field_type = \"TEXT\"  \n",
    "arcpy.AddField_management(output_fc_gdb, new_field_name, field_type)\n",
    "\n",
    "\n",
    "# Names of the fields you want to update\n",
    "field_condition = \"OPEX\"\n",
    "\n",
    "# Start an update cursor and update the field based on the condition\n",
    "with arcpy.da.UpdateCursor(output_fc_gdb, [field_condition, new_field_name]) as cursor:\n",
    "    for row in cursor:\n",
    "        if row[0] == 0:  \n",
    "            row[1] = \"Backlink\"\n",
    "        else:  # If field contains a different number, set it to 2\n",
    "            row[1] = \"Array Cable\"\n",
    "        cursor.updateRow(row)\n",
    "print(\"Field updated successfully!\")"
   ]
  },
  {
   "attachments": {},
   "cell_type": "markdown",
   "metadata": {},
   "source": [
    "### 3) Metadata from Excel Files"
   ]
  },
  {
   "cell_type": "code",
   "execution_count": 27,
   "metadata": {},
   "outputs": [
    {
     "name": "stderr",
     "output_type": "stream",
     "text": [
      "c:\\Program Files\\ArcGIS\\Pro\\bin\\Python\\envs\\arcgispro-py3\\lib\\site-packages\\openpyxl\\worksheet\\_read_only.py:79: UserWarning: Data Validation extension is not supported and will be removed\n",
      "  for idx, row in parser.parse():\n"
     ]
    },
    {
     "data": {
      "text/html": [
       "<div>\n",
       "<style scoped>\n",
       "    .dataframe tbody tr th:only-of-type {\n",
       "        vertical-align: middle;\n",
       "    }\n",
       "\n",
       "    .dataframe tbody tr th {\n",
       "        vertical-align: top;\n",
       "    }\n",
       "\n",
       "    .dataframe thead th {\n",
       "        text-align: right;\n",
       "    }\n",
       "</style>\n",
       "<table border=\"1\" class=\"dataframe\">\n",
       "  <thead>\n",
       "    <tr style=\"text-align: right;\">\n",
       "      <th></th>\n",
       "      <th>Full Name</th>\n",
       "      <th>Project Prefix</th>\n",
       "      <th>Name</th>\n",
       "      <th>Type</th>\n",
       "      <th>Version</th>\n",
       "      <th>Primary Category</th>\n",
       "      <th>Sub-Categories</th>\n",
       "      <th>Coordinate System</th>\n",
       "      <th>CoordSysAbbv</th>\n",
       "      <th>EPSG</th>\n",
       "      <th>Date Created</th>\n",
       "      <th>Comment</th>\n",
       "      <th>Summary</th>\n",
       "      <th>Description</th>\n",
       "      <th>Tags</th>\n",
       "      <th>Credits</th>\n",
       "      <th>Added to Portal</th>\n",
       "    </tr>\n",
       "  </thead>\n",
       "  <tbody>\n",
       "    <tr>\n",
       "      <th>186</th>\n",
       "      <td>NL_IJV_III_EAC_L005_276D_DA6_50T_loops_UTM31N_v1</td>\n",
       "      <td>NL_IJV_III</td>\n",
       "      <td>EAC_L007_276D_DA6_50T_v0_loops</td>\n",
       "      <td>li</td>\n",
       "      <td>v1</td>\n",
       "      <td>GRID</td>\n",
       "      <td>Array Cables</td>\n",
       "      <td>ETRS 89 UTM31 N</td>\n",
       "      <td>UTM31N</td>\n",
       "      <td>25834</td>\n",
       "      <td>2023-10-20 00:00:00</td>\n",
       "      <td>NaN</td>\n",
       "      <td>NaN</td>\n",
       "      <td>v1 - GRID layout for business case 2 based on ...</td>\n",
       "      <td>Grid, Cable</td>\n",
       "      <td>andrea.sulova@rwe.com</td>\n",
       "      <td>Y</td>\n",
       "    </tr>\n",
       "  </tbody>\n",
       "</table>\n",
       "</div>"
      ],
      "text/plain": [
       "                                            Full Name Project Prefix  \\\n",
       "186  NL_IJV_III_EAC_L005_276D_DA6_50T_loops_UTM31N_v1     NL_IJV_III   \n",
       "\n",
       "                               Name Type Version Primary Category  \\\n",
       "186  EAC_L007_276D_DA6_50T_v0_loops   li      v1             GRID   \n",
       "\n",
       "    Sub-Categories Coordinate System CoordSysAbbv   EPSG         Date Created  \\\n",
       "186   Array Cables   ETRS 89 UTM31 N       UTM31N  25834  2023-10-20 00:00:00   \n",
       "\n",
       "     Comment Summary                                        Description  \\\n",
       "186      NaN     NaN  v1 - GRID layout for business case 2 based on ...   \n",
       "\n",
       "            Tags                Credits Added to Portal  \n",
       "186  Grid, Cable  andrea.sulova@rwe.com               Y  "
      ]
     },
     "execution_count": 27,
     "metadata": {},
     "output_type": "execute_result"
    }
   ],
   "source": [
    "excel_file = r\"\\\\WM20ocqu46ph01\\WF_Projects\\NL_IJV\\5_PROJECTDOCS\\NL_IJV_Dataset_Inventory.xlsx\"\n",
    "\n",
    "# String to search for\n",
    "df = pd.read_excel(excel_file)\n",
    "search_string  = output_fc\n",
    "\n",
    "\n",
    "df.columns\n",
    "\n",
    "# Find the row where the search_string is in search_column\n",
    "filtered_df = df[df[\"Full Name\"] == output_fc]\n",
    "filtered_df\n"
   ]
  },
  {
   "cell_type": "code",
   "execution_count": 28,
   "metadata": {},
   "outputs": [
    {
     "name": "stdout",
     "output_type": "stream",
     "text": [
      "imported_title: NL_IJV_III_EAC_L005_276D_DA6_50T_loops_UTM31N_v1\n",
      "imported_summary: nan\n",
      "imported_tags: Grid, Cable\n",
      "imported_Description: v1 - GRID layout for business case 2 based on developable area DA6.   Both Alpha and Beta from are  loop layouts .Data sent by: daniel.kajtar@rwe.com \\\\WM20ocqu46ph01\\WF_Projects\\NL_IJV\\1_INPUT\\GRID\\20231020_EAC_layout 21MW_BC_from_Daniel_Kartar\n",
      "2023-10-20 00:00:00\n",
      "imported_Credits: andrea.sulova@rwe.com\n"
     ]
    }
   ],
   "source": [
    "\n",
    "\n",
    "# Check if the search_string was found in the DataFrame\n",
    "if not filtered_df.empty:\n",
    "    # Get the text from text_column in the same row\n",
    "    imported_title = filtered_df.iloc[0][\"Full Name\"]\n",
    "    imported_summary = filtered_df.iloc[0][\"Summary\"]\n",
    "    imported_tags = filtered_df.iloc[0][\"Tags\"]\n",
    "    imported_Description = filtered_df.iloc[0][\"Description\"]\n",
    "    imported_Credits = filtered_df.iloc[0][\"Credits\"]\n",
    "    imported_Date = str(filtered_df.iloc[0][\"Date Created\"])\n",
    "\n",
    "    imported_Description = imported_Description + \"\\n\" + imported_Date\n",
    "\n",
    "    # Print or use the imported_text as needed\n",
    "    print(\"imported_title:\", imported_title)\n",
    "    print(\"imported_summary:\", imported_summary)\n",
    "    print(\"imported_tags:\", imported_tags)\n",
    "    print(\"imported_Description:\", imported_Description)\n",
    "    print(\"imported_Credits:\", imported_Credits)\n",
    "\n",
    "else:\n",
    "    print(\"Search string not found in the specified column.\")\n",
    "\n",
    "# Create a new Metadata object and add some content to it\n",
    "new_md = md.Metadata()\n",
    "new_md.title = imported_title\n",
    "new_md.tags = imported_tags\n",
    "new_md.summary = imported_summary\n",
    "new_md.description = imported_Description\n",
    "new_md.credits = imported_Credits\n",
    "\n",
    "# Assign the Metadata object's content to a target item\n",
    "tgt_item_md = md.Metadata(output_fc_gdb)\n",
    "if not tgt_item_md.isReadOnly:\n",
    "    tgt_item_md.copy(new_md)\n",
    "    tgt_item_md.save()\n",
    "\n"
   ]
  },
  {
   "attachments": {},
   "cell_type": "markdown",
   "metadata": {},
   "source": [
    "### 4) Your New Alias Name"
   ]
  },
  {
   "cell_type": "code",
   "execution_count": 29,
   "metadata": {},
   "outputs": [
    {
     "name": "stdout",
     "output_type": "stream",
     "text": [
      "\n",
      "NL IJV III EAC L005 276D DA6 50T loops UTM31N v1\n",
      "Alias name for \\\\WM20ocqu46ph01\\WF_Projects\\NL_IJV\\2_FINAL\\GRID\\GRID.gdb\\NL_IJV_III_EAC_L005_276D_DA6_50T_loops_UTM31N_v1 changed from '' to 'NL IJV III EAC L005 276D DA6 50T loops UTM31N v1' successfully.\n"
     ]
    }
   ],
   "source": [
    "\n",
    "# Get the current alias name (optional)\n",
    "# Get the describe object for the feature class\n",
    "desc = arcpy.Describe(output_fc_gdb)\n",
    "current_alias = desc.aliasName\n",
    "print(current_alias)\n",
    "\n",
    "\n",
    "new_alias = output_fc.replace(\"_\", \" \")\n",
    "print(new_alias)\n",
    "\n",
    "try:\n",
    "    # Set the new alias name for the feature class\n",
    "    arcpy.AlterAliasName(output_fc_gdb, new_alias)\n",
    "    print(f\"Alias name for {output_fc_gdb} changed from '{current_alias}' to '{new_alias}' successfully.\")\n",
    "\n",
    "except Exception as e:\n",
    "    print(f\"An error occurred: {str(e)}\")\n"
   ]
  },
  {
   "attachments": {},
   "cell_type": "markdown",
   "metadata": {},
   "source": [
    "### 5) Export to Shapefiles"
   ]
  },
  {
   "cell_type": "code",
   "execution_count": 30,
   "metadata": {},
   "outputs": [
    {
     "name": "stdout",
     "output_type": "stream",
     "text": [
      "Folder '\\\\WM20ocqu46ph01\\WF_Projects\\NL_IJV\\4_OUTPUT\\_WTG_GRID_layouts\\NL_IJV_III_EAC_L005_276D_DA6_50T_loops_UTM31N_v1' created successfully.\n"
     ]
    }
   ],
   "source": [
    "shp_path = r\"\\\\WM20ocqu46ph01\\WF_Projects\\NL_IJV\\4_OUTPUT\\_WTG_GRID_layouts\"\n",
    "\n",
    "shp_folder = os.path.join(shp_path, output_fc)\n",
    "shp_file = output_fc + \".shp\"\n",
    "output_shp = os.path.join(shp_folder,shp_file )\n",
    "\n",
    "\n",
    "# Check if the folder already exists before creating it\n",
    "if not os.path.exists(shp_folder):\n",
    "    os.makedirs(shp_folder)\n",
    "    arcpy.FeatureClassToFeatureClass_conversion(output_fc_gdb, shp_folder, shp_file)\n",
    "    print(f\"Folder '{shp_folder}' created successfully.\")\n",
    "else:\n",
    "    print(f\"Folder '{shp_file}' already exists.\")\n"
   ]
  },
  {
   "attachments": {},
   "cell_type": "markdown",
   "metadata": {},
   "source": [
    "#### 6) Zip folder"
   ]
  },
  {
   "cell_type": "code",
   "execution_count": 31,
   "metadata": {},
   "outputs": [
    {
     "name": "stdout",
     "output_type": "stream",
     "text": [
      "Final output Zip: \\\\WM20ocqu46ph01\\WF_Projects\\NL_IJV\\4_OUTPUT\\_WTG_GRID_layouts\\NL_IJV_III_EAC_L005_276D_DA6_50T_loops_UTM31N_v1.zip\n"
     ]
    }
   ],
   "source": [
    "zip_folder_path = shp_folder + \".zip\"\n",
    "\n",
    "def zip_folder(shp_folder, zip_folder_path):\n",
    "    with zipfile.ZipFile(zip_folder_path, 'w', zipfile.ZIP_DEFLATED) as zip_file:\n",
    "        for root, dirs, files in os.walk(shp_folder):\n",
    "            for file in files:\n",
    "                zip_file.write(os.path.join(root, file), file)\n",
    "\n",
    "# Example usage\n",
    "\n",
    "if not os.path.exists(zip_folder_path):\n",
    "    zip_folder(shp_folder, zip_folder_path)\n",
    "    print('Final output Zip:', zip_folder_path)\n",
    "else:\n",
    "    print(f\"Zip folder '{zip_folder_path}' already exists.\")\n"
   ]
  },
  {
   "attachments": {},
   "cell_type": "markdown",
   "metadata": {},
   "source": [
    "#### 7) Export file to DWG file for CAD\n"
   ]
  },
  {
   "cell_type": "code",
   "execution_count": 32,
   "metadata": {},
   "outputs": [
    {
     "name": "stdout",
     "output_type": "stream",
     "text": [
      "DWG Folder:  \\\\WM20ocqu46ph01\\WF_Projects\\NL_IJV\\4_OUTPUT\\_WTG_GRID_layouts\\NL_IJV_III_EAC_L005_276D_DA6_50T_loops_UTM31N_v1_DWG\n",
      "SHP File: \\\\WM20ocqu46ph01\\WF_Projects\\NL_IJV\\4_OUTPUT\\_WTG_GRID_layouts\\NL_IJV_III_EAC_L005_276D_DA6_50T_loops_UTM31N_v1\\NL_IJV_III_EAC_L005_276D_DA6_50T_loops_UTM31N_v1.shp\n",
      "DWG File: \\\\WM20ocqu46ph01\\WF_Projects\\NL_IJV\\4_OUTPUT\\_WTG_GRID_layouts\\NL_IJV_III_EAC_L005_276D_DA6_50T_loops_UTM31N_v1_DWG\\NL_IJV_III_EAC_L005_276D_DA6_50T_loops_UTM31N_v1.dwg\n",
      "Folder '\\\\WM20ocqu46ph01\\WF_Projects\\NL_IJV\\4_OUTPUT\\_WTG_GRID_layouts\\NL_IJV_III_EAC_L005_276D_DA6_50T_loops_UTM31N_v1_DWG' created successfully.\n"
     ]
    }
   ],
   "source": [
    "dwg_folder = os.path.join(shp_folder+ '_DWG')\n",
    "print(\"DWG Folder: \", dwg_folder)\n",
    "\n",
    "shp_file_path = os.path.join(shp_folder, shp_file)\n",
    "print(\"SHP File:\", shp_file_path)\n",
    "\n",
    "# Output DWG file\n",
    "dwg_output = os.path.join(dwg_folder, output_fc +'.dwg')\n",
    "print(\"DWG File:\", dwg_output)\n",
    "\n",
    "if not os.path.exists(dwg_folder):\n",
    "    os.makedirs(dwg_folder)\n",
    "    arcpy.conversion.ExportCAD(shp_file_path, \"DWG_R2018\", dwg_output, False, False)\n",
    "    print(f\"Folder '{dwg_folder}' created successfully.\")\n",
    "else:\n",
    "    print(f\"Folder '{dwg_folder}' already exists.\")\n"
   ]
  },
  {
   "cell_type": "code",
   "execution_count": null,
   "metadata": {},
   "outputs": [],
   "source": []
  }
 ],
 "metadata": {
  "kernelspec": {
   "display_name": "Python 3",
   "language": "python",
   "name": "python3"
  },
  "language_info": {
   "codemirror_mode": {
    "name": "ipython",
    "version": 3
   },
   "file_extension": ".py",
   "mimetype": "text/x-python",
   "name": "python",
   "nbconvert_exporter": "python",
   "pygments_lexer": "ipython3",
   "version": "3.9.16 [MSC v.1931 64 bit (AMD64)]"
  },
  "vscode": {
   "interpreter": {
    "hash": "ce21b655b4d6c9e397d5ad93d5666c623f49909f6d0cc2f72076dafcf1b3ecfb"
   }
  }
 },
 "nbformat": 4,
 "nbformat_minor": 2
}
