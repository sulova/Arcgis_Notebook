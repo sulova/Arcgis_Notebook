{
 "cells": [
  {
   "cell_type": "markdown",
   "metadata": {},
   "source": [
    "## Check GIS specification\n",
    "\n",
    "To achieve this task in Python, you can use libraries such as os for directory traversal, fiona for handling shapefiles (.shp), and geopandas for general geospatial data handling. Additionally, openpyxl can be used for writing the results to an Excel file. Here is a step-by-step guide:\n",
    "\n",
    "1) Check the folder for .shp and .dgb files.\n",
    "2) For each file, check the coordinate system and metadata.\n",
    "3) Generate an Excel file with this information."
   ]
  },
  {
   "cell_type": "code",
   "execution_count": 1,
   "metadata": {},
   "outputs": [],
   "source": [
    "# Folder containing shapefiles and file geodatabases\n",
    "folder_path = r'\\\\WM20ocqu46ph01\\WF_Projects\\DK_THO\\1_INPUT\\GRID\\20240716_from_ecodoc_004773710-06_updated\\JNHE - Onshore cable route engineering report - Land Cable\\JNHE - Onshore cable route engineering report - Land Cable\\Shape files'"
   ]
  },
  {
   "cell_type": "code",
   "execution_count": 2,
   "metadata": {},
   "outputs": [
    {
     "name": "stdout",
     "output_type": "stream",
     "text": [
      "Failed to retrieve metadata: DescribeData: Method supports does not exist\n",
      "Failed to retrieve metadata: DescribeData: Method supports does not exist\n",
      "Failed to retrieve metadata: DescribeData: Method supports does not exist\n",
      "Failed to retrieve metadata: DescribeData: Method supports does not exist\n",
      "Failed to retrieve metadata: DescribeData: Method supports does not exist\n",
      "Failed to retrieve metadata: DescribeData: Method supports does not exist\n",
      "Failed to retrieve metadata: DescribeData: Method supports does not exist\n",
      "Failed to retrieve metadata: DescribeData: Method supports does not exist\n",
      "Failed to retrieve metadata: DescribeData: Method supports does not exist\n",
      "Failed to retrieve metadata: DescribeData: Method supports does not exist\n",
      "Failed to retrieve metadata: DescribeData: Method supports does not exist\n",
      "Failed to retrieve metadata: DescribeData: Method supports does not exist\n",
      "Failed to retrieve metadata: DescribeData: Method supports does not exist\n",
      "Failed to retrieve metadata: DescribeData: Method supports does not exist\n",
      "Failed to retrieve metadata: DescribeData: Method supports does not exist\n",
      "Failed to retrieve metadata: DescribeData: Method supports does not exist\n",
      "Failed to retrieve metadata: DescribeData: Method supports does not exist\n",
      "Excel file generated: \\\\WM20ocqu46ph01\\WF_Projects\\DK_THO\\1_INPUT\\GRID\\20240716_from_ecodoc_004773710-06_updated\\JNHE - Onshore cable route engineering report - Land Cable\\JNHE - Onshore cable route engineering report - Land Cable\\Shape files\\geospatial_data_info.xlsx\n"
     ]
    }
   ],
   "source": [
    "import arcpy\n",
    "import pandas as pd\n",
    "import os\n",
    "\n",
    "# Function to get metadata (title, description, etc.)\n",
    "def get_metadata(desc):\n",
    "    metadata = {}\n",
    "    try:\n",
    "        if desc.supports('metadata'):\n",
    "            metadata_object = arcpy.metadata.Metadata(desc.catalogPath)\n",
    "            metadata['Title'] = metadata_object.title\n",
    "            metadata['Description'] = metadata_object.description\n",
    "            # Add more metadata fields as needed\n",
    "    except Exception as e:\n",
    "        print(f\"Failed to retrieve metadata: {str(e)}\")\n",
    "    return metadata\n",
    "\n",
    "\n",
    "# Initialize a list to store information\n",
    "data = []\n",
    "\n",
    "# List shapefiles (*.shp) and file geodatabases (*.gdb) in the folder\n",
    "for dirpath, dirnames, filenames in arcpy.da.Walk(folder_path, datatype=\"FeatureClass\"):\n",
    "    for filename in filenames:\n",
    "        if filename.lower().endswith('.shp'):\n",
    "            file_path = os.path.join(dirpath, filename)\n",
    "            desc = arcpy.Describe(file_path)\n",
    "            spatial_ref = desc.spatialReference.name if desc.spatialReference else \"Unknown\"\n",
    "            metadata = get_metadata(desc)\n",
    "            data.append({'File': filename, 'Full Path': file_path, 'Coordinate System': spatial_ref, 'Metadata': metadata})\n",
    "        elif filename.lower().endswith('.gdb'):\n",
    "            gdb_path = os.path.join(dirpath, filename)\n",
    "            datasets = arcpy.ListFeatureClasses(feature_dataset='', workspace=gdb_path)\n",
    "            for dataset in datasets:\n",
    "                dataset_path = os.path.join(gdb_path, dataset)\n",
    "                desc = arcpy.Describe(dataset_path)\n",
    "                spatial_ref = desc.spatialReference.name if desc.spatialReference else \"Unknown\"\n",
    "                metadata = get_metadata(desc)\n",
    "                data.append({'File': dataset, 'Full Path': dataset_path, 'Coordinate System': spatial_ref, 'Metadata': metadata})\n",
    "\n",
    "# Convert data to a Pandas DataFrame\n",
    "df = pd.DataFrame(data)\n",
    "\n",
    "# Export DataFrame to Excel\n",
    "excel_file = os.path.join(folder_path, \"geospatial_data_info.xlsx\")\n",
    "df.to_excel(excel_file, index=False)\n",
    "\n",
    "print(f\"Excel file generated: {excel_file}\")\n"
   ]
  },
  {
   "cell_type": "code",
   "execution_count": 3,
   "metadata": {},
   "outputs": [
    {
     "data": {
      "text/plain": [
       "'\\\\\\\\WM20ocqu46ph01\\\\WF_Projects\\\\DK_THO\\\\1_INPUT\\\\GRID\\\\20240716_from_ecodoc_004773710-06_updated\\\\JNHE - Onshore cable route engineering report - Land Cable\\\\JNHE - Onshore cable route engineering report - Land Cable\\\\Shape files'"
      ]
     },
     "execution_count": 3,
     "metadata": {},
     "output_type": "execute_result"
    }
   ],
   "source": [
    "folder_path"
   ]
  },
  {
   "cell_type": "markdown",
   "metadata": {},
   "source": []
  }
 ],
 "metadata": {
  "kernelspec": {
   "display_name": "ArcGISPro",
   "language": "Python",
   "name": "python3"
  },
  "language_info": {
   "file_extension": ".py",
   "name": "python",
   "version": "3"
  }
 },
 "nbformat": 4,
 "nbformat_minor": 2
}
