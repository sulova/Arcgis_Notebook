{
 "cells": [
  {
   "cell_type": "markdown",
   "metadata": {},
   "source": [
    "# GIS Data Compliance"
   ]
  },
  {
   "cell_type": "code",
   "execution_count": null,
   "metadata": {},
   "outputs": [],
   "source": [
    "import arcpy\n",
    "import os\n",
    "import pandas as pd\n",
    "from arcpy import metadata as md\n"
   ]
  },
  {
   "cell_type": "code",
   "execution_count": null,
   "metadata": {},
   "outputs": [],
   "source": [
    "root_dir =\"\\\\WM20ocqu46ph01\\WF_Projects\\DK_THO\\1_INPUT\\GRID\\20240716_from_ecodoc_004773710-06_updated\\JNHE - Onshore cable route engineering report - Land Cable\\JNHE - Onshore cable route engineering report - Land Cable\\test\"\n"
   ]
  },
  {
   "cell_type": "code",
   "execution_count": 64,
   "metadata": {},
   "outputs": [
    {
     "name": "stdout",
     "output_type": "stream",
     "text": [
      "Excel file generated: \\\\WM20ocqu46ph01\\WF_Projects\\DK_THO\\1_INPUT\\GRID\\20240716_from_ecodoc_004773710-06_updated\\JNHE - Onshore cable route engineering report - Land Cable\\JNHE - Onshore cable route engineering report - Land Cable\\test\\geospatial_data_info.xlsx\n"
     ]
    }
   ],
   "source": [
    "\n",
    "def process_files(root_dir):\n",
    "    \"\"\"Loop through directories and process shapefiles and geodatabases.\"\"\"\n",
    "    data = []\n",
    "    for dirpath, dirnames, filenames in os.walk(root_dir):\n",
    "        for dirname in dirnames:\n",
    "            for filename in filenames:\n",
    "                if filename.endswith(\".shp\"):                  \n",
    "                    file_path = os.path.join(dirpath, filename)\n",
    "                    metadata = arcpy.metadata.Metadata(file_path)\n",
    "                    desc = arcpy.Describe(file_path)\n",
    "                    spatial_ref = desc.spatialReference.name if desc.spatialReference else \"Unknown\"\n",
    "                    data.append({\"File Name\": os.path.basename(file_path),\n",
    "                                     'Full Path': file_path, \n",
    "                                     'Coordinate System': spatial_ref, \n",
    "                                     \"Title\": metadata.title if metadata.title else \"\",\n",
    "                                     \"Tags\": metadata.tags if metadata.tags else \"\",\n",
    "                                     \"Summary\": metadata.summary if metadata.summary else \"\",\n",
    "                                     \"Description\": metadata.description if metadata.description else \"\",\n",
    "                                     \"Credits\": metadata.credits if metadata.credits else \"\"})\n",
    "        \n",
    "            if dirname.endswith('.gdb'):\n",
    "                gdb_path = os.path.join(dirpath, dirname)\n",
    "                arcpy.env.workspace = gdb_path\n",
    "                for feature_class in arcpy.ListFeatureClasses():\n",
    "                    file_path = os.path.join(gdb_path, feature_class)\n",
    "                    metadata = arcpy.metadata.Metadata(file_path)\n",
    "                    desc = arcpy.Describe(file_path)\n",
    "                    spatial_ref = desc.spatialReference.name if desc.spatialReference else \"Unknown\"\n",
    "                    data.append({\"File Name\": os.path.basename(file_path),\n",
    "                                 'Full Path': file_path, \n",
    "                                 'Coordinate System': spatial_ref, \n",
    "                                 \"Title\": metadata.title if metadata.title else \"\",\n",
    "                                 \"Tags\": metadata.tags if metadata.tags else \"\",\n",
    "                                 \"Summary\": metadata.summary if metadata.summary else \"\",\n",
    "                                 \"Description\": metadata.description if metadata.description else \"\",\n",
    "                                 \"Credits\": metadata.credits if metadata.credits else \"\"})\n",
    "   \n",
    "    return data\n",
    "\n",
    "def save_to_excel(data, output_excel):\n",
    "    \"\"\"Save the data to an Excel file.\"\"\"\n",
    "    df = pd.DataFrame(data)\n",
    "    df.to_excel(output_excel, index=False)\n",
    "    df\n",
    "\n",
    "if __name__ == \"__main__\":\n",
    "    output_excel_file = os.path.join(root_directory, \"geospatial_data_info.xlsx\")\n",
    "    metadata_list = process_files(root_directory)\n",
    "    save_to_excel(metadata_list, output_excel_file)\n",
    "    print(f\"Excel file generated: {output_excel_file}\")\n"
   ]
  },
  {
   "cell_type": "code",
   "execution_count": null,
   "metadata": {},
   "outputs": [],
   "source": []
  },
  {
   "cell_type": "code",
   "execution_count": null,
   "metadata": {},
   "outputs": [],
   "source": []
  },
  {
   "cell_type": "code",
   "execution_count": null,
   "metadata": {},
   "outputs": [],
   "source": []
  },
  {
   "cell_type": "code",
   "execution_count": null,
   "metadata": {},
   "outputs": [],
   "source": []
  }
 ],
 "metadata": {
  "kernelspec": {
   "display_name": "ArcGISPro",
   "language": "Python",
   "name": "python3"
  },
  "language_info": {
   "file_extension": ".py",
   "name": "python",
   "version": "3"
  }
 },
 "nbformat": 4,
 "nbformat_minor": 2
}
