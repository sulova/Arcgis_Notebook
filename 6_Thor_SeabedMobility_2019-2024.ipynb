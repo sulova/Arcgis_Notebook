{
 "cells": [
  {
   "cell_type": "markdown",
   "metadata": {},
   "source": [
    "### Seabed Mobility [2019, 2020, 2023, 2024]"
   ]
  },
  {
   "cell_type": "markdown",
   "metadata": {},
   "source": [
    "#### Summary \n",
    "The SummaryThe code is used for seabed morphology and mobility analysis by comparing elevation data from different years (2019, 2020, 2023, 2024, 2025). It calculates differences between raster datasets, applies corrections, clips the results to buffer zones around wind turbine generator (WTG) locations, and computes zonal statistics. These statistics are then exported to Excel and CSV files for further analysis and reporting.\n",
    "\n",
    "Main Steps in the Code:\n",
    "#### 1) Environment Setup\n",
    "Sets the workspace and enables output overwriting.Defines raster datasets (2019, 2020, 2023, 2024, 2025) as inputs. Sets the WTG layout file.\n",
    "#### 2) Buffer Creation Around WTGs:\n",
    "Creates a buffer zone of 200 meters around WTG locations using arcpy.Buffer_analysis.\n",
    "#### 3) Raster Difference Calculation and Clipping:\n",
    "Loops through pairs of raster datasets, calculates differences, applies corrections, and clips the resulting raster to the WTG buffer zone.\n",
    "Zonal Statistics Calculation\n",
    "#### 4) Calculates statistical metrics (Min, Max, Mean, Percentile 90) for each clipped raster within the buffer zone.\n",
    "Saves the statistics into tables and exports them to Excel.\n",
    "#### 4) Merges zonal statistics from multiple rasters into a single Excel file and then converts it into CSV.\n",
    "#### 5) Joins the CSV data with the WTG shapefile based on common columns and creates a new shapefile with the results.\n",
    "\n",
    "If the code should be change then:\n"
   ]
  },
  {
   "cell_type": "markdown",
   "metadata": {},
   "source": [
    "## Posible  Future Changes: \n",
    "\n",
    "**1) New Raster Pair Definition:** \n",
    "\n",
    "*raster_2026= \"Path to the raster\"\n",
    "raster_pairs = [...\n",
    "            (raster_2026, raster_2019, \"26_19.tif\", 0.9),    \n",
    "            ...]*\n",
    "            \n",
    "**2) Buffer distance:**\n",
    "\n",
    "*buffer_distance = \"100 meters\"*     \n",
    "\n",
    "**3) The code correctly applies mean corrections 0.9--> 1.5**\n",
    "\n",
    "*raster_pairs = [...\n",
    "            (raster_2026, raster_2019, \"26_19.tif\", 1.5), ...]*\n",
    "            \n",
    "**4) The fields MAX, MIN, MEAN, and PCT90 are hardcoded in the calculate_zonal_statistics function. e.g. 75th percentile directly**\n",
    "\n",
    "*fields_to_keep = [\"MAX\", \"MIN\", \"MEAN\", \"PCT75\", abs_mean_field_name]*"
   ]
  },
  {
   "cell_type": "code",
   "execution_count": null,
   "metadata": {},
   "outputs": [],
   "source": [
    "import arcpy\n",
    "import numpy as np\n",
    "import os\n",
    "import pandas as pd\n",
    "\n",
    "# Set environment\n",
    "arcpy.env.overwriteOutput = True\n",
    "workspace = r\"\\\\WM20ocqu46ph01\\WF_Projects\\DK_THO\\4_OUTPUT\\SITEINV\\20241010_SeabedMobility_JustinPeterLarkin\"\n",
    "arcpy.env.workspace = workspace\n",
    "\n",
    "# Input rasters (update file paths once 2024 data is available)\n",
    "raster_2019 = r\"\\\\WM20ocqu46ph01\\WF_Projects\\DK_THO\\1_INPUT\\SITEINV\\20240206_from_WTP_004502963-03\\004502963-03-MASP - GIS Data - Task 1 - Seabed Morphology and Mobility\\RWE_Thor_Task1_v0.3.gdb\\SN2019_011_R_DTM_MBES_100CM\"\n",
    "raster_2020 = r\"\\\\WM20ocqu46ph01\\WF_Projects\\DK_THO\\1_INPUT\\SITEINV\\20240206_from_WTP_004502963-03\\004502963-03-MASP - GIS Data - Task 1 - Seabed Morphology and Mobility\\RWE_Thor_Task1_v0.3.gdb\\MMT_628_GU_OWF_T50R_DTU15_MSL_DTM_100CM\"\n",
    "raster_2023 = r\"\\\\WM20ocqu46ph01\\WF_Projects\\DK_THO\\2_FINAL\\SITEINV\\SITEINV.gdb\\DK_THO_Fugro_MBES_2023_DEM_Mean_1pt00m_ra_UTM32N_EXT\"\n",
    "raster_2024 = r\"\\\\WM20ocqu46ph01\\WF_Projects\\DK_THO\\1_INPUT\\SITEINV\\20240924_Bathy\\F248460_RWE_Thor_1m_MSL\\F248460_RWE_Thor_1m_MSL.tif\"\n",
    "raster_2025 = r\"\\\\WM20ocqu46ph01\\WF_Projects\\DK_THO\\1_INPUT\\SITEINV\\20240924_Bathy\\F248460_RWE_Thor_1m_MSL\\F248460_RWE_Thor_1m_MSL.tif\"\n",
    "\n",
    "\n",
    "wtg = r\"\\\\WM20ocqu46ph01\\WF_Projects\\DK_THO\\2_FINAL\\WTG\\WTG.gdb\\DK_THO_Layout_pt_UTM32N_v7\"\n",
    "\n",
    "\n",
    "# List of output difference raster names and correction values\n",
    "raster_pairs = [\n",
    "    (raster_2024, raster_2019, \"24_19.tif\", 0.9),     # 2024 - 2019\n",
    "    (raster_2024, raster_2023, \"24_23.tif\", 0),     # 2024 - 2023\n",
    "    (raster_2023, raster_2019, \"23_19.tif\", 0.11),  # 2023 - 2019 (+0.11)\n",
    "    (raster_2023, raster_2020, \"23_20.tif\", 0.09),  # 2023 - 2020 (+0.09)\n",
    "    (raster_2020, raster_2019, \"20_19.tif\", 0)      # 2020 - 2019 (no correction)\n",
    "    (raster_2025, raster_2019, \"20_19.tif\", 0)\n",
    "]\n",
    "\n",
    "# Buffer parameters\n",
    "buffer_distance = \"200 meters\"  # Example buffer size"
   ]
  },
  {
   "cell_type": "markdown",
   "metadata": {},
   "source": [
    "# Functions"
   ]
  },
  {
   "cell_type": "markdown",
   "metadata": {},
   "source": [
    "## A) Calculate difference rasters B) clip them to the buffer zone C) compute statistics"
   ]
  },
  {
   "cell_type": "code",
   "execution_count": 2,
   "metadata": {},
   "outputs": [
    {
     "name": "stdout",
     "output_type": "stream",
     "text": [
      "Processing difference and clipping for 24_19.tif...\n",
      "Raster clipped to buffer zone: \\\\WM20ocqu46ph01\\WF_Projects\\DK_THO\\4_OUTPUT\\SITEINV\\20241010_SeabedMobility_JustinPeterLarkin\\24_19.tif\n",
      "Processing difference and clipping for 24_23.tif...\n",
      "Raster clipped to buffer zone: \\\\WM20ocqu46ph01\\WF_Projects\\DK_THO\\4_OUTPUT\\SITEINV\\20241010_SeabedMobility_JustinPeterLarkin\\24_23.tif\n",
      "Processing difference and clipping for 23_19.tif...\n",
      "Raster clipped to buffer zone: \\\\WM20ocqu46ph01\\WF_Projects\\DK_THO\\4_OUTPUT\\SITEINV\\20241010_SeabedMobility_JustinPeterLarkin\\23_19.tif\n",
      "Processing difference and clipping for 23_20.tif...\n",
      "Raster clipped to buffer zone: \\\\WM20ocqu46ph01\\WF_Projects\\DK_THO\\4_OUTPUT\\SITEINV\\20241010_SeabedMobility_JustinPeterLarkin\\23_20.tif\n",
      "Processing difference and clipping for 20_19.tif...\n",
      "Raster clipped to buffer zone: \\\\WM20ocqu46ph01\\WF_Projects\\DK_THO\\4_OUTPUT\\SITEINV\\20241010_SeabedMobility_JustinPeterLarkin\\20_19.tif\n"
     ]
    }
   ],
   "source": [
    "# Function to create a buffer around the WTG locations\n",
    "def create_wtg_buffer(wtg_fc, buffer_distance, output_buffer):\n",
    "    arcpy.Buffer_analysis(wtg_fc, output_buffer, buffer_distance)\n",
    "\n",
    "# Combined function to calculate raster difference and clip to the buffer zone\n",
    "def calculate_and_clip_difference_raster(raster1, raster2, buffer_fc, output_name, mean_correction=0):\n",
    "    # Calculate raster difference\n",
    "    diff_raster = arcpy.sa.Raster(raster1) - arcpy.sa.Raster(raster2)\n",
    "    \n",
    "    # Apply mean correction if provided\n",
    "    if mean_correction != 0:\n",
    "        diff_raster += mean_correction\n",
    "    \n",
    "    # Clip the difference raster to the buffer zone\n",
    "    output_clipped_raster = os.path.join(workspace, output_name)\n",
    "    arcpy.Clip_management(diff_raster, \"#\", output_clipped_raster, buffer_fc, \"NoData\", \"ClippingGeometry\")\n",
    "    print(f\"Raster clipped to buffer zone: {output_clipped_raster}\")\n",
    "    \n",
    "    return output_clipped_raster\n",
    "\n",
    "# Create buffer around WTG locations\n",
    "wtg_buffer = os.path.join(workspace, \"WTG_Buffer_200m.shp\")\n",
    "create_wtg_buffer(wtg, buffer_distance, wtg_buffer)\n",
    "\n",
    "# Process rasters\n",
    "for r1, r2, output_name, correction in raster_pairs:\n",
    "    if arcpy.Exists(r1) and arcpy.Exists(r2):  # Only process if both rasters exist\n",
    "        print(f\"Processing difference and clipping for {output_name}...\")\n",
    "        calculate_and_clip_difference_raster(r1, r2, wtg_buffer, output_name, correction)\n",
    "        \n"
   ]
  },
  {
   "cell_type": "markdown",
   "metadata": {},
   "source": [
    "## Zonal statistics"
   ]
  },
  {
   "cell_type": "code",
   "execution_count": 4,
   "metadata": {},
   "outputs": [
    {
     "name": "stdout",
     "output_type": "stream",
     "text": [
      "Calculating zonal statistics for 24_19.tif...\n",
      "Zonal statistics saved to \\\\WM20ocqu46ph01\\WF_Projects\\DK_THO\\4_OUTPUT\\SITEINV\\20241010_SeabedMobility_JustinPeterLarkin\\24_19.xlsx\n",
      "Calculating zonal statistics for 24_23.tif...\n",
      "Zonal statistics saved to \\\\WM20ocqu46ph01\\WF_Projects\\DK_THO\\4_OUTPUT\\SITEINV\\20241010_SeabedMobility_JustinPeterLarkin\\24_23.xlsx\n",
      "Calculating zonal statistics for 23_19.tif...\n",
      "Zonal statistics saved to \\\\WM20ocqu46ph01\\WF_Projects\\DK_THO\\4_OUTPUT\\SITEINV\\20241010_SeabedMobility_JustinPeterLarkin\\23_19.xlsx\n",
      "Calculating zonal statistics for 23_20.tif...\n",
      "Zonal statistics saved to \\\\WM20ocqu46ph01\\WF_Projects\\DK_THO\\4_OUTPUT\\SITEINV\\20241010_SeabedMobility_JustinPeterLarkin\\23_20.xlsx\n",
      "Calculating zonal statistics for 20_19.tif...\n",
      "Zonal statistics saved to \\\\WM20ocqu46ph01\\WF_Projects\\DK_THO\\4_OUTPUT\\SITEINV\\20241010_SeabedMobility_JustinPeterLarkin\\20_19.xlsx\n",
      "Merged Excel file saved as: \\\\WM20ocqu46ph01\\WF_Projects\\DK_THO\\4_OUTPUT\\SITEINV\\20241010_SeabedMobility_JustinPeterLarkin\\merged_zonal_statistics.xlsx\n"
     ]
    }
   ],
   "source": [
    "# Function to calculate zonal statistics\n",
    "def calculate_zonal_statistics(diff_raster, buffer_fc, zone_field, output_table, raster_name_prefix):\n",
    "\n",
    "    # Shorten raster name prefix to a maximum of 6 characters for field name compliance\n",
    "    raster_name_prefix = raster_name_prefix[:6]  # Ensures prefix is max 6 characters\n",
    "\n",
    "    # Create Zonal Statistics tables for Max, Min, and Mean\n",
    "    arcpy.sa.ZonalStatisticsAsTable(buffer_fc, zone_field, diff_raster, output_table, \"DATA\", \"MIN\", \"MAX\", \"PCT90\")\n",
    "    \n",
    "    # Add the field with the new shorter name for Abs Mean (keeping it under 10 characters)\n",
    "    abs_mean_field_name = f\"Abs_{raster_name_prefix}\"\n",
    "    arcpy.AddField_management(output_table, abs_mean_field_name, \"DOUBLE\")\n",
    "    \n",
    "    # Absolute value raster for mean of magnitude\n",
    "    abs_diff_raster = arcpy.sa.Abs(diff_raster)\n",
    "    \n",
    "    # Calculate mean of magnitude (average of absolute values)\n",
    "    abs_table = os.path.join(workspace, \"abs\" + os.path.basename(output_table))\n",
    "    arcpy.sa.ZonalStatisticsAsTable(buffer_fc, zone_field, abs_diff_raster, abs_table, \"DATA\", \"MEAN\")\n",
    "    \n",
    "    # Ensure the correct field name is referenced for Abs Mean calculation\n",
    "    with arcpy.da.UpdateCursor(output_table, [zone_field, abs_mean_field_name]) as cursor:\n",
    "        with arcpy.da.SearchCursor(abs_table, [zone_field, \"MEAN\"]) as abs_cursor:\n",
    "            abs_dict = {row[0]: row[1] for row in abs_cursor}  # Create a dictionary of zone ID and Abs Mean values\n",
    "            for row in cursor:\n",
    "                zone_id = row[0]\n",
    "                if zone_id in abs_dict:\n",
    "                    row[1] = abs_dict[zone_id]\n",
    "                cursor.updateRow(row)\n",
    "    \n",
    "    # Read the output table into a DataFrame (only keep Max, Min, Mean, and Abs Mean fields)\n",
    "    fields_to_keep = [\"MAX\", \"MIN\", \"MEAN\", \"PCT90\", abs_mean_field_name]\n",
    "    df = pd.DataFrame.from_records(\n",
    "        arcpy.da.TableToNumPyArray(output_table, [zone_field] + fields_to_keep)\n",
    "    )  # Convert DBF to NumPy array and then to DataFrame\n",
    "    \n",
    "    # Rename columns with raster name prefix (keeping the fields under the 10 character limit)\n",
    "    df.columns = [f\"{col[:4]}_{raster_name_prefix}\" if col != zone_field else col for col in df.columns] \n",
    "    \n",
    "    # Change column names starting with 'Lay' to start with 'WTG'\n",
    "    df.columns = [col.replace('Layout_ID1', 'WTG') if col.startswith('Lay') else col for col in df.columns]\n",
    "    \n",
    "    # Round all numeric columns to 3 decimal places\n",
    "    numeric_cols = df.select_dtypes(include='number').columns  # Get numeric columns\n",
    "    df[numeric_cols] = df[numeric_cols].round(3)  # Round to 3 decimal places\n",
    "    \n",
    "    # Export the DataFrame to an Excel file\n",
    "    output_excel = os.path.join(workspace, os.path.basename(output_table).replace(\".dbf\", \".xlsx\"))\n",
    "    df.to_excel(output_excel, index=False, engine='openpyxl')\n",
    "\n",
    "    print(f\"Zonal statistics saved to {output_excel}\")\n",
    "\n",
    "# Zone field for WTG locations (use the field that represents unique WTG identifiers)\n",
    "zone_field = \"Layout_ID1\"\n",
    "\n",
    "\n",
    "# Initialize an empty DataFrame for merging\n",
    "merged_df = pd.DataFrame()\n",
    "\n",
    "# Iterate through raster pairs and calculate zonal statistics and join excel \n",
    "for r1, r2, output_name, correction in raster_pairs:\n",
    "    if arcpy.Exists(r1) and arcpy.Exists(r2):  # Only process if both rasters exist\n",
    "        print(f\"Calculating zonal statistics for {output_name}...\")\n",
    "        output_table = os.path.join(workspace, os.path.basename(output_name).replace(\".tif\", \".dbf\"))\n",
    "        raster_name_prefix = os.path.splitext(os.path.basename(output_name))[0]  # Extract raster name for prefixing\n",
    "        calculate_zonal_statistics(output_name, wtg_buffer, zone_field, output_table, raster_name_prefix)\n",
    "        output_excel = os.path.join(workspace, os.path.basename(output_name).replace(\".tif\", \".xlsx\"))\n",
    "        df = pd.read_excel(output_excel)\n",
    "         # Merge with the existing DataFrame on 'WTG' column\n",
    "        if merged_df.empty:\n",
    "            merged_df = df\n",
    "        else:\n",
    "            merged_df = pd.merge(merged_df, df, on='WTG', how='outer')\n",
    "        \n",
    "# Save the merged DataFrame to a new Excel file\n",
    "merged_output_excel = os.path.join(workspace, \"merged_zonal_statistics.xlsx\")\n",
    "merged_df.to_excel(merged_output_excel, index=False, engine='openpyxl')\n",
    "\n",
    "print(f\"Merged Excel file saved as: {merged_output_excel}\")\n"
   ]
  },
  {
   "cell_type": "markdown",
   "metadata": {},
   "source": [
    "### Join Merged Stat excel file with WTG buffer shp"
   ]
  },
  {
   "cell_type": "code",
   "execution_count": 16,
   "metadata": {},
   "outputs": [
    {
     "data": {
      "text/html": [
       "<div class='gpresult'><h2>Messages</h2><div id='messages' data-messages='[\"Start Time: Friday, October 4, 2024 1:02:12 PM\",\"Succeeded at Friday, October 4, 2024 1:02:13 PM (Elapsed Time: 1.12 seconds)\"]' data-show='true'><div id = 'default' /></div></div>"
      ],
      "text/plain": [
       "<Result '\\\\\\\\WM20ocqu46ph01\\\\WF_Projects\\\\DK_THO\\\\4_OUTPUT\\\\SITEINV\\\\20241010_SeabedMobility_JustinPeterLarkin\\\\STAT.shp'>"
      ]
     },
     "execution_count": 16,
     "metadata": {},
     "output_type": "execute_result"
    }
   ],
   "source": [
    "temp_csv_path = os.path.join(workspace, \"merged_statistics.csv\")\n",
    "\n",
    "# Load the merged Excel into a DataFrame and convert to CSV\n",
    "merged_df = pd.read_excel(merged_output_excel)\n",
    "\n",
    "# Replace 0 in numeric columns with NaN\n",
    "merged_df.loc[:, merged_df.select_dtypes(include='number').columns] = merged_df.select_dtypes(include='number').replace(0, np.nan)\n",
    "merged_df.to_csv(temp_csv_path, index=False)\n",
    "\n",
    "shapefile_join_column = \"Layout_ID1\"  # Column name in the shapefile\n",
    "csv_join_column = \"WTG\"  # Column name in the CSV\n",
    "\n",
    "# Add join\n",
    "arcpy.management.AddJoin(wtg_buffer, shapefile_join_column, temp_csv_path, csv_join_column)\n",
    "\n",
    "# Copy features to new shapefile\n",
    "arcpy.management.CopyFeatures(wtg_buffer, \"STAT\")\n"
   ]
  },
  {
   "cell_type": "code",
   "execution_count": null,
   "metadata": {},
   "outputs": [],
   "source": []
  }
 ],
 "metadata": {
  "kernelspec": {
   "display_name": "ArcGISPro",
   "language": "Python",
   "name": "python3"
  },
  "language_info": {
   "file_extension": ".py",
   "name": "python",
   "version": "3"
  }
 },
 "nbformat": 4,
 "nbformat_minor": 2
}
