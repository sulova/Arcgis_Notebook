{
 "cells": [
  {
   "cell_type": "markdown",
   "metadata": {},
   "source": [
    "## 1) Adding Coord (UTM31 ETRS1989, ETRS1989) and Export to SHP and Excel DWG file\n"
   ]
  },
  {
   "cell_type": "code",
   "execution_count": 4,
   "metadata": {},
   "outputs": [],
   "source": [
    "# Import arcpy module\n",
    "import arcpy\n",
    "import numpy\n",
    "import os\n",
    "import pandas as pd\n",
    "from IPython.display import display, HTML\n",
    "from ipywidgets import widgets\n",
    "from IPython.display import clear_output"
   ]
  },
  {
   "cell_type": "markdown",
   "metadata": {},
   "source": [
    "#### A) AddCoord [UTM31 ETRS1989, ETRS1989]\n",
    "Specifying the paths for the input feature class and the directory for Excel output."
   ]
  },
  {
   "cell_type": "code",
   "execution_count": 1,
   "metadata": {},
   "outputs": [],
   "source": [
    "# Set the input feature class\n",
    "in_fc = r\"\\\\WM20ocqu46ph01\\WF_Projects\\NL_HKW\\2_FINAL\\INNOVATION\\INNOVATION.gdb\\HKW_VII_Subsea_Battery_pt_UTM31N_v2\"\n",
    "\n",
    "# Define the directory for Excel output\n",
    "directory_excel = r\"\\\\WM20ocqu46ph01\\WF_Projects\\NL_HKW\\4_OUTPUT\\_Innovation\\HKW_VII_Subsea_Battery_pt_UTM31N_v2\"\n"
   ]
  },
  {
   "cell_type": "markdown",
   "metadata": {},
   "source": [
    "#### B) To delete attribute fields from a feature class "
   ]
  },
  {
   "cell_type": "code",
   "execution_count": 3,
   "metadata": {},
   "outputs": [
    {
     "name": "stdout",
     "output_type": "stream",
     "text": [
      "Fields: ['OBJECTID', 'Shape']\n",
      "Fields: ['OBJECTID', 'Shape']\n"
     ]
    }
   ],
   "source": [
    "# Delete the fields and Set the field names to delete\n",
    "del_fields = [\"X_ETRS_UTM31\", \"Y_ETRS_UTM31\",\"X_ETRS\", \"Y_ETRS\", 'POINT_X', 'POINT_Y']\n",
    "\n",
    "arcpy.DeleteField_management(in_fc, del_fields)\n",
    "\n",
    "# Get remaining fields after deletion\n",
    "fields = [field.name for field in arcpy.ListFields(in_fc)]\n",
    "print('All Fields:',fields)\n",
    "\n",
    "arcpy.DeleteField_management(in_fc, del_fields)\n",
    "\n",
    "# Create a search cursor to fetch data from the feature class\n",
    "fields = [field.name for field in arcpy.ListFields(in_fc)]\n",
    "print('Fields:',fields)\n"
   ]
  },
  {
   "cell_type": "code",
   "execution_count": 4,
   "metadata": {},
   "outputs": [
    {
     "name": "stdout",
     "output_type": "stream",
     "text": [
      "Fields: ['OBJECTID', 'Shape', 'X_ETRS_UTM31', 'Y_ETRS_UTM31', 'POINT_Z', 'X_ETRS', 'Y_ETRS']\n"
     ]
    }
   ],
   "source": [
    "# ETRS 1989 UTM Zone 31N - 25831\n",
    "# Set the output coordinate system\n",
    "out_sr = arcpy.SpatialReference(25831) \n",
    "\n",
    "# Add geometry attributes\n",
    "geom_props = \"POINT_X_Y_Z_M\"\n",
    "arcpy.AddGeometryAttributes_management(in_fc, geom_props , \"\", \"\", out_sr)\n",
    "\n",
    "\n",
    "\n",
    "# Rename the fields POINT_X and POINT_Y to X_COORD and Y_COORD\n",
    "arcpy.AlterField_management(in_fc, \"POINT_X\", \"X_ETRS_UTM31\", \"Easting [ETRS 1989 UTM31] \")\n",
    "arcpy.AlterField_management(in_fc, \"POINT_Y\", \"Y_ETRS_UTM31\", \"Northing [ETRS 1989 UTM31]\")\n",
    "\n",
    "\n",
    "# Create an update cursor to access the rows of the feature class\n",
    "with arcpy.da.UpdateCursor(in_fc, [\"X_ETRS_UTM31\", \"Y_ETRS_UTM31\"]) as cursor:\n",
    "    # Loop through each row\n",
    "    for row in cursor:\n",
    "        # Round the coordinates to 1 decimal place using numpy.round\n",
    "        row[0] = numpy.round(row[0], 0)\n",
    "        row[1] = numpy.round(row[1], 0)\n",
    "        # Update the row with the rounded values\n",
    "        cursor.updateRow(row)\n",
    "\n",
    "\n",
    "# ETRS1989 - 4258\n",
    "# Set the output coordinate system\n",
    "out_sr = arcpy.SpatialReference(4258) \n",
    "geom_props = \"POINT_X_Y_Z_M\"\n",
    "arcpy.AddGeometryAttributes_management(in_fc, geom_props , \"\", \"\", out_sr)\n",
    "\n",
    "\n",
    "# Rename the fields POINT_X and POINT_Y to X_COORD and Y_COORD\n",
    "arcpy.AlterField_management(in_fc, \"POINT_X\", \"X_ETRS\", \"X [ETRS 1989]\")\n",
    "arcpy.AlterField_management(in_fc, \"POINT_Y\", \"Y_ETRS\", \"Y [ETRS 1989]\")\n",
    "\n",
    "# Create a search cursor to fetch data from the feature class\n",
    "fields = [field.name for field in arcpy.ListFields(in_fc)]\n",
    "print('Fields:',fields)\n",
    "\n"
   ]
  },
  {
   "cell_type": "markdown",
   "metadata": {},
   "source": [
    "#### C) Export to SHP and Excel"
   ]
  },
  {
   "cell_type": "code",
   "execution_count": 8,
   "metadata": {},
   "outputs": [
    {
     "name": "stdout",
     "output_type": "stream",
     "text": [
      "Excel Path: \\\\WM20ocqu46ph01\\WF_Projects\\NL_HKW\\4_OUTPUT\\_Innovation\\HKW_VII_Subsea_Battery_pt_UTM31N_v2\\HKW_VII_Subsea_Battery_pt_UTM31N_v2.xlsx\n",
      "Shp Path: \\\\WM20ocqu46ph01\\WF_Projects\\NL_HKW\\4_OUTPUT\\_Innovation\\HKW_VII_Subsea_Battery_pt_UTM31N_v2\\HKW_VII_Subsea_Battery_pt_UTM31N_v2.shp\n"
     ]
    }
   ],
   "source": [
    "\n",
    "# Extract directory and file name\n",
    "file_path = os.path.dirname(in_fc)\n",
    "file_name = in_fc.split(os.path.sep)[-1]\n",
    "excel_name = file_name +\".xlsx\"\n",
    "shp_name = file_name +\".shp\"\n",
    "\n",
    "\n",
    "ouput_excel = os.path.join(directory_excel, excel_name)\n",
    "output_shapefile = os.path.join(directory_excel, shp_name)\n",
    "\n",
    "# print(\"Full Path:\", in_fc)\n",
    "# print(\"Directory:\", file_path)\n",
    "print(\"Excel Path:\", ouput_excel)\n",
    "print(\"Shp Path:\", output_shapefile)\n"
   ]
  },
  {
   "cell_type": "code",
   "execution_count": 9,
   "metadata": {},
   "outputs": [
    {
     "name": "stdout",
     "output_type": "stream",
     "text": [
      "Folder '\\\\WM20ocqu46ph01\\WF_Projects\\NL_HKW\\4_OUTPUT\\_Innovation\\HKW_VII_Subsea_Battery_pt_UTM31N_v2' already exists.\n",
      "Attribute table: \\\\WM20ocqu46ph01\\WF_Projects\\NL_HKW\\4_OUTPUT\\_Innovation\\HKW_VII_Subsea_Battery_pt_UTM31N_v2\\HKW_VII_Subsea_Battery_pt_UTM31N_v2.shp\n",
      "Shapefile: \\\\WM20ocqu46ph01\\WF_Projects\\NL_HKW\\4_OUTPUT\\_Innovation\\HKW_VII_Subsea_Battery_pt_UTM31N_v2\\HKW_VII_Subsea_Battery_pt_UTM31N_v2.xlsx\n"
     ]
    }
   ],
   "source": [
    "if not os.path.exists(directory_excel):\n",
    "    os.makedirs(directory_excel)\n",
    "    print(f\"Folder '{directory_excel}' created successfully.\")\n",
    "else:\n",
    "    print(f\"Folder '{directory_excel}' already exists.\")\n",
    "\n",
    "\n",
    "# Export attribute table to Excel\n",
    "arcpy.TableToExcel_conversion(in_fc, ouput_excel)\n",
    "# Export feature class to shapefile\n",
    "arcpy.CopyFeatures_management(in_fc, output_shapefile)\n",
    "\n",
    "print(\"Attribute table:\", output_shapefile)\n",
    "print(\"Shapefile:\", ouput_excel )\n",
    "\n"
   ]
  },
  {
   "cell_type": "code",
   "execution_count": null,
   "metadata": {},
   "outputs": [],
   "source": []
  }
 ],
 "metadata": {
  "kernelspec": {
   "display_name": "ArcGISPro",
   "language": "Python",
   "name": "python3"
  },
  "language_info": {
   "file_extension": ".py",
   "name": "python",
   "version": "3"
  },
  "vscode": {
   "interpreter": {
    "hash": "ce21b655b4d6c9e397d5ad93d5666c623f49909f6d0cc2f72076dafcf1b3ecfb"
   }
  }
 },
 "nbformat": 4,
 "nbformat_minor": 2
}
