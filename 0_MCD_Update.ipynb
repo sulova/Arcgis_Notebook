{
 "cells": [
  {
   "cell_type": "markdown",
   "metadata": {},
   "source": [
    "## Check GIS specification\n",
    "\n",
    "To achieve this task in Python, you can use libraries such as os for directory traversal, fiona for handling shapefiles (.shp), and geopandas for general geospatial data handling. Additionally, openpyxl can be used for writing the results to an Excel file. Here is a step-by-step guide:\n",
    "\n",
    "1) Check the folder for .shp and .dgb files.\n",
    "2) For each file, check the coordinate system and metadata.\n",
    "3) Generate an Excel file with this information."
   ]
  },
  {
   "cell_type": "code",
   "execution_count": 1,
   "metadata": {},
   "outputs": [],
   "source": [
    "import shutil\n",
    "import os\n",
    "import arcpy\n",
    "\n",
    "# === Set version info ===\n",
    "old_version = \"10\"\n",
    "new_version = \"11\"\n",
    "\n",
    "# === Define paths ===\n",
    "base_path = r\"\\\\WM20ocqu46ph01\\WF_Projects\\DK_THO\\4_OUTPUT\\_MCD\"\n",
    "folder_template = \"005356185-{} - THO - Master Construction Drawing\""
   ]
  },
  {
   "cell_type": "markdown",
   "metadata": {},
   "source": [
    "## 1) Copies the folder from old version to a new version (e.g., 005356185-10--> 005356185- 11)\n"
   ]
  },
  {
   "cell_type": "code",
   "execution_count": 2,
   "metadata": {},
   "outputs": [
    {
     "name": "stdout",
     "output_type": "stream",
     "text": [
      "❌ Source folder not found:\n",
      "\\\\WM20ocqu46ph01\\WF_Projects\\DK_THO\\4_OUTPUT\\_MCD\\005356185-10 - THO - Master Construction Drawing\n"
     ]
    }
   ],
   "source": [
    "src_folder = os.path.join(base_path, folder_template.format(old_version))\n",
    "dst_folder = os.path.join(base_path, folder_template.format(new_version))\n",
    "\n",
    "# === Step 1: Copy the folder ===\n",
    "try:\n",
    "    shutil.copytree(src_folder, dst_folder)\n",
    "    print(f\"✅ Folder copied from:\\n{src_folder}\\nto:\\n{dst_folder}\")\n",
    "except FileExistsError:\n",
    "    print(f\"⚠️ Destination folder already exists:\\n{dst_folder}\")\n",
    " \n",
    "except FileNotFoundError:\n",
    "    print(f\"❌ Source folder not found:\\n{src_folder}\")\n",
    "  \n",
    "except Exception as e:\n",
    "    print(f\"❌ Error copying folder:\\n{e}\")\n"
   ]
  },
  {
   "cell_type": "markdown",
   "metadata": {},
   "source": [
    "## 2) Renames all files inside the copied folder, e.g. 005356185-10.. with 005356185-11..."
   ]
  },
  {
   "cell_type": "code",
   "execution_count": 3,
   "metadata": {},
   "outputs": [
    {
     "name": "stdout",
     "output_type": "stream",
     "text": [
      "✅ Finished. 0 files renamed in folder version 11.\n"
     ]
    }
   ],
   "source": [
    "# Rename files inside the copied folder ===\n",
    "renamed_files = 0\n",
    "for root, dirs, files in os.walk(dst_folder):\n",
    "    for filename in files:\n",
    "        if f\"-{old_version}\" in filename:\n",
    "            old_path = os.path.join(root, filename)\n",
    "            new_filename = filename.replace(f\"-{old_version}\", f\"-{new_version}\")\n",
    "            new_path = os.path.join(root, new_filename)\n",
    "            os.rename(old_path, new_path)\n",
    "            renamed_files += 1\n",
    "            print(f\"🔁 Renamed: {filename} → {new_filename}\")\n",
    "\n",
    "print(f\"✅ Finished. {renamed_files} files renamed in folder version {new_version}.\")"
   ]
  },
  {
   "cell_type": "markdown",
   "metadata": {},
   "source": [
    "## 3) MONOPILES\n",
    "\n",
    "- 🌐 Open: [https://rwe.vissim.no/flexview](https://rwe.vissim.no/flexview) to see the latest update, click the **\"ℹ️\" (Info)** icon in the lower-left corner for more information.\n",
    "\n",
    "### 📌 As Built Monopiles from JDN & AS BUILT: Monopile Outer Diameter – **8.6 m**\n",
    "\n",
    "Please complete all steps **before running the script below**:\n",
    "\n",
    "1. 🔽 **Download PDFs**  \n",
    "   - URL: [https://share.jandenul.com/](https://share.jandenul.com/)  \n",
    "   - **Username**: DKTRTI,  **Password**: RKHJEB5LvcnVZw2\n",
    "\n",
    "2. 💾 **Save PDFs** here:  \n",
    "   *\\\\WM20ocqu46ph01\\WF_Projects\\DK_THO\\1_INPUT\\CONSTR\\2025\\20250505 As Built Monopiles from JDN*\n",
    "\n",
    "\n",
    "3. 📋 **Extract and copy relevant data** into this Excel file:  \n",
    "   *\\\\WM20ocqu46ph01\\WF_Projects\\DK_THO\\1_INPUT\\CONSTR\\2025\\20250505 As Built Monopiles from JDN\\DK_THO_AsBuilt_Monopile_pt_UTM32N_ta_v0.xlsx*\n",
    "\n",
    "\n",
    "4. 📤 **Export the cleaned data to CSV**: \n",
    "   *\\\\WM20ocqu46ph01\\WF_Projects\\DK_THO\\1_INPUT\\CONSTR\\2025\\20250505 As Built Monopiles from JDN\\DK_THO_AsBuilt_Monopile_pt_UTM32N_ta_v0.csv*\n",
    "\n",
    "\n",
    "### ⚠️ CRITICAL NOTE: Before Running the Code\n",
    "\n",
    "- ❗ **Ensure that the `005356185_THOR_Master_Construction_Drawing.aprx` project is closed** before running the script — otherwise layer will be not in the content (run over different aprx or VS code) \n",
    "\n",
    "    Two files are ouput:\n",
    "    - *DK_THO_AsBuilt_Monopile_pt_UTM32N_pt_v0*\n",
    "    - *DK_THO_AsBuilt_Monopile_OuterDiameter8pt6m_py_UTM32N_pt_v0*\n",
    "    \n",
    "\n",
    "- ❗ After running the script, **open the attribute table** for:  \n",
    " * 2_FINAL\\WTG\\WTG.gdb\\DK_THO_AsBuilt_Monopile_OuterDiameter8pt6m_py_UTM32N_pt_v0* **Delete any empty rows manually**\n",
    "\n"
   ]
  },
  {
   "cell_type": "code",
   "execution_count": 10,
   "metadata": {},
   "outputs": [
    {
     "name": "stdout",
     "output_type": "stream",
     "text": [
      "✅ Point feature class was deleted: \\\\WM20ocqu46ph01\\WF_Projects\\DK_THO\\2_FINAL\\WTG\\WTG.gdb\\DK_THO_AsBuilt_Monopile_pt_UTM32N_pt_v0\n",
      "✅ Point feature class created: \\\\WM20ocqu46ph01\\WF_Projects\\DK_THO\\2_FINAL\\WTG\\WTG.gdb\\DK_THO_AsBuilt_Monopile_pt_UTM32N_pt_v0\n",
      "✅ Point feature class was deleted: \\\\WM20ocqu46ph01\\WF_Projects\\DK_THO\\2_FINAL\\WTG\\WTG.gdb\\DK_THO_AsBuilt_Monopile_OuterDiameter8pt6m_py_UTM32N_pt_v0\n",
      "✅ Buffer feature class created: \\\\WM20ocqu46ph01\\WF_Projects\\DK_THO\\2_FINAL\\WTG\\WTG.gdb\\DK_THO_AsBuilt_Monopile_OuterDiameter8pt6m_py_UTM32N_pt_v0\n"
     ]
    }
   ],
   "source": [
    "# === INPUTS ===\n",
    "csv_file = r\"\\\\WM20ocqu46ph01\\WF_Projects\\DK_THO\\1_INPUT\\CONSTR\\2025\\20250505 As Built Monopiles from JDN\\DK_THO_AsBuilt_Monopile_pt_UTM32N_ta_v0.csv\"\n",
    "x_field = \"POS_ASBUILT_EAST\"\n",
    "y_field = \"POS_ASBUILT_NORTH\"\n",
    "spatial_ref = arcpy.SpatialReference(32632)  # UTM Zone 32N\n",
    "\n",
    "# === OUTPUTS ===\n",
    "point_fc = r\"\\\\WM20ocqu46ph01\\WF_Projects\\DK_THO\\2_FINAL\\WTG\\WTG.gdb\\DK_THO_AsBuilt_Monopile_pt_UTM32N_pt_v0\"\n",
    "buffer_fc = r\"\\\\WM20ocqu46ph01\\WF_Projects\\DK_THO\\2_FINAL\\WTG\\WTG.gdb\\DK_THO_AsBuilt_Monopile_OuterDiameter8pt6m_py_UTM32N_pt_v0\"\n",
    "\n",
    "\n",
    "# === STEP 1: Create Point Feature Class ===\n",
    "if arcpy.Exists(point_fc):\n",
    "    arcpy.Delete_management(point_fc)\n",
    "    print(f\"✅ Point feature class was deleted: {point_fc}\")\n",
    "\n",
    "arcpy.management.XYTableToPoint(\n",
    "    in_table=csv_file,\n",
    "    out_feature_class=point_fc,\n",
    "    x_field=x_field,\n",
    "    y_field=y_field,\n",
    "    coordinate_system=spatial_ref\n",
    ")\n",
    "\n",
    "print(f\"✅ Point feature class created: {point_fc}\")\n",
    "\n",
    "# === STEP 2: Create 4.3m Buffer ===\n",
    "if arcpy.Exists(buffer_fc):\n",
    "    arcpy.Delete_management(buffer_fc)\n",
    "    print(f\"✅ Point feature class was deleted: {buffer_fc}\")\n",
    "\n",
    "arcpy.analysis.PairwiseBuffer(\n",
    "    in_features=point_fc,\n",
    "    out_feature_class=buffer_fc,\n",
    "    buffer_distance_or_field=\"4.3 Meters\",\n",
    "    dissolve_option=\"NONE\"\n",
    ")\n",
    "\n",
    "print(f\"✅ Buffer feature class created: {buffer_fc}\")"
   ]
  },
  {
   "cell_type": "markdown",
   "metadata": {},
   "source": [
    "### 3.3  *ANNOTATION – As Built Monopile Location*\n",
    "\n",
    "1. 🔁 **Copy & Rename the Map**  \n",
    "   - Open the .aprx project and *Duplicate* the map named:  \n",
    "     *005356185-{old_version} THOR Master Construction Drawing CAD*  \n",
    "   - Rename the copy to:  \n",
    "     *005356185-{new_version} THOR Master Construction Drawing CAD*`\n",
    "     \n",
    "\n",
    "2. 👁️ **Check Labels**  \n",
    "   - Ensure labels are **visible** for the following feature class:  \n",
    "     **As Built Monopile** - DK_THO_AsBuilt_Monopile_pt_UTM32N_pt_v0`\n",
    "     \n",
    "\n",
    "3. 💬 **Convert Labels to Annotation**  \n",
    "   - If labels are showing correctly:  \n",
    "     → Run the **\"Convert Labels to Annotation\"** tool  \n",
    "     → Save the annotation layer as: *DK_THO_AsBuilt_Monopile_pt_UTM32N_pt_v0_Annotation*\n",
    "     \n",
    "\n",
    "4. ➕ **Add to New Map**  \n",
    "   - Add the newly created annotation layer to the map:  \n",
    "     *005356185-{new_version} THOR Master Construction Drawing CAD*\n",
    "\n",
    "---\n",
    "\n"
   ]
  },
  {
   "cell_type": "code",
   "execution_count": 18,
   "metadata": {},
   "outputs": [
    {
     "name": "stdout",
     "output_type": "stream",
     "text": [
      "✅ Map '005356185-11 THOR Master Construction Drawing CAD' loaded.\n",
      "✅ Labels enabled for 'As Built Monopile'.\n",
      "✅ Annotation feature class saved at: \\\\WM20ocqu46ph01\\WF_Projects\\DK_THO\\2_FINAL\\WTG\\WTG.gdb/As_Built_Monopile_Annotation\n",
      "✅✅ Renamed annotation feature class to: \\\\WM20ocqu46ph01\\WF_Projects\\DK_THO\\2_FINAL\\WTG\\WTG.gdb/DK_THO_AsBuilt_Monopile_pt_UTM32N_pt_v0_Annotation\n"
     ]
    }
   ],
   "source": [
    "# === Load the project ===\n",
    "import arcpy\n",
    "\n",
    "# === INPUTS ===\n",
    "new_version = \"11\"\n",
    "aprx_path = r\"\\\\WM20ocqu46ph01\\WF_Projects\\DK_THO\\4_OUTPUT\\_MCD\\005356185_THOR_Master_Construction_Drawing.aprx\"\n",
    "output_gdb = r\"\\\\WM20ocqu46ph01\\WF_Projects\\DK_THO\\2_FINAL\\WTG\\WTG.gdb\"\n",
    "layer_name = \"As Built Monopile\"\n",
    "output_annotation_suffix = \"_Annotation\"\n",
    "new_map_name = f\"005356185-{new_version} THOR Master Construction Drawing CAD\"\n",
    "reference_scale = 100\n",
    "\n",
    "aprx = arcpy.mp.ArcGISProject(aprx_path)\n",
    "target_map = next((m for m in aprx.listMaps() if m.name == new_map_name), None)\n",
    "if not target_map:\n",
    "    raise Exception(f\"❌ Map '{new_map_name}' not found.\")\n",
    "print(f\"✅ Map '{new_map_name}' loaded.\")\n",
    "\n",
    "# === Find the layer ===\n",
    "layer = next((lyr for lyr in target_map.listLayers() if lyr.name == layer_name), None)\n",
    "if not layer or not layer.supports(\"SHOWLABELS\"):\n",
    "    raise Exception(f\"❌ Layer '{layer_name}' not found or doesn't support labels.\")\n",
    "\n",
    "layer.showLabels = True\n",
    "print(f\"✅ Labels enabled for '{layer_name}'.\")\n",
    "\n",
    "\n",
    "arcpy.cartography.ConvertLabelsToAnnotation(\n",
    "    input_map= target_map,\n",
    "    conversion_scale= 100,\n",
    "    output_geodatabase= output_gdb,\n",
    "    anno_suffix= output_annotation_suffix,\n",
    "    extent='394631.907089481 6223623.59608526 450316.163918058 6267404.33424396 PROJCS[\"WGS_1984_UTM_Zone_32N\",GEOGCS[\"GCS_WGS_1984\",DATUM[\"D_WGS_1984\",SPHEROID[\"WGS_1984\",6378137.0,298.257223563]],PRIMEM[\"Greenwich\",0.0],UNIT[\"Degree\",0.0174532925199433]],PROJECTION[\"Transverse_Mercator\"],PARAMETER[\"False_Easting\",500000.0],PARAMETER[\"False_Northing\",0.0],PARAMETER[\"Central_Meridian\",9.0],PARAMETER[\"Scale_Factor\",0.9996],PARAMETER[\"Latitude_Of_Origin\",0.0],UNIT[\"Meter\",1.0]]',\n",
    "    generate_unplaced=\"GENERATE_UNPLACED\",\n",
    "    require_symbol_id=None,\n",
    "    feature_linked=None,\n",
    "    auto_create=\"AUTO_CREATE\",\n",
    "    update_on_shape_change=\"SHAPE_UPDATE\",\n",
    "    output_group_layer=\"GroupAnno\",\n",
    "    which_layers=\"SINGLE_LAYER\",\n",
    "    single_layer=\"As Built Monopile\",\n",
    "    multiple_feature_classes=\"FEATURE_CLASS_PER_FEATURE_LAYER\",\n",
    "    merge_label_classes=\"NO_MERGE_LABEL_CLASS\")\n",
    "\n",
    "\n",
    "# After conversion\n",
    "annotation_fc = f\"{output_gdb}/As_Built_Monopile{output_annotation_suffix}\"\n",
    "new_fc = f\"{output_gdb}/DK_THO_AsBuilt_Monopile_pt_UTM32N_pt_v0_Annotation\"     \n",
    "\n",
    "if arcpy.Exists(annotation_fc):\n",
    "    print(f\"✅ Annotation feature class saved at: {annotation_fc}\")\n",
    "    if arcpy.Exists(new_fc):\n",
    "        arcpy.Delete_management(new_fc)\n",
    "    arcpy.Rename_management(annotation_fc, new_fc)\n",
    "    print(f\"✅✅ Renamed annotation feature class to: {new_fc}\")\n",
    "else:\n",
    "    # Print warning if not found\n",
    "    print(f\"⚠️ Annotation feature class NOT found at: {annotation_fc}\")\n",
    "    "
   ]
  },
  {
   "cell_type": "markdown",
   "metadata": {},
   "source": [
    "## 4) SST (VESSEL – As Built Footprint – MPI Adventure)\n",
    "\n",
    "- **Step 1:** Open **EcoCod** and search for the title: *'VAO - Adventure T*'*\n",
    "\n",
    "- **Step 2:** Review the top search results, specifically project 005938436-01.\n",
    "\n",
    "- **Step 3:** The relevant DWG file from ecodoc should be saved to:  \n",
    "  \\\\WM20ocqu46ph01\\WF_Projects\\DK_THO\\1_INPUT\\CONSTR\\2025\\20250604 As Built Secondary Steel Installation from Van Oord\n",
    "  \n",
    "  It will come with the improve once data available\n"
   ]
  },
  {
   "cell_type": "markdown",
   "metadata": {},
   "source": [
    "## 5) Add Layer to MCDS with Custom Fields and Values\n",
    "\n",
    "1. **Add Fields**\n",
    "   - Add a new field called *LAYER* (type: String) to the feature class.\n",
    "   - Add a new field called *SYMBOL* (type: String) to the feature class.\n",
    "\n",
    "2. **Update Field Values**\n",
    "   - Replace values in the *LAYER* field with corresponding `cad_layer_name` values.\n",
    "   - Replace values in the *SYMBOL* field with corresponding `ArcGIS_value` values.\n",
    "\n",
    "> This step ensures that the layer contains standardized naming for both CAD and ArcGIS symbology references.\n"
   ]
  },
  {
   "cell_type": "code",
   "execution_count": 23,
   "metadata": {},
   "outputs": [
    {
     "name": "stdout",
     "output_type": "stream",
     "text": [
      "🆕 Field 'LAYER' added.\n",
      "🆕 Field 'SYMBOL' added.\n",
      "✅ Updated LAYER and SYMBOL fields in: \\\\WM20ocqu46ph01\\WF_Projects\\DK_THO\\2_FINAL\\VESSELS\\VESSELS.gdb\\DK_THO_JB115_JackUpBarge_li_UTM32N_v0\n"
     ]
    }
   ],
   "source": [
    "import arcpy\n",
    "\n",
    "# === Path to feature class ===\n",
    "gdb_path = r\"\\\\WM20ocqu46ph01\\WF_Projects\\DK_THO\\2_FINAL\\VESSELS\\VESSELS.gdb\"\n",
    "name_FC = \"DK_THO_JB115_JackUpBarge_li_UTM32N_v0\"\n",
    "fc = f\"{gdb_path}\\\\{name_FC}\"\n",
    "\n",
    "# === Add fields if missing ===\n",
    "for field in [\"LAYER\", \"SYMBOL\"]:\n",
    "    if field not in [f.name for f in arcpy.ListFields(fc)]:\n",
    "        arcpy.AddField_management(fc, field, \"TEXT\")\n",
    "        print(f\"🆕 Field '{field}' added.\")\n",
    "    else:\n",
    "        print(f\"✅ Field '{field}' already exists.\")\n",
    "\n",
    "# === Layer mapping ===\n",
    "layer_map = {\n",
    "    \"JUB Install\":               \"VESSEL - As Planned JUB Mooring Plan Installation\", \n",
    "    \"JUB Stand Off\":             \"VESSEL - As Planned JUB Mooring Plan Standoff\",\n",
    "    \"Mooring wire Installation\": \"VESSEL - As Planned JUB Mooring Plan Installation\",\n",
    "    \"Mooring wire Stand Off\":    \"VESSEL - As Planned JUB Mooring Plan Standoff\",\n",
    "}\n",
    "\n",
    "# === Symbol mapping ===\n",
    "symbol_map = {\n",
    "    \"VESSEL - As Planned JUB Mooring Plan Installation\": \"As Planned JUB Mooring Plan Installation\",\n",
    "    \"VESSEL - As Planned JUB Mooring Plan Standoff\":     \"As Planned JUB Mooring Plan Standoff\",\n",
    "    \"VESSEL - As Planned JUB Midline buoy\":              \"As Planned JUB Midline buoy\",\n",
    "    \"VESSEL - As Planned JUB Anchor\":                    \"As Planned JUB Anchor\"\n",
    "}\n",
    "\n",
    "# === Update LAYER and SYMBOL fields ===\n",
    "with arcpy.da.UpdateCursor(fc, [\"LAYER\", \"SYMBOL\"]) as cursor:\n",
    "    for row in cursor:\n",
    "        # Apply layer mapping if applicable\n",
    "        row[0] = layer_map.get(row[0], row[0])\n",
    "        # Copy LAYER value to SYMBOL\n",
    "        row[1] = row[0]\n",
    "        # Apply symbol mapping (optional override)\n",
    "        row[1] = symbol_map.get(row[1], row[1])\n",
    "        cursor.updateRow(row)\n",
    "\n",
    "print(f\"✅ Updated LAYER and SYMBOL fields in: {fc}\")\n"
   ]
  },
  {
   "cell_type": "code",
   "execution_count": 22,
   "metadata": {},
   "outputs": [
    {
     "name": "stdout",
     "output_type": "stream",
     "text": [
      "🗑️ Field 'SYMBOL' deleted.\n"
     ]
    }
   ],
   "source": [
    "\n",
    "\n",
    "arcpy.DeleteField_management(fc, [\"SYMBOL\"])\n",
    "print(\"🗑️ Field 'SYMBOL' deleted.\")"
   ]
  },
  {
   "cell_type": "code",
   "execution_count": null,
   "metadata": {},
   "outputs": [],
   "source": []
  },
  {
   "cell_type": "code",
   "execution_count": null,
   "metadata": {},
   "outputs": [],
   "source": []
  }
 ],
 "metadata": {
  "kernelspec": {
   "display_name": "ArcGISPro",
   "language": "Python",
   "name": "python3"
  },
  "language_info": {
   "file_extension": ".py",
   "name": "python",
   "version": "3"
  }
 },
 "nbformat": 4,
 "nbformat_minor": 2
}
