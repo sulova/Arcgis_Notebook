{
 "cells": [
  {
   "cell_type": "markdown",
   "metadata": {
    "heading_collapsed": true
   },
   "source": [
    "### 0) Set up Revision"
   ]
  },
  {
   "cell_type": "code",
   "execution_count": null,
   "metadata": {
    "hidden": true
   },
   "outputs": [],
   "source": [
    "import shutil\n",
    "import os\n",
    "import arcpy\n",
    "\n",
    "# === Set version info ===\n",
    "old_version = \"10\"\n",
    "new_version = \"11\"\n",
    "\n",
    "# === Define paths ===\n",
    "base_path = r\"\\\\WM20ocqu46ph01\\WF_Projects\\DK_THO\\4_OUTPUT\\_MCD\"\n",
    "folder_template = \"005356185-{} - THO - Master Construction Drawing\""
   ]
  },
  {
   "cell_type": "markdown",
   "metadata": {
    "heading_collapsed": true
   },
   "source": [
    "### 1) Copies the folder from old version to a new version\n"
   ]
  },
  {
   "cell_type": "code",
   "execution_count": null,
   "metadata": {
    "hidden": true
   },
   "outputs": [],
   "source": [
    "src_folder = os.path.join(base_path, folder_template.format(old_version))\n",
    "dst_folder = os.path.join(base_path, folder_template.format(new_version))\n",
    "\n",
    "# === Step 1: Copy the folder ===\n",
    "try:\n",
    "    shutil.copytree(src_folder, dst_folder)\n",
    "    print(f\"✅ Folder copied from:\\n{src_folder}\\nto:\\n{dst_folder}\")\n",
    "except FileExistsError:\n",
    "    print(f\"⚠️ Destination folder already exists:\\n{dst_folder}\")\n",
    " \n",
    "except FileNotFoundError:\n",
    "    print(f\"❌ Source folder not found:\\n{src_folder}\")\n",
    "  \n",
    "except Exception as e:\n",
    "    print(f\"❌ Error copying folder:\\n{e}\")\n"
   ]
  },
  {
   "cell_type": "markdown",
   "metadata": {
    "heading_collapsed": true
   },
   "source": [
    "### 2) Renames all files inside the copied folder "
   ]
  },
  {
   "cell_type": "code",
   "execution_count": null,
   "metadata": {
    "hidden": true
   },
   "outputs": [],
   "source": [
    "# Rename files inside the copied folder ===\n",
    "renamed_files = 0\n",
    "for root, dirs, files in os.walk(dst_folder):\n",
    "    for filename in files:\n",
    "        if f\"-{old_version}\" in filename:\n",
    "            old_path = os.path.join(root, filename)\n",
    "            new_filename = filename.replace(f\"-{old_version}\", f\"-{new_version}\")\n",
    "            new_path = os.path.join(root, new_filename)\n",
    "            os.rename(old_path, new_path)\n",
    "            renamed_files += 1\n",
    "            print(f\"🔁 Renamed: {filename} → {new_filename}\")\n",
    "\n",
    "print(f\"✅ Finished. {renamed_files} files renamed in folder version {new_version}.\")"
   ]
  },
  {
   "cell_type": "markdown",
   "metadata": {
    "heading_collapsed": true
   },
   "source": [
    "### 3) As Built Monopiles"
   ]
  },
  {
   "cell_type": "markdown",
   "metadata": {
    "hidden": true
   },
   "source": [
    "- 🌐 Open: [https://rwe.vissim.no/flexview](https://rwe.vissim.no/flexview) to see the latest update, click the **\"ℹ️\" (Info)** icon in the lower-left corner for more information.\n",
    "\n",
    "#### 📌 As Built Monopiles from JDN & AS BUILT: Monopile Outer Diameter – **8.6 m**\n",
    "\n",
    "Please complete all steps **before running the script below**:\n",
    "\n",
    "1. 🔽 **Download PDFs**  \n",
    "   - URL: [https://share.jandenul.com/](https://share.jandenul.com/)  \n",
    "   - **Username**: DKTRTI,  **Password**: RKHJEB5LvcnVZw2\n",
    "\n",
    "2. 💾 **Save PDFs** here:  \n",
    "   *\\\\WM20ocqu46ph01\\WF_Projects\\DK_THO\\1_INPUT\\CONSTR\\2025\\20250505 As Built Monopiles from JDN*\n",
    "\n",
    "\n",
    "3. 📋 **Extract and copy relevant data** into this Excel file:  \n",
    "   *\\\\WM20ocqu46ph01\\WF_Projects\\DK_THO\\1_INPUT\\CONSTR\\2025\\20250505 As Built Monopiles from JDN\\DK_THO_AsBuilt_Monopile_pt_UTM32N_ta_v0.xlsx*\n",
    "\n",
    "\n",
    "4. 📤 **Export the cleaned data to CSV**: \n",
    "   *\\\\WM20ocqu46ph01\\WF_Projects\\DK_THO\\1_INPUT\\CONSTR\\2025\\20250505 As Built Monopiles from JDN\\DK_THO_AsBuilt_Monopile_pt_UTM32N_ta_v0.csv*\n",
    "\n",
    "\n",
    "##### ⚠️ CRITICAL NOTE: Before Running the Code\n",
    "\n",
    "- ❗ **Ensure that the `005356185_THOR_Master_Construction_Drawing.aprx` project is closed** before running the script — otherwise layer will be not in the content (run over different aprx or VS code) \n",
    "\n",
    "    Two files are ouput:\n",
    "    - *DK_THO_AsBuilt_Monopile_pt_UTM32N_pt_v0*\n",
    "    - *DK_THO_AsBuilt_Monopile_OuterDiameter8pt6m_py_UTM32N_pt_v0*\n",
    "    \n",
    "\n",
    "- ❗ After running the script, **open the attribute table** for:  \n",
    " * 2_FINAL\\WTG\\WTG.gdb\\DK_THO_AsBuilt_Monopile_OuterDiameter8pt6m_py_UTM32N_pt_v0* **Delete any empty rows manually**\n",
    "\n"
   ]
  },
  {
   "cell_type": "code",
   "execution_count": null,
   "metadata": {
    "hidden": true
   },
   "outputs": [],
   "source": [
    "# === INPUTS ===\n",
    "csv_file = r\"\\\\WM20ocqu46ph01\\WF_Projects\\DK_THO\\1_INPUT\\CONSTR\\2025\\20250505 As Built Monopiles from JDN\\DK_THO_AsBuilt_Monopile_pt_UTM32N_ta_v0.csv\"\n",
    "x_field = \"POS_ASBUILT_EAST\"\n",
    "y_field = \"POS_ASBUILT_NORTH\"\n",
    "spatial_ref = arcpy.SpatialReference(32632)  # UTM Zone 32N\n",
    "\n",
    "# === OUTPUTS ===\n",
    "point_fc = r\"\\\\WM20ocqu46ph01\\WF_Projects\\DK_THO\\2_FINAL\\WTG\\WTG.gdb\\DK_THO_AsBuilt_Monopile_pt_UTM32N_pt_v0\"\n",
    "buffer_fc = r\"\\\\WM20ocqu46ph01\\WF_Projects\\DK_THO\\2_FINAL\\WTG\\WTG.gdb\\DK_THO_AsBuilt_Monopile_OuterDiameter8pt6m_py_UTM32N_pt_v0\"\n",
    "\n",
    "\n",
    "# === STEP 1: Create Point Feature Class ===\n",
    "if arcpy.Exists(point_fc):\n",
    "    arcpy.Delete_management(point_fc)\n",
    "    print(f\"✅ Point feature class was deleted: {point_fc}\")\n",
    "\n",
    "arcpy.management.XYTableToPoint(\n",
    "    in_table=csv_file,\n",
    "    out_feature_class=point_fc,\n",
    "    x_field=x_field,\n",
    "    y_field=y_field,\n",
    "    coordinate_system=spatial_ref\n",
    ")\n",
    "\n",
    "print(f\"✅ Point feature class created: {point_fc}\")\n",
    "\n",
    "# === STEP 2: Create 4.3m Buffer ===\n",
    "if arcpy.Exists(buffer_fc):\n",
    "    arcpy.Delete_management(buffer_fc)\n",
    "    print(f\"✅ Point feature class was deleted: {buffer_fc}\")\n",
    "\n",
    "arcpy.analysis.PairwiseBuffer(\n",
    "    in_features=point_fc,\n",
    "    out_feature_class=buffer_fc,\n",
    "    buffer_distance_or_field=\"4.3 Meters\",\n",
    "    dissolve_option=\"NONE\"\n",
    ")\n",
    "\n",
    "print(f\"✅ Buffer feature class created: {buffer_fc}\")\n"
   ]
  },
  {
   "cell_type": "markdown",
   "metadata": {
    "heading_collapsed": true
   },
   "source": [
    "### 4) ANNOTATION – As Built Monopile Location*"
   ]
  },
  {
   "cell_type": "markdown",
   "metadata": {
    "hidden": true
   },
   "source": [
    "1. 🔁 **Copy & Rename the Map**  \n",
    "   - Open the .aprx project and *Duplicate* the map named:  \n",
    "     *005356185-{old_version} THOR Master Construction Drawing CAD*  \n",
    "   - Rename the copy to:  \n",
    "     *005356185-{new_version} THOR Master Construction Drawing CAD*`\n",
    "     \n",
    "\n",
    "2. 👁️ **Check Labels**  \n",
    "   - Ensure labels are **visible** for the following feature class:  \n",
    "     **As Built Monopile** - DK_THO_AsBuilt_Monopile_pt_UTM32N_pt_v0`\n",
    "     \n",
    "\n",
    "3. 💬 **Convert Labels to Annotation**  \n",
    "   - If labels are showing correctly:  \n",
    "     → Run the **\"Convert Labels to Annotation\"** tool  \n",
    "     → Attribute table will be udpated automaticly with \"ANNOTATION – As Built Monopile Location\"\n",
    "     → Save the annotation layer as: *DK_THO_AsBuilt_Monopile_pt_UTM32N_pt_v0_Annotation*\n",
    "          \n",
    "\n",
    "4. ➕ **Add to New Map**  \n",
    "   - Add the newly created annotation layer to the map:  \n",
    "     *005356185-{new_version} THOR Master Construction Drawing CAD*\n",
    "\n",
    "---\n",
    "\n"
   ]
  },
  {
   "cell_type": "code",
   "execution_count": null,
   "metadata": {
    "hidden": true
   },
   "outputs": [],
   "source": [
    "# === Load the project ===\n",
    "import arcpy\n",
    "\n",
    "# === INPUTS ===\n",
    "new_version = \"11\"\n",
    "aprx_path = r\"\\\\WM20ocqu46ph01\\WF_Projects\\DK_THO\\4_OUTPUT\\_MCD\\005356185_THOR_Master_Construction_Drawing.aprx\"\n",
    "output_gdb = r\"\\\\WM20ocqu46ph01\\WF_Projects\\DK_THO\\2_FINAL\\WTG\\WTG.gdb\"\n",
    "layer_name = \"As Built Monopile\"\n",
    "output_annotation_suffix = \"_Annotation\"\n",
    "new_map_name = f\"005356185-{new_version} THOR Master Construction Drawing CAD\"\n",
    "reference_scale = 100\n",
    "\n",
    "aprx = arcpy.mp.ArcGISProject(aprx_path)\n",
    "target_map = next((m for m in aprx.listMaps() if m.name == new_map_name), None)\n",
    "if not target_map:\n",
    "    raise Exception(f\"❌ Map '{new_map_name}' not found.\")\n",
    "print(f\"✅ Map '{new_map_name}' loaded.\")\n",
    "\n",
    "# === Find the layer ===\n",
    "layer = next((lyr for lyr in target_map.listLayers() if lyr.name == layer_name), None)\n",
    "if not layer or not layer.supports(\"SHOWLABELS\"):\n",
    "    raise Exception(f\"❌ Layer '{layer_name}' not found or doesn't support labels.\")\n",
    "\n",
    "layer.showLabels = True\n",
    "print(f\"✅ Labels enabled for '{layer_name}'.\")\n",
    "\n",
    "\n",
    "arcpy.cartography.ConvertLabelsToAnnotation(\n",
    "    input_map= target_map,\n",
    "    conversion_scale= 100,\n",
    "    output_geodatabase= output_gdb,\n",
    "    anno_suffix= output_annotation_suffix,\n",
    "    extent='394631.907089481 6223623.59608526 450316.163918058 6267404.33424396 PROJCS[\"WGS_1984_UTM_Zone_32N\",GEOGCS[\"GCS_WGS_1984\",DATUM[\"D_WGS_1984\",SPHEROID[\"WGS_1984\",6378137.0,298.257223563]],PRIMEM[\"Greenwich\",0.0],UNIT[\"Degree\",0.0174532925199433]],PROJECTION[\"Transverse_Mercator\"],PARAMETER[\"False_Easting\",500000.0],PARAMETER[\"False_Northing\",0.0],PARAMETER[\"Central_Meridian\",9.0],PARAMETER[\"Scale_Factor\",0.9996],PARAMETER[\"Latitude_Of_Origin\",0.0],UNIT[\"Meter\",1.0]]',\n",
    "    generate_unplaced=\"GENERATE_UNPLACED\",\n",
    "    require_symbol_id=None,\n",
    "    feature_linked=None,\n",
    "    auto_create=\"AUTO_CREATE\",\n",
    "    update_on_shape_change=\"SHAPE_UPDATE\",\n",
    "    output_group_layer=\"GroupAnno\",\n",
    "    which_layers=\"SINGLE_LAYER\",\n",
    "    single_layer=\"As Built Monopile\",\n",
    "    multiple_feature_classes=\"FEATURE_CLASS_PER_FEATURE_LAYER\",\n",
    "    merge_label_classes=\"NO_MERGE_LABEL_CLASS\"\n",
    ")\n",
    "\n",
    "\n",
    "# Rename the feature class, if the n\n",
    "annotation_fc = f\"{output_gdb}/As_Built_Monopile{output_annotation_suffix}\"\n",
    "new_ann_fc = f\"{output_gdb}/DK_THO_AsBuilt_Monopile_pt_UTM32N_pt_v0_Annotation\"     \n",
    "\n",
    "if arcpy.Exists(annotation_fc):\n",
    "    print(f\"✅ Annotation feature class saved at: {annotation_fc}\")\n",
    "    if arcpy.Exists(new_fc):\n",
    "        arcpy.Delete_management(new_ann_fc)\n",
    "    arcpy.Rename_management(annotation_fc, new_ann_fc)\n",
    "    print(f\"✅ Renamed annotation feature class to: {new_ann_fc}\")\n",
    "else:\n",
    "    # Print warning if not found\n",
    "    print(f\"⚠️ Annotation feature class NOT found at: {annotation_fc}\")\n",
    "    \n",
    "    \n",
    "\n",
    "# Check if feature class exists\n",
    "if arcpy.Exists(new_ann_fc):\n",
    "    # Add 'Layer' field if it doesn't exist\n",
    "    if \"Layer\" not in [f.name for f in arcpy.ListFields(new_ann_fc)]:\n",
    "        arcpy.AddField_management(new_ann_fc, \"Layer\", \"TEXT\", field_length=255)\n",
    "        print(f\"➕ Added missing 'Layer' field to: {new_ann_fc}\")\n",
    "    else:\n",
    "        print(f\"ℹ️ 'Layer' field already exists in: {new_ann_fc}\")\n",
    "    count = 0\n",
    "    with arcpy.da.UpdateCursor(new_ann_fc, [\"Layer\"]) as cursor:\n",
    "        for row in cursor:\n",
    "            if row[0] != \"ANNOTATION – As Built Monopile Location\":\n",
    "                row[0] = \"ANNOTATION – As Built Monopile Location\"\n",
    "                cursor.updateRow(row)\n",
    "                count += 1\n",
    "\n",
    "    print(f\"✅ Updated {count} records in 'Layer' field of: {new_fc}\")\n",
    "else:\n",
    "    print(f\"⚠️ Feature class not found: {new_fc}\")\n",
    "    \n",
    "print(\"✅✅ Layer field values updated **ANNOTATION – As Built Monopile Location** successfully.\")    \n",
    "    "
   ]
  },
  {
   "cell_type": "markdown",
   "metadata": {
    "heading_collapsed": true
   },
   "source": [
    "### 5) SST (VESSEL – As Built Footprint – MPI Adventure)"
   ]
  },
  {
   "cell_type": "markdown",
   "metadata": {
    "hidden": true
   },
   "source": [
    "- **Step 1:** Open **EcoCod** and search for the title: *'VAO - Adventure T*'*\n",
    "\n",
    "- **Step 2:** Review the top search results, specifically project 005938436-01.\n",
    "\n",
    "- **Step 3:** The relevant DWG file from ecodoc should be saved to:  \n",
    "  \\\\WM20ocqu46ph01\\WF_Projects\\DK_THO\\1_INPUT\\CONSTR\\2025\\20250604 As Built Secondary Steel Installation from Van Oord\n",
    "  \n",
    "  It will come with the improve once data available\n"
   ]
  },
  {
   "cell_type": "markdown",
   "metadata": {
    "heading_collapsed": true
   },
   "source": [
    "### 6) Add ANY LAYER  to MCD"
   ]
  },
  {
   "cell_type": "markdown",
   "metadata": {
    "hidden": true
   },
   "source": [
    "1. **Add Fields**\n",
    "   - Add a new field called *LAYER* (*String*) to the feature class.\n",
    "   - Add a new field called *SYMBOL* (*String*) to the feature class.\n",
    "   \n",
    "\n",
    "2. **Update Field Values**\n",
    "   - Populate the *LAYER* field with values from the corresponding *cad_layer_name*.\n",
    "   - Populate the *SYMBOL* field with values from the corresponding *ArcGIS_value*.\n",
    "   \n",
    "\n",
    "3. **Delete the *Entity* Field**\n",
    "   - Remove the *Entity* field from the feature class.\n",
    "   - This field caused issues when exporting the feature class to CAD, specifically geometry errors.\n"
   ]
  },
  {
   "cell_type": "markdown",
   "metadata": {
    "heading_collapsed": true,
    "hidden": true
   },
   "source": [
    "#### ✅ Section 1: Update LAYER Field"
   ]
  },
  {
   "cell_type": "code",
   "execution_count": null,
   "metadata": {
    "hidden": true
   },
   "outputs": [],
   "source": [
    "import arcpy\n",
    "\n",
    "# === Path to feature class ===\n",
    "gdb_path = r\"\\\\WM20ocqu46ph01\\WF_Projects\\DK_THO\\2_FINAL\\VESSELS\\VESSELS.gdb\"\n",
    "name_FC = \"DK_THO_JB115_JackUpBarge_pt_UTM32N_v0\"\n",
    "fc = f\"{gdb_path}\\\\{name_FC}\"\n",
    "\n",
    "# === Add LAYER field if missing ===\n",
    "if \"Layer\" not in [f.name for f in arcpy.ListFields(fc)]:\n",
    "    arcpy.AddField_management(fc, \"LAYER\", \"TEXT\")\n",
    "    print(\"🆕 Field 'LAYER' added.\")\n",
    "else:\n",
    "    print(\"✅ Field 'LAYER' already exists.\")\n",
    "\n",
    "# === Layer mapping ===\n",
    "layer_map = {\n",
    "    \"JUB Install\":               \"VESSEL - As Planned JUB Mooring Plan Installation\", \n",
    "    \"JUB Stand Off\":             \"VESSEL - As Planned JUB Mooring Plan Standoff\",\n",
    "    \"Mooring wire Installation\": \"VESSEL - As Planned JUB Mooring Plan Installation\",\n",
    "    \"Mooring wire Stand Off\":    \"VESSEL - As Planned JUB Mooring Plan Standoff\",\n",
    "}\n",
    "\n",
    "# === Update LAYER field ===\n",
    "with arcpy.da.UpdateCursor(fc, [\"LAYER\"]) as cursor:\n",
    "    for row in cursor:\n",
    "        original = row[0]\n",
    "        row[0] = layer_map.get(row[0], row[0])\n",
    "        if row[0] != original:\n",
    "            print(f\"🔁 LAYER updated: '{original}' ➝ '{row[0]}'\")\n",
    "        cursor.updateRow(row)\n",
    "\n",
    "print(\"✅ Section 1 complete: LAYER field updated.\")\n"
   ]
  },
  {
   "cell_type": "markdown",
   "metadata": {
    "heading_collapsed": true,
    "hidden": true
   },
   "source": [
    "#### ✅ Section 2: Update SYMBOL Field"
   ]
  },
  {
   "cell_type": "code",
   "execution_count": null,
   "metadata": {
    "hidden": true
   },
   "outputs": [],
   "source": [
    "# === Add SYMBOL field if missing ===\n",
    "if \"SYMBOL\" not in [f.name for f in arcpy.ListFields(fc)]:\n",
    "    arcpy.AddField_management(fc, \"SYMBOL\", \"TEXT\")\n",
    "    print(\"🆕 Field 'SYMBOL' added.\")\n",
    "else:\n",
    "    print(\"✅ Field 'SYMBOL' already exists.\")\n",
    "\n",
    "# === Symbol mapping ===\n",
    "symbol_map = {\n",
    "    \"VESSEL - As Planned JUB Mooring Plan Installation\": \"As Planned JUB Mooring Installation\",\n",
    "    \"VESSEL - As Planned JUB Mooring Plan Standoff\":     \"As Planned JUB Mooring Standoff\",\n",
    "}\n",
    "\n",
    "# === Update SYMBOL field from LAYER ===\n",
    "with arcpy.da.UpdateCursor(fc, [\"LAYER\", \"SYMBOL\"]) as cursor:\n",
    "    for row in cursor:\n",
    "        original = row[1]\n",
    "        row[1] = row[0]  # Default: SYMBOL = LAYER\n",
    "        # row[1] = symbol_map.get(row[1], row[1])  # Override if match found\n",
    "        #if row[1] != original:\n",
    "        #    print(f\"🎨 SYMBOL updated: '{original}' ➝ '{row[1]}'\")\n",
    "        cursor.updateRow(row)\n",
    "\n",
    "print(\"✅ Section 2 complete: SYMBOL field updated.\")\n"
   ]
  },
  {
   "cell_type": "markdown",
   "metadata": {
    "hidden": true
   },
   "source": [
    "✅ **Section 3: Delete the *Entity* Field**"
   ]
  },
  {
   "cell_type": "code",
   "execution_count": null,
   "metadata": {
    "hidden": true
   },
   "outputs": [],
   "source": [
    "# Field name to delete\n",
    "field_to_delete = \"Entity\"\n",
    "\n",
    "# Get a list of field names\n",
    "field_names = [field.name for field in arcpy.ListFields(fc)]\n",
    "\n",
    "# Check if the field exists and delete it\n",
    "if field_to_delete in field_names:\n",
    "    arcpy.DeleteField_management(fc, field_to_delete)\n",
    "    print(f\"🗑️ Field '*{field_to_delete}*' deleted from *{fc}*.\")\n",
    "else:\n",
    "    print(f\"ℹ️ Field '*{field_to_delete}*' does not exist in *{fc}*.\")"
   ]
  },
  {
   "cell_type": "markdown",
   "metadata": {
    "heading_collapsed": true,
    "hidden": true
   },
   "source": [
    "#### 🧩 Support Function: Delete a Field from a Feature Class (ArcPy)"
   ]
  },
  {
   "cell_type": "code",
   "execution_count": null,
   "metadata": {
    "hidden": true
   },
   "outputs": [],
   "source": [
    "# arcpy.DeleteField_management(fc, [\"test\"])\n",
    "# print(\"🗑️ Field 'SYMBOL' deleted.\")"
   ]
  },
  {
   "cell_type": "markdown",
   "metadata": {
    "hidden": true
   },
   "source": [
    "#### 🧩 Support Function: Attribute Table- Remove the first 8 characters}"
   ]
  },
  {
   "cell_type": "markdown",
   "metadata": {},
   "source": [
    "### 7)  AutoCAD Update\n"
   ]
  },
  {
   "cell_type": "markdown",
   "metadata": {},
   "source": [
    "🛠️ AutoCAD Update Instructions\n",
    " General Guidelines  \n",
    "- Every new layer must include a **Layer** field in the attribute table to ensure compatibility between **ArcGIS Pro and AutoCAD**.  \n",
    "- Layer names in the attribute table should **match the entries** in the **Excel log file** for traceability and consistency.\n",
    "\n",
    "---\n",
    " 🔹 Preparing the DWG for Export\n",
    "\n",
    "1. **Open the DWG file** and delete existing layers that will be replaced.  \n",
    "   - Use the AutoCAD command:  \n",
    "     LAYDEL → Enter → Type N → Enter → Select layers by name\n",
    "     \n",
    "   - ⚠️ **Warning**: LAYDEL permanently deletes the selected layers and all objects on them. Use with caution.\n",
    "\n",
    "   **Example layers to delete:**\n",
    "   - ANNOTATION - As Built Footprint - MPI Adventure`\n",
    "   - ANNOTATION - As Built Monopile Location`\n",
    "   - VESSEL - As Built Footprint - MPI Adventure`\n",
    "   - AS BUILT - Monopile Location`\n",
    "   - AS BUILT - Monopile Outer Diameter 8pt6m`\n",
    "   \n",
    "\n",
    "2. **Save the DWG file** after cleanup.\n",
    "\n",
    "---\n",
    "\n",
    " 🔹 Exporting Updated Data from ArcGIS Pro\n",
    "\n",
    "3. **Open the ArcGIS project MAP:* 005356185-{new version} THOR Master Construction Drawing CAD* that contains the new\n",
    "\n",
    "\n",
    "\n",
    "\n",
    "\n",
    "4. Use the **Export to CAD** geoprocessing tool:\n",
    "   - Ensure only required layers are selected for export.Layers are new in ArcGIS Pro.\n",
    " \n",
    "\n",
    "5. **Remove non-essential layers** that should not be included in the export:\n",
    "   - For example:  \n",
    "     - `Bathymetry` (use contours instead of raster for CAD exports)\n",
    "\n",
    "6. Use the **Append** option to add data to the existing DWG file without overwriting unrelated content.\n",
    "\n",
    "7. Export the **.aprx** as a **Project Package**, ensuring that excluded `Bathymetry` are not part of the package.\n",
    "\n",
    "\n"
   ]
  },
  {
   "cell_type": "markdown",
   "metadata": {},
   "source": [
    "#### CAD Tips \n",
    "🔍 Zoom to Layer – Quick Steps\n",
    "- Type QSELECT → Enter\n",
    "     -Set Property = Layer, and choose your layer\n",
    "     - Click OK to select all objects on that layer\n",
    "\n",
    "- Zoom to Selection:\n",
    "    -Type Z → EnteR\n",
    "    - Type O (for Object) → Enter\n",
    "\n"
   ]
  },
  {
   "cell_type": "markdown",
   "metadata": {},
   "source": [
    "### 8) Portal Update Instructions"
   ]
  },
  {
   "cell_type": "markdown",
   "metadata": {},
   "source": [
    "📁 Open ArcGIS Project\n",
    "*\\\\WM20ocqu46ph01\\WF_Projects\\DK_THO\\4_OUTPUT\\_MCD\\005356185_THOR_Master_Construction_Drawing.aprx*\n",
    "\n",
    "🗺️ Open the Map:\n",
    "- 005356185 THOR Master Construction Drawing Portal\n",
    "\n",
    "📂 Manage Versions:\n",
    "- Move the previous version to the Approved group\n",
    "- Move the new version to the Under Review group\n",
    "\n",
    "➕ Add New Layers\n",
    "- Ensure all new or updated data layers are added to the map\n",
    "\n",
    "♻️ Overwrite Existing Map\n",
    "- Overwrite: 005356185 THOR Master Construction Drawing Portal"
   ]
  },
  {
   "cell_type": "markdown",
   "metadata": {},
   "source": [
    "### 9) 🖨️🗺️ Export Maps to the PDFs"
   ]
  },
  {
   "cell_type": "markdown",
   "metadata": {},
   "source": [
    "- **Copy and paste** previous layout in ArcGIS Pro project:  005356185_THOR_Master_Construction_Drawing.aprx\n",
    "- 🆕 **Update title** with new revision number\n",
    "- 📊 **Update table** elements as required\n",
    "- Edit in the code:  \n",
    "    - *text_element = layout.listElements(\"TEXT_ELEMENT\", \"Text 27 - Revision Box - 01 Checked Initials **8**\")[0]*\n",
    "- 💻 **Run the script** to export updated map books"
   ]
  },
  {
   "cell_type": "code",
   "execution_count": 1,
   "metadata": {},
   "outputs": [
    {
     "name": "stdout",
     "output_type": "stream",
     "text": [
      "Available layers:\n",
      "DK_THO_AsBuilt_Monopile_pt_UTM32N_pt_v0_Annotation\n",
      "Class 1\n",
      "As Built Monopile\n",
      "DDP\n",
      "ALARP\n",
      "ALARP Certified Working Area Anchor Placements\n",
      "ALARP Certified Working Area\n",
      "ALARP Certified Working Area OSS\n",
      "ALARP Certified Working Area Wet Store\n",
      "WINDFARM\n",
      "Project Development Area\n",
      "WTG\n",
      "WTG Layout \n",
      "External Work Platform Heading (°)\n",
      "External Work Platform (Layout)\n",
      "Military Radar Platform\n",
      "Scour protection (22m) v7 \n",
      "VESSEL\n",
      " As Built Footprints - MPI Adventure Annotation\n",
      "Class 1\n",
      "As Built Footprints - MPI Adventure\n",
      "Vessel Ghost Positioning Footprint - Brave Tern\n",
      "Vessel Ghost Positioning Sectors - MPI Adventure\n",
      "Vessel Ghost Positioning Sectors - Brave Tern\n",
      "EOS\n",
      "EOS Plot Layout - Main Deck\n",
      "EOS Plot Layout - Bellow Cable Deck\n",
      "EOS Centroid and pile center coordinates\n",
      "EOS Cable Exclusion Zone\n",
      "EEC\n",
      "Kilometer Points\n",
      "As Laid EEC North\n",
      "As Laid EEC South\n",
      "Offshore Export Cable North\n",
      "Offshore Export Cable South\n",
      "Export Cable Corridor (DEA 2019)\n",
      "Offshore Export Cable ±10m Buffer Boulder Clearance Area\n",
      "EEC Nearshore Area Demarcation\n",
      "Wet Store North Option\n",
      "Wet Storage Area South\n",
      "EAC\n",
      "Kilometer Points\n",
      "Inter Array Cable\n",
      "Inter-Array Cable Exclusion Buffer 17.5m\n",
      "Array Cable ±10m Buffer Boulder Clearance Area\n",
      "CONSTRAINTS\n",
      "UXO\n",
      "pUXO Investigation\n",
      "Potential UXO\n",
      "Potential UXO Exclusion Zone\n",
      "Non-boulder drop zones (25m radius around pUXO)\n",
      "Boulder Clearance Progress Final\n",
      "Seabed Features Line - EEC Fugro Jul 2024\n",
      "Seabed Features Line - EAC Fugro Jul 2024\n",
      "Possible Archaeology Center\n",
      "Possible Archaeology\n",
      "Possible Shallow Gas Anomalies WT 2023 \n",
      "CONSTRUCTION\n",
      "Wave Buoy\n",
      "Temp Wave Buoy Nearshore\n",
      "Temporary Marker Buoys\n",
      "Temporary Marker Buoy Buffer Zone (1NM)\n",
      "Peripheral Structures Boundary\n",
      "FILTER LAYER AS BUILT\n",
      "Monopile Outer Diameter 8.6m\n",
      "As Built Filter Layer Extent\n",
      "SURVEY\n",
      "Jackup Safe Haven Survey Area\n",
      "Fugro 2023 Geophysical Survey Extent\n",
      "SLOPE\n",
      "BATHYMETRY\n",
      "Bathymetry Contour (Fugro 2023 UXO Survey - 004896869-01)\n",
      "Bathymetry Fugro 2023\n",
      "Boundary\n",
      "Footprint\n",
      "MBES Bathymetry (2023), mbMSL (Fugro 2023 UXO Survey - 004896869-01)\n",
      "MBES Bathymetry (2023), mbMSL (Fugro 2023 UXO Survey - 004896869-01)\n",
      "Nearshore Bathymetry - 004896852-02-FUGG - THOR 2023 LIDAR SURVEY REPORT\n",
      "Hillshade\n",
      "Hillshade Nearshore\n",
      "Bing Maps Hybrid\n"
     ]
    }
   ],
   "source": [
    "import arcpy\n",
    "import PyPDF2\n",
    "\n",
    "# Define the path to your ArcGIS Pro project\n",
    "new_version = \"11\"\n",
    "aprx_path = r\"\\\\WM20ocqu46ph01\\WF_Projects\\DK_THO\\4_OUTPUT\\_MCD\\005356185_THOR_Master_Construction_Drawing.aprx\"\n",
    "\n",
    "# Load the project\n",
    "aprx = arcpy.mp.ArcGISProject(aprx_path)\n",
    "\n",
    "# Specify the layout name\n",
    "layout_name = f\"005356185-{new_version} THOR Master Construction Drawing\"\n",
    "\n",
    "# Check if the specified layout exists\n",
    "layout = None\n",
    "for lyr in aprx.listLayouts():\n",
    "    if lyr.name == layout_name:\n",
    "        layout = lyr\n",
    "        break\n",
    "\n",
    "if layout is None:\n",
    "    raise ValueError(f\"Layout '{layout_name}' not found in the project.\")\n",
    "\n",
    "# Access the map series\n",
    "map_series = layout.mapSeries\n",
    "\n",
    "# Access the map frame to control layers\n",
    "map_frame = layout.listElements(\"MAPFRAME_ELEMENT\", \"Main Map Map Frame\")[0]\n",
    "map_ = map_frame.map\n",
    "\n",
    "# List all layers in the map to verify the layer name\n",
    "layers = map_.listLayers()\n",
    "print(\"Available layers:\")\n",
    "for layer in layers:\n",
    "    print(layer.name)\n",
    "\n",
    "# Access the map series layer \"DDP\"\n",
    "ddp_layer = None\n",
    "for layer in layers:\n",
    "    if layer.name == \"DDP\":\n",
    "        ddp_layer = layer\n",
    "        break\n",
    "\n",
    "if ddp_layer is None:\n",
    "    raise ValueError(\"Layer 'DDP' not found in the map.\")\n",
    "\n",
    "# Define the output directory for the map books\n",
    "output_dir = r\"\\\\WM20ocqu46ph01\\WF_Projects\\DK_THO\\4_OUTPUT\\_MCD\"\n",
    "\n",
    "# Define the definition queries for each map book\n",
    "definition_queries = [\"SCOPE = 'EEC'\", \"SCOPE = 'EAC'\", \"SCOPE = 'FOU'\", \"SCOPE = 'EOS'\"]\n",
    "\n",
    "# Define the text to update for each map book\n",
    "approved_by_texts = [\"DS\", \"AM\", \"RC/JC/OW\",\"NK\"]\n",
    "\n",
    "# Define the output file names for each map book\n",
    "output_files = [\"005356185-11 THOR Master Construction Drawing - EEC.pdf\",\n",
    "                \"005356185-11 THOR Master Construction Drawing - EAC.pdf\",\n",
    "                \"005356185-11 THOR Master Construction Drawing - FOU.pdf\",\n",
    "                \"005356185-11 THOR Master Construction Drawing - EOS.pdf\"]\n",
    "\n",
    "# Layers to be turned on for the first page only\n",
    "first_page_layers = [\"World Imagery (Clarity)\", \"Nearshore Bathymetry - 004896852-02-FUGG - THOR 2023 LIDAR SURVEY REPORT\", \"Hillshade Nearshore\"]\n",
    "\n",
    "# Export the first map book with layers on for the first page\n",
    "for i, definition_query in enumerate(definition_queries):\n",
    "    # Set the definition query for the map series layer\n",
    "    ddp_layer.definitionQuery = definition_query\n",
    "    \n",
    "    # Update the text element\n",
    "    text_element = layout.listElements(\"TEXT_ELEMENT\", \"Text 27 - Revision Box - 01 Checked Initials 8\")[0]\n",
    "    text_element.text = approved_by_texts[i]\n",
    "    \n",
    "    if i == 0:\n",
    "        # Turn on the specified layers for the first page of the first map book\n",
    "        for layer in layers:\n",
    "            if layer.name in first_page_layers:\n",
    "                layer.visible = True\n",
    "        \n",
    "        # Export the first page of the first map book\n",
    "        first_page_path = output_dir + f\"\\\\{output_files[i].replace('.pdf', '_first_page.pdf')}\"\n",
    "        map_series.exportToPDF(first_page_path, multiple_files=\"PDF_SINGLE_FILE\", resolution=100, page_range_type=\"RANGE\", page_range_string=\"1\")\n",
    "        \n",
    "        # Turn off the specified layers for the rest of the pages\n",
    "        for layer in layers:\n",
    "            if layer.name in first_page_layers:\n",
    "                layer.visible = False\n",
    "        \n",
    "        # Export the rest of the pages of the first map book (pages 2 to 35)\n",
    "        remaining_pages_path = output_dir + f\"\\\\{output_files[i].replace('.pdf', '_remaining_pages.pdf')}\"\n",
    "        map_series.exportToPDF(remaining_pages_path, multiple_files=\"PDF_SINGLE_FILE\", resolution=100, page_range_type=\"RANGE\", page_range_string=\"2-35\")\n",
    "        \n",
    "        # Merge the first page and the remaining pages into a single PDF\n",
    "        merger = PyPDF2.PdfFileMerger()\n",
    "        merger.append(first_page_path)\n",
    "        merger.append(remaining_pages_path)\n",
    "        merger.write(output_dir + f\"\\\\{output_files[i]}\")\n",
    "        merger.close()\n",
    "    else:\n",
    "        # Ensure the specified layers are off for the other map books\n",
    "        for layer in layers:\n",
    "            if layer.name in first_page_layers:\n",
    "                layer.visible = False\n",
    "        \n",
    "        # Export the entire map book\n",
    "        map_series.exportToPDF(output_dir + f\"\\\\{output_files[i]}\", multiple_files=\"PDF_SINGLE_FILE\", resolution=100)\n",
    "\n",
    "print(\"Map books exported successfully with updated text elements and 100 DPI resolution!\")"
   ]
  }
 ],
 "metadata": {
  "kernelspec": {
   "display_name": "ArcGISPro",
   "language": "Python",
   "name": "python3"
  },
  "language_info": {
   "codemirror_mode": {
    "name": "ipython",
    "version": 3
   },
   "file_extension": ".py",
   "mimetype": "text/x-python",
   "name": "python",
   "nbconvert_exporter": "python",
   "pygments_lexer": "ipython3",
   "version": "3.11.8"
  }
 },
 "nbformat": 4,
 "nbformat_minor": 2
}
