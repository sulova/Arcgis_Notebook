{
 "cells": [
  {
   "cell_type": "markdown",
   "metadata": {},
   "source": [
    "## Joining data with other attributes based ID "
   ]
  },
  {
   "cell_type": "code",
   "execution_count": 2,
   "metadata": {},
   "outputs": [],
   "source": [
    "import arcpy\n",
    "import os\n",
    "import pandas as pd\n",
    "import xlsxwriter\n",
    "from arcpy import metadata as md\n"
   ]
  },
  {
   "cell_type": "markdown",
   "metadata": {},
   "source": [
    "##  Inputs parameters"
   ]
  },
  {
   "cell_type": "code",
   "execution_count": 34,
   "metadata": {},
   "outputs": [],
   "source": [
    "excel_file = r\"\\\\WM20ocqu46ph01\\WF_Projects\\NL_HKW\\1_INPUT\\VESSELS\\20240226_InstallationLogistics_LPEA_Javier_EditedDocuments\\1.xlsx\"\n",
    "excel_sheet = \"Sheet1\"\n",
    "\n",
    "# Set the workspace environment\n",
    "arcpy.env.workspace = r\"\\\\WM20ocqu46ph01\\WF_Projects\\NL_HKW\\2_FINAL\\VESSELS\\VESSELS.gdb\"  # Update the path to your geodatabase\n",
    "\n",
    "# Input feature class\n",
    "feature_class = \"HKW_VII_LPEA_Vessel_Voltaire_L09_236D_56T_UTM31N_v0\"  # Update with the name of your feature class\n"
   ]
  },
  {
   "cell_type": "markdown",
   "metadata": {},
   "source": [
    "## 1) Excel file - reading and editing if needed "
   ]
  },
  {
   "cell_type": "code",
   "execution_count": 35,
   "metadata": {},
   "outputs": [
    {
     "name": "stderr",
     "output_type": "stream",
     "text": [
      "c:\\Program Files\\ArcGIS\\Pro\\bin\\Python\\envs\\arcgispro-py3\\lib\\site-packages\\openpyxl\\worksheet\\_read_only.py:79: UserWarning: Unknown extension is not supported and will be removed\n",
      "  for idx, row in parser.parse():\n",
      "c:\\Program Files\\ArcGIS\\Pro\\bin\\Python\\envs\\arcgispro-py3\\lib\\site-packages\\openpyxl\\worksheet\\_read_only.py:79: UserWarning: Conditional Formatting extension is not supported and will be removed\n",
      "  for idx, row in parser.parse():\n"
     ]
    },
    {
     "data": {
      "text/html": [
       "<div>\n",
       "<style scoped>\n",
       "    .dataframe tbody tr th:only-of-type {\n",
       "        vertical-align: middle;\n",
       "    }\n",
       "\n",
       "    .dataframe tbody tr th {\n",
       "        vertical-align: top;\n",
       "    }\n",
       "\n",
       "    .dataframe thead th {\n",
       "        text-align: right;\n",
       "    }\n",
       "</style>\n",
       "<table border=\"1\" class=\"dataframe\">\n",
       "  <thead>\n",
       "    <tr style=\"text-align: right;\">\n",
       "      <th></th>\n",
       "      <th>WTG ID</th>\n",
       "      <th>Link to LPEA Annex A</th>\n",
       "    </tr>\n",
       "  </thead>\n",
       "  <tbody>\n",
       "    <tr>\n",
       "      <th>0</th>\n",
       "      <td>HWB 01</td>\n",
       "      <td>https://rwe.sharepoint.com/teams/HKW/Shared%20...</td>\n",
       "    </tr>\n",
       "  </tbody>\n",
       "</table>\n",
       "</div>"
      ],
      "text/plain": [
       "   WTG ID                               Link to LPEA Annex A\n",
       "0  HWB 01  https://rwe.sharepoint.com/teams/HKW/Shared%20..."
      ]
     },
     "execution_count": 35,
     "metadata": {},
     "output_type": "execute_result"
    }
   ],
   "source": [
    "# Read Excel file into a pandas DataFrame\n",
    "df = pd.read_excel(excel_file)\n",
    "df = df.iloc[:,0:-3]\n",
    "# df = df.iloc[:,[0,-3]]\n",
    "df.head(1)"
   ]
  },
  {
   "cell_type": "markdown",
   "metadata": {},
   "source": [
    "### 2) Excel file - saved modified version in gdb"
   ]
  },
  {
   "cell_type": "code",
   "execution_count": 36,
   "metadata": {},
   "outputs": [
    {
     "name": "stderr",
     "output_type": "stream",
     "text": [
      "C:\\Users\\ui150920\\AppData\\Local\\Temp\\1\\ipykernel_14584\\964271733.py:2: FutureWarning: As the xlwt package is no longer maintained, the xlwt engine will be removed in a future version of pandas. This is the only engine in pandas that supports writing in the xls format. Install openpyxl and write to an xlsx file instead. You can set the option io.excel.xls.writer to 'xlwt' to silence this warning. While this option is deprecated and will also raise a warning, it can be globally set and the warning suppressed.\n",
      "  df.to_excel(output_table, index=False)\n"
     ]
    },
    {
     "name": "stdout",
     "output_type": "stream",
     "text": [
      "Deleting excel_file\n",
      "New Excel file was created in geodatabase - excel_file\n",
      "OBJECTID\n",
      "WTG_ID\n",
      "Link_to_LPEA_Annex_A\n"
     ]
    }
   ],
   "source": [
    "\n",
    "output_table = os.path.join(os.path.dirname(excel_file), \"modified_table.xls\")\n",
    "df.to_excel(output_table, index=False)\n",
    "\n",
    "gdb_table_path = os.path.join(arcpy.env.workspace , \"excel_file\") \n",
    "if arcpy.Exists(gdb_table_path):\n",
    "    # Delete the previous table in the geodatabase\n",
    "    arcpy.Delete_management(gdb_table_path)\n",
    "    print(\"Deleting excel_file\")\n",
    "   \n",
    "# Convert modified Excel file to a table\n",
    "arcpy.ExcelToTable_conversion(output_table, \"excel_file\")\n",
    "print(\"New Excel file was created in geodatabase - excel_file\")\n",
    "\n",
    "# Get a list of field objects\n",
    "fields_feature_class = arcpy.ListFields(\"excel_file\")\n",
    "\n",
    "# Iterate over the fields and print their names\n",
    "for field in fields_feature_class:\n",
    "    print(field.name)"
   ]
  },
  {
   "cell_type": "markdown",
   "metadata": {},
   "source": [
    "### 3) Read feature class columns to find ID"
   ]
  },
  {
   "cell_type": "code",
   "execution_count": 37,
   "metadata": {},
   "outputs": [
    {
     "name": "stdout",
     "output_type": "stream",
     "text": [
      "OBJECTID\n",
      "Shape\n",
      "Coord_adapted\n",
      "LAYOUT_ID\n",
      "NAME_OLD\n",
      "WDPTH_LAT\n",
      "NAME\n",
      "INTERFACE_INNOVATION\n",
      "X_ETRS_UTM31\n",
      "Y_ETRS_UTM31\n",
      "X_ETRS\n",
      "Y_ETRS\n",
      "Aviation_lights_medium\n",
      "Obstruction_lights_on_Tower\n",
      "Visibility_meter_WTG\n",
      "Marine_light_SPS_MAP\n",
      "Marine_light_IPS_MAP\n",
      "Fog_horn_MAP\n",
      "Visibility_meter_MAP\n",
      "NEAR_FID\n",
      "NEAR_DIST\n",
      "NEAR_X\n",
      "NEAR_Y\n",
      "NEAR_ANGLE\n",
      "WTG_ID\n",
      "Water_Depth__mLAT_\n",
      "Expected_spudcan_tip_penetration_without_sand_plug__mbsf__VOLTAI\n",
      "HAZARD_Insufficient_leg_length\n",
      "HAZARD_Insufficient_soil_data\n",
      "Hang_up_RISK\n",
      "Punching_RISK\n",
      "Spudcan_extraction_RISK\n",
      "Hard_seabed_RISK\n",
      "HAZARD_Interaction_with_other_strcutures\n"
     ]
    }
   ],
   "source": [
    "# Get a list of field objects\n",
    "gdb_feature = os.path.join(arcpy.env.workspace , feature_class) \n",
    "fields_feature_class = arcpy.ListFields(gdb_feature)\n",
    "\n",
    "# Iterate over the fields and print their names\n",
    "for field in fields_feature_class:\n",
    "    print(field.name)"
   ]
  },
  {
   "cell_type": "markdown",
   "metadata": {},
   "source": [
    "### 4) Join the DataFrame to the feature class"
   ]
  },
  {
   "cell_type": "code",
   "execution_count": 38,
   "metadata": {
    "scrolled": false
   },
   "outputs": [
    {
     "name": "stdout",
     "output_type": "stream",
     "text": [
      "DataFrame joined to feature class successfully.\n"
     ]
    },
    {
     "data": {
      "text/html": [
       "<div>\n",
       "<style scoped>\n",
       "    .dataframe tbody tr th:only-of-type {\n",
       "        vertical-align: middle;\n",
       "    }\n",
       "\n",
       "    .dataframe tbody tr th {\n",
       "        vertical-align: top;\n",
       "    }\n",
       "\n",
       "    .dataframe thead th {\n",
       "        text-align: right;\n",
       "    }\n",
       "</style>\n",
       "<table border=\"1\" class=\"dataframe\">\n",
       "  <thead>\n",
       "    <tr style=\"text-align: right;\">\n",
       "      <th></th>\n",
       "      <th>OBJECTID</th>\n",
       "      <th>Shape</th>\n",
       "      <th>Coord_adapted</th>\n",
       "      <th>LAYOUT_ID</th>\n",
       "      <th>NAME_OLD</th>\n",
       "      <th>WDPTH_LAT</th>\n",
       "      <th>NAME</th>\n",
       "      <th>INTERFACE_INNOVATION</th>\n",
       "      <th>X_ETRS_UTM31</th>\n",
       "      <th>Y_ETRS_UTM31</th>\n",
       "      <th>...</th>\n",
       "      <th>Expected_spudcan_tip_penetration_without_sand_plug__mbsf__VOLTAI</th>\n",
       "      <th>HAZARD_Insufficient_leg_length</th>\n",
       "      <th>HAZARD_Insufficient_soil_data</th>\n",
       "      <th>Hang_up_RISK</th>\n",
       "      <th>Punching_RISK</th>\n",
       "      <th>Spudcan_extraction_RISK</th>\n",
       "      <th>Hard_seabed_RISK</th>\n",
       "      <th>HAZARD_Interaction_with_other_strcutures</th>\n",
       "      <th>WTG_ID_1</th>\n",
       "      <th>Link_to_LPEA_Annex_A</th>\n",
       "    </tr>\n",
       "  </thead>\n",
       "  <tbody>\n",
       "    <tr>\n",
       "      <th>0</th>\n",
       "      <td>1</td>\n",
       "      <td>(542448.4000000004, 5832170.0)</td>\n",
       "      <td>X+0.4m</td>\n",
       "      <td>HKW_VII_WTG_L04_A2_60xSG15MW_UTM31N_v0</td>\n",
       "      <td>1</td>\n",
       "      <td>-29.972</td>\n",
       "      <td>HWB 26</td>\n",
       "      <td>None</td>\n",
       "      <td>542448.4</td>\n",
       "      <td>5832170.0</td>\n",
       "      <td>...</td>\n",
       "      <td>1.4</td>\n",
       "      <td>Low</td>\n",
       "      <td>-</td>\n",
       "      <td>-</td>\n",
       "      <td>High</td>\n",
       "      <td>-</td>\n",
       "      <td>-</td>\n",
       "      <td>-</td>\n",
       "      <td>HWB 26</td>\n",
       "      <td>https://rwe.sharepoint.com/teams/HKW/Shared%20...</td>\n",
       "    </tr>\n",
       "    <tr>\n",
       "      <th>1</th>\n",
       "      <td>2</td>\n",
       "      <td>(547005.0, 5828296.0)</td>\n",
       "      <td>None</td>\n",
       "      <td>HKW_VII_WTG_L04_A2_60xSG15MW_UTM31N_v0</td>\n",
       "      <td>2</td>\n",
       "      <td>-28.807</td>\n",
       "      <td>HWB 56</td>\n",
       "      <td>None</td>\n",
       "      <td>547005.0</td>\n",
       "      <td>5828296.0</td>\n",
       "      <td>...</td>\n",
       "      <td>0.8</td>\n",
       "      <td>Low</td>\n",
       "      <td>-</td>\n",
       "      <td>-</td>\n",
       "      <td>Low</td>\n",
       "      <td>-</td>\n",
       "      <td>-</td>\n",
       "      <td>-</td>\n",
       "      <td>HWB 56</td>\n",
       "      <td>https://rwe.sharepoint.com/teams/HKW/Shared%20...</td>\n",
       "    </tr>\n",
       "    <tr>\n",
       "      <th>2</th>\n",
       "      <td>3</td>\n",
       "      <td>(547139.0, 5837774.0)</td>\n",
       "      <td>None</td>\n",
       "      <td>HKW_VII_WTG_L04_A2_60xSG15MW_UTM31N_v0</td>\n",
       "      <td>3</td>\n",
       "      <td>-28.006</td>\n",
       "      <td>HWB 03</td>\n",
       "      <td>None</td>\n",
       "      <td>547139.0</td>\n",
       "      <td>5837774.0</td>\n",
       "      <td>...</td>\n",
       "      <td>0.8</td>\n",
       "      <td>Low</td>\n",
       "      <td>-</td>\n",
       "      <td>-</td>\n",
       "      <td>Low</td>\n",
       "      <td>-</td>\n",
       "      <td>-</td>\n",
       "      <td>-</td>\n",
       "      <td>HWB 03</td>\n",
       "      <td>https://rwe.sharepoint.com/teams/HKW/Shared%20...</td>\n",
       "    </tr>\n",
       "    <tr>\n",
       "      <th>3</th>\n",
       "      <td>4</td>\n",
       "      <td>(540678.0, 5830049.0)</td>\n",
       "      <td>None</td>\n",
       "      <td>HKW_VII_WTG_L04_A2_60xSG15MW_UTM31N_v0</td>\n",
       "      <td>4</td>\n",
       "      <td>-32.495</td>\n",
       "      <td>HWB 39</td>\n",
       "      <td>None</td>\n",
       "      <td>540678.0</td>\n",
       "      <td>5830049.0</td>\n",
       "      <td>...</td>\n",
       "      <td>3.6</td>\n",
       "      <td>Low</td>\n",
       "      <td>-</td>\n",
       "      <td>-</td>\n",
       "      <td>Medium</td>\n",
       "      <td>High</td>\n",
       "      <td>-</td>\n",
       "      <td>-</td>\n",
       "      <td>HWB 39</td>\n",
       "      <td>https://rwe.sharepoint.com/teams/HKW/Shared%20...</td>\n",
       "    </tr>\n",
       "    <tr>\n",
       "      <th>4</th>\n",
       "      <td>5</td>\n",
       "      <td>(552715.0, 5830475.5)</td>\n",
       "      <td>Y+0.5m</td>\n",
       "      <td>HKW_VII_WTG_L04_A2_60xSG15MW_UTM31N_v0</td>\n",
       "      <td>5</td>\n",
       "      <td>-31.018</td>\n",
       "      <td>HWB 45</td>\n",
       "      <td>None</td>\n",
       "      <td>552715.0</td>\n",
       "      <td>5830475.5</td>\n",
       "      <td>...</td>\n",
       "      <td>0.9</td>\n",
       "      <td>Low</td>\n",
       "      <td>-</td>\n",
       "      <td>-</td>\n",
       "      <td>Low</td>\n",
       "      <td>-</td>\n",
       "      <td>-</td>\n",
       "      <td>-</td>\n",
       "      <td>HWB 45</td>\n",
       "      <td>https://rwe.sharepoint.com/teams/HKW/Shared%20...</td>\n",
       "    </tr>\n",
       "  </tbody>\n",
       "</table>\n",
       "<p>5 rows × 36 columns</p>\n",
       "</div>"
      ],
      "text/plain": [
       "   OBJECTID                           Shape Coord_adapted  \\\n",
       "0         1  (542448.4000000004, 5832170.0)        X+0.4m   \n",
       "1         2           (547005.0, 5828296.0)          None   \n",
       "2         3           (547139.0, 5837774.0)          None   \n",
       "3         4           (540678.0, 5830049.0)          None   \n",
       "4         5           (552715.0, 5830475.5)        Y+0.5m   \n",
       "\n",
       "                                LAYOUT_ID NAME_OLD  WDPTH_LAT    NAME  \\\n",
       "0  HKW_VII_WTG_L04_A2_60xSG15MW_UTM31N_v0        1    -29.972  HWB 26   \n",
       "1  HKW_VII_WTG_L04_A2_60xSG15MW_UTM31N_v0        2    -28.807  HWB 56   \n",
       "2  HKW_VII_WTG_L04_A2_60xSG15MW_UTM31N_v0        3    -28.006  HWB 03   \n",
       "3  HKW_VII_WTG_L04_A2_60xSG15MW_UTM31N_v0        4    -32.495  HWB 39   \n",
       "4  HKW_VII_WTG_L04_A2_60xSG15MW_UTM31N_v0        5    -31.018  HWB 45   \n",
       "\n",
       "  INTERFACE_INNOVATION  X_ETRS_UTM31  Y_ETRS_UTM31  ...  \\\n",
       "0                 None      542448.4     5832170.0  ...   \n",
       "1                 None      547005.0     5828296.0  ...   \n",
       "2                 None      547139.0     5837774.0  ...   \n",
       "3                 None      540678.0     5830049.0  ...   \n",
       "4                 None      552715.0     5830475.5  ...   \n",
       "\n",
       "   Expected_spudcan_tip_penetration_without_sand_plug__mbsf__VOLTAI  \\\n",
       "0                                                1.4                  \n",
       "1                                                0.8                  \n",
       "2                                                0.8                  \n",
       "3                                                3.6                  \n",
       "4                                                0.9                  \n",
       "\n",
       "   HAZARD_Insufficient_leg_length HAZARD_Insufficient_soil_data Hang_up_RISK  \\\n",
       "0                             Low                             -            -   \n",
       "1                             Low                             -            -   \n",
       "2                             Low                             -            -   \n",
       "3                             Low                             -            -   \n",
       "4                             Low                             -            -   \n",
       "\n",
       "  Punching_RISK Spudcan_extraction_RISK Hard_seabed_RISK  \\\n",
       "0          High                       -                -   \n",
       "1           Low                       -                -   \n",
       "2           Low                       -                -   \n",
       "3        Medium                    High                -   \n",
       "4           Low                       -                -   \n",
       "\n",
       "  HAZARD_Interaction_with_other_strcutures WTG_ID_1  \\\n",
       "0                                        -   HWB 26   \n",
       "1                                        -   HWB 56   \n",
       "2                                        -   HWB 03   \n",
       "3                                        -   HWB 39   \n",
       "4                                        -   HWB 45   \n",
       "\n",
       "                                Link_to_LPEA_Annex_A  \n",
       "0  https://rwe.sharepoint.com/teams/HKW/Shared%20...  \n",
       "1  https://rwe.sharepoint.com/teams/HKW/Shared%20...  \n",
       "2  https://rwe.sharepoint.com/teams/HKW/Shared%20...  \n",
       "3  https://rwe.sharepoint.com/teams/HKW/Shared%20...  \n",
       "4  https://rwe.sharepoint.com/teams/HKW/Shared%20...  \n",
       "\n",
       "[5 rows x 36 columns]"
      ]
     },
     "execution_count": 38,
     "metadata": {},
     "output_type": "execute_result"
    }
   ],
   "source": [
    "arcpy.JoinField_management(gdb_feature, \"NAME\",gdb_table_path, \"WTG_ID\")\n",
    "print(\"DataFrame joined to feature class successfully.\")\n",
    "\n",
    "# Let check JOIN feature class\n",
    "data = []\n",
    "field_names = [field.name for field in arcpy.ListFields(feature_class)]\n",
    "with arcpy.da.SearchCursor(feature_class, field_names) as cursor:\n",
    "    for row in cursor:\n",
    "        data.append(row)\n",
    "        \n",
    "df = pd.DataFrame(data, columns=field_names)\n",
    "df.head(5)"
   ]
  },
  {
   "cell_type": "markdown",
   "metadata": {},
   "source": [
    "### 5) Delete Fields in a feature class [Optional]"
   ]
  },
  {
   "cell_type": "code",
   "execution_count": 154,
   "metadata": {},
   "outputs": [],
   "source": [
    "# Get list of field names\n",
    "field_names = [field.name for field in arcpy.ListFields(feature_class)]\n",
    "\n",
    "# Determine the fields to delete\n",
    "# fields_to_delete = field_names[-46:]\n",
    "# fields_to_delete"
   ]
  },
  {
   "cell_type": "markdown",
   "metadata": {},
   "source": [
    "### 5) Deleting file created in gdb!!!\n"
   ]
  },
  {
   "cell_type": "code",
   "execution_count": 39,
   "metadata": {},
   "outputs": [
    {
     "data": {
      "text/html": [
       "<div class='gpresult'><h2>Messages</h2><div id='messages' data-messages='[\"Start Time: Monday, February 26, 2024 2:43:35 PM\",\"Succeeded at Monday, February 26, 2024 2:43:36 PM (Elapsed Time: 0.71 seconds)\"]' data-show='true'><div id = 'default' /></div></div>"
      ],
      "text/plain": [
       "<Result 'true'>"
      ]
     },
     "execution_count": 39,
     "metadata": {},
     "output_type": "execute_result"
    }
   ],
   "source": [
    "arcpy.Delete_management(gdb_table_path)"
   ]
  },
  {
   "cell_type": "code",
   "execution_count": null,
   "metadata": {},
   "outputs": [],
   "source": []
  }
 ],
 "metadata": {
  "kernelspec": {
   "display_name": "Python 3",
   "language": "python",
   "name": "python3"
  },
  "language_info": {
   "codemirror_mode": {
    "name": "ipython",
    "version": 3
   },
   "file_extension": ".py",
   "mimetype": "text/x-python",
   "name": "python",
   "nbconvert_exporter": "python",
   "pygments_lexer": "ipython3",
   "version": "3.9.16"
  },
  "vscode": {
   "interpreter": {
    "hash": "ce21b655b4d6c9e397d5ad93d5666c623f49909f6d0cc2f72076dafcf1b3ecfb"
   }
  }
 },
 "nbformat": 4,
 "nbformat_minor": 2
}
