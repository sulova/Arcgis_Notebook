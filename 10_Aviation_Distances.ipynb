{
 "cells": [
  {
   "attachments": {},
   "cell_type": "markdown",
   "metadata": {},
   "source": [
    "## 10) Aviation Distances"
   ]
  },
  {
   "cell_type": "code",
   "execution_count": 7,
   "metadata": {},
   "outputs": [],
   "source": [
    "# Import arcpy module\n",
    "import arcpy\n",
    "import numpy\n",
    "import os\n",
    "import pandas as pd\n",
    "from IPython.display import display, HTML\n",
    "from ipywidgets import widgets\n",
    "from IPython.display import clear_output\n",
    "import os\n",
    "import arcpy\n",
    "import zipfile\n",
    "import pandas as pd\n",
    "from arcgis.gis import GIS\n",
    "from arcgis.features import FeatureLayer\n",
    "from arcpy import metadata as md"
   ]
  },
  {
   "attachments": {},
   "cell_type": "markdown",
   "metadata": {},
   "source": [
    "#### A) Select Site"
   ]
  },
  {
   "cell_type": "code",
   "execution_count": 8,
   "metadata": {},
   "outputs": [],
   "source": [
    "# Set the input feature class\n",
    "in_fc = r\"\\\\WM20ocqu46ph01\\WF_Projects\\NL_IJV\\2_FINAL\\WTG\\WTG.gdb\\BC3\\NL_IJV_I_WTG_L008_236D_DA5_67T_UTM31N_v0\"\n",
    "\n",
    "windfarm = r\"\\\\WM20ocqu46ph01\\WF_Projects\\NL_IJV\\2_FINAL\\WINDFARM\\WINDFARM.gdb\\NL_IJV_RVO_Windfarm_Sites_UTM31N_v1\"\n",
    "\n",
    "# Define the directory for Excel output\n",
    "directory_excel = r\"\\\\WM20ocqu46ph01\\WF_Projects\\NL_IJV\\4_OUTPUT\\_WTG\\Distances\"\n"
   ]
  },
  {
   "attachments": {},
   "cell_type": "markdown",
   "metadata": {},
   "source": [
    "#### - Read FC and Show positions of WTGs on the map"
   ]
  },
  {
   "cell_type": "code",
   "execution_count": 13,
   "metadata": {},
   "outputs": [
    {
     "data": {
      "text/html": [
       "<div>\n",
       "<style scoped>\n",
       "    .dataframe tbody tr th:only-of-type {\n",
       "        vertical-align: middle;\n",
       "    }\n",
       "\n",
       "    .dataframe tbody tr th {\n",
       "        vertical-align: top;\n",
       "    }\n",
       "\n",
       "    .dataframe thead th {\n",
       "        text-align: right;\n",
       "    }\n",
       "</style>\n",
       "<table border=\"1\" class=\"dataframe\">\n",
       "  <thead>\n",
       "    <tr style=\"text-align: right;\">\n",
       "      <th></th>\n",
       "      <th>OBJECTID</th>\n",
       "      <th>ID</th>\n",
       "      <th>X</th>\n",
       "      <th>Y</th>\n",
       "      <th>X_ETRS</th>\n",
       "      <th>Y_ETRS</th>\n",
       "      <th>SHAPE</th>\n",
       "    </tr>\n",
       "  </thead>\n",
       "  <tbody>\n",
       "    <tr>\n",
       "      <th>0</th>\n",
       "      <td>1</td>\n",
       "      <td>Site-1_01</td>\n",
       "      <td>531431.53</td>\n",
       "      <td>5847528.57</td>\n",
       "      <td>3.465956</td>\n",
       "      <td>52.776665</td>\n",
       "      <td>{\"x\": 531431.5300000003, \"y\": 5847528.57, \"spa...</td>\n",
       "    </tr>\n",
       "    <tr>\n",
       "      <th>1</th>\n",
       "      <td>2</td>\n",
       "      <td>Site-1_02</td>\n",
       "      <td>531702.24</td>\n",
       "      <td>5848691.88</td>\n",
       "      <td>3.470082</td>\n",
       "      <td>52.787107</td>\n",
       "      <td>{\"x\": 531702.2400000002, \"y\": 5848691.88000000...</td>\n",
       "    </tr>\n",
       "    <tr>\n",
       "      <th>2</th>\n",
       "      <td>3</td>\n",
       "      <td>Site-1_03</td>\n",
       "      <td>532651.96</td>\n",
       "      <td>5847777.87</td>\n",
       "      <td>3.484073</td>\n",
       "      <td>52.778833</td>\n",
       "      <td>{\"x\": 532651.96, \"y\": 5847777.869999999, \"spat...</td>\n",
       "    </tr>\n",
       "    <tr>\n",
       "      <th>3</th>\n",
       "      <td>4</td>\n",
       "      <td>Site-1_04</td>\n",
       "      <td>532909.48</td>\n",
       "      <td>5848930.51</td>\n",
       "      <td>3.488006</td>\n",
       "      <td>52.789179</td>\n",
       "      <td>{\"x\": 532909.4800000004, \"y\": 5848930.51, \"spa...</td>\n",
       "    </tr>\n",
       "    <tr>\n",
       "      <th>4</th>\n",
       "      <td>5</td>\n",
       "      <td>Site-1_05</td>\n",
       "      <td>533145.84</td>\n",
       "      <td>5850129.17</td>\n",
       "      <td>3.491633</td>\n",
       "      <td>52.799940</td>\n",
       "      <td>{\"x\": 533145.8399999999, \"y\": 5850129.17, \"spa...</td>\n",
       "    </tr>\n",
       "    <tr>\n",
       "      <th>...</th>\n",
       "      <td>...</td>\n",
       "      <td>...</td>\n",
       "      <td>...</td>\n",
       "      <td>...</td>\n",
       "      <td>...</td>\n",
       "      <td>...</td>\n",
       "      <td>...</td>\n",
       "    </tr>\n",
       "    <tr>\n",
       "      <th>62</th>\n",
       "      <td>63</td>\n",
       "      <td>Site-1_63</td>\n",
       "      <td>542031.36</td>\n",
       "      <td>5849729.49</td>\n",
       "      <td>3.623367</td>\n",
       "      <td>52.795728</td>\n",
       "      <td>{\"x\": 542031.3600000003, \"y\": 5849729.49, \"spa...</td>\n",
       "    </tr>\n",
       "    <tr>\n",
       "      <th>63</th>\n",
       "      <td>64</td>\n",
       "      <td>Site-1_64</td>\n",
       "      <td>542251.51</td>\n",
       "      <td>5850953.04</td>\n",
       "      <td>3.626790</td>\n",
       "      <td>52.806710</td>\n",
       "      <td>{\"x\": 542251.5099999998, \"y\": 5850953.03999999...</td>\n",
       "    </tr>\n",
       "    <tr>\n",
       "      <th>64</th>\n",
       "      <td>65</td>\n",
       "      <td>Site-1_65</td>\n",
       "      <td>542529.35</td>\n",
       "      <td>5852090.60</td>\n",
       "      <td>3.631060</td>\n",
       "      <td>52.816914</td>\n",
       "      <td>{\"x\": 542529.3499999996, \"y\": 5852090.6, \"spat...</td>\n",
       "    </tr>\n",
       "    <tr>\n",
       "      <th>65</th>\n",
       "      <td>66</td>\n",
       "      <td>Site-1_66</td>\n",
       "      <td>543457.55</td>\n",
       "      <td>5851153.57</td>\n",
       "      <td>3.644707</td>\n",
       "      <td>52.808417</td>\n",
       "      <td>{\"x\": 543457.5499999998, \"y\": 5851153.57, \"spa...</td>\n",
       "    </tr>\n",
       "    <tr>\n",
       "      <th>66</th>\n",
       "      <td>67</td>\n",
       "      <td>Site-1_67</td>\n",
       "      <td>543742.08</td>\n",
       "      <td>5852315.20</td>\n",
       "      <td>3.649083</td>\n",
       "      <td>52.818836</td>\n",
       "      <td>{\"x\": 543742.0800000001, \"y\": 5852315.19999999...</td>\n",
       "    </tr>\n",
       "  </tbody>\n",
       "</table>\n",
       "<p>67 rows × 7 columns</p>\n",
       "</div>"
      ],
      "text/plain": [
       "    OBJECTID         ID          X           Y    X_ETRS     Y_ETRS  \\\n",
       "0          1  Site-1_01  531431.53  5847528.57  3.465956  52.776665   \n",
       "1          2  Site-1_02  531702.24  5848691.88  3.470082  52.787107   \n",
       "2          3  Site-1_03  532651.96  5847777.87  3.484073  52.778833   \n",
       "3          4  Site-1_04  532909.48  5848930.51  3.488006  52.789179   \n",
       "4          5  Site-1_05  533145.84  5850129.17  3.491633  52.799940   \n",
       "..       ...        ...        ...         ...       ...        ...   \n",
       "62        63  Site-1_63  542031.36  5849729.49  3.623367  52.795728   \n",
       "63        64  Site-1_64  542251.51  5850953.04  3.626790  52.806710   \n",
       "64        65  Site-1_65  542529.35  5852090.60  3.631060  52.816914   \n",
       "65        66  Site-1_66  543457.55  5851153.57  3.644707  52.808417   \n",
       "66        67  Site-1_67  543742.08  5852315.20  3.649083  52.818836   \n",
       "\n",
       "                                                SHAPE  \n",
       "0   {\"x\": 531431.5300000003, \"y\": 5847528.57, \"spa...  \n",
       "1   {\"x\": 531702.2400000002, \"y\": 5848691.88000000...  \n",
       "2   {\"x\": 532651.96, \"y\": 5847777.869999999, \"spat...  \n",
       "3   {\"x\": 532909.4800000004, \"y\": 5848930.51, \"spa...  \n",
       "4   {\"x\": 533145.8399999999, \"y\": 5850129.17, \"spa...  \n",
       "..                                                ...  \n",
       "62  {\"x\": 542031.3600000003, \"y\": 5849729.49, \"spa...  \n",
       "63  {\"x\": 542251.5099999998, \"y\": 5850953.03999999...  \n",
       "64  {\"x\": 542529.3499999996, \"y\": 5852090.6, \"spat...  \n",
       "65  {\"x\": 543457.5499999998, \"y\": 5851153.57, \"spa...  \n",
       "66  {\"x\": 543742.0800000001, \"y\": 5852315.19999999...  \n",
       "\n",
       "[67 rows x 7 columns]"
      ]
     },
     "execution_count": 13,
     "metadata": {},
     "output_type": "execute_result"
    }
   ],
   "source": [
    "fc = pd.DataFrame.spatial.from_featureclass(in_fc)\n",
    "fc"
   ]
  },
  {
   "cell_type": "code",
   "execution_count": 12,
   "metadata": {},
   "outputs": [
    {
     "data": {
      "application/vnd.jupyter.widget-view+json": {
       "model_id": "41361af572c04707bcb6bdf71162ed41",
       "version_major": 2,
       "version_minor": 0
      },
      "text/plain": [
       "MapView(layout=Layout(height='400px', width='100%'))"
      ]
     },
     "metadata": {},
     "output_type": "display_data"
    },
    {
     "data": {
      "text/html": [
       "<div class=\"map-static-img-preview-dfdd5e52-b36b-4059-b176-edd658631c89\"><img src=\"\"></img></div>"
      ],
      "text/plain": [
       "<IPython.core.display.HTML object>"
      ]
     },
     "metadata": {},
     "output_type": "display_data"
    },
    {
     "data": {
      "text/html": [
       "<div class=\"map-html-embed-preview-dfdd5e52-b36b-4059-b176-edd658631c89\"></div>"
      ],
      "text/plain": [
       "<IPython.core.display.HTML object>"
      ]
     },
     "metadata": {},
     "output_type": "display_data"
    }
   ],
   "source": [
    "# Establish a connection to your GIS (provide credentials if necessary)\n",
    "gis = GIS()\n",
    "\n",
    "# Load the map\n",
    "map = gis.map(\"Netherlands\")  # Replace 'Your_Location' with your desired location\n",
    "my_fc = pd.DataFrame.spatial.from_featureclass(in_fc)\n",
    "map = my_fc.spatial.plot()\n"
   ]
  },
  {
   "cell_type": "markdown",
   "metadata": {},
   "source": []
  },
  {
   "attachments": {},
   "cell_type": "markdown",
   "metadata": {},
   "source": [
    "#### C) Export to SHP and Excel"
   ]
  },
  {
   "cell_type": "code",
   "execution_count": 8,
   "metadata": {},
   "outputs": [
    {
     "name": "stdout",
     "output_type": "stream",
     "text": [
      "Excel Path: \\\\WM20ocqu46ph01\\WF_Projects\\NL_HKW\\4_OUTPUT\\_Innovation\\HKW_VII_Subsea_Battery_pt_UTM31N_v2\\HKW_VII_Subsea_Battery_pt_UTM31N_v2.xlsx\n",
      "Shp Path: \\\\WM20ocqu46ph01\\WF_Projects\\NL_HKW\\4_OUTPUT\\_Innovation\\HKW_VII_Subsea_Battery_pt_UTM31N_v2\\HKW_VII_Subsea_Battery_pt_UTM31N_v2.shp\n"
     ]
    }
   ],
   "source": [
    "\n",
    "# Extract directory and file name\n",
    "file_path = os.path.dirname(in_fc)\n",
    "file_name = in_fc.split(os.path.sep)[-1]\n",
    "excel_name = file_name +\".xlsx\"\n",
    "shp_name = file_name +\".shp\"\n",
    "\n",
    "\n",
    "ouput_excel = os.path.join(directory_excel, excel_name)\n",
    "output_shapefile = os.path.join(directory_excel, shp_name)\n",
    "\n",
    "# print(\"Full Path:\", in_fc)\n",
    "# print(\"Directory:\", file_path)\n",
    "print(\"Excel Path:\", ouput_excel)\n",
    "print(\"Shp Path:\", output_shapefile)\n"
   ]
  },
  {
   "cell_type": "code",
   "execution_count": 9,
   "metadata": {},
   "outputs": [
    {
     "name": "stdout",
     "output_type": "stream",
     "text": [
      "Folder '\\\\WM20ocqu46ph01\\WF_Projects\\NL_HKW\\4_OUTPUT\\_Innovation\\HKW_VII_Subsea_Battery_pt_UTM31N_v2' already exists.\n",
      "Attribute table: \\\\WM20ocqu46ph01\\WF_Projects\\NL_HKW\\4_OUTPUT\\_Innovation\\HKW_VII_Subsea_Battery_pt_UTM31N_v2\\HKW_VII_Subsea_Battery_pt_UTM31N_v2.shp\n",
      "Shapefile: \\\\WM20ocqu46ph01\\WF_Projects\\NL_HKW\\4_OUTPUT\\_Innovation\\HKW_VII_Subsea_Battery_pt_UTM31N_v2\\HKW_VII_Subsea_Battery_pt_UTM31N_v2.xlsx\n"
     ]
    }
   ],
   "source": [
    "if not os.path.exists(directory_excel):\n",
    "    os.makedirs(directory_excel)\n",
    "    print(f\"Folder '{directory_excel}' created successfully.\")\n",
    "else:\n",
    "    print(f\"Folder '{directory_excel}' already exists.\")\n",
    "\n",
    "\n",
    "# Export attribute table to Excel\n",
    "arcpy.TableToExcel_conversion(in_fc, ouput_excel)\n",
    "# Export feature class to shapefile\n",
    "arcpy.CopyFeatures_management(in_fc, output_shapefile)\n",
    "\n",
    "print(\"Attribute table:\", output_shapefile)\n",
    "print(\"Shapefile:\", ouput_excel )\n",
    "\n"
   ]
  },
  {
   "cell_type": "code",
   "execution_count": null,
   "metadata": {},
   "outputs": [],
   "source": []
  }
 ],
 "metadata": {
  "kernelspec": {
   "display_name": "ArcGISPro",
   "language": "Python",
   "name": "python3"
  },
  "language_info": {
   "codemirror_mode": {
    "name": "ipython",
    "version": 3
   },
   "file_extension": ".py",
   "mimetype": "text/x-python",
   "name": "python",
   "nbconvert_exporter": "python",
   "pygments_lexer": "ipython3",
   "version": "3.9.16"
  },
  "vscode": {
   "interpreter": {
    "hash": "ce21b655b4d6c9e397d5ad93d5666c623f49909f6d0cc2f72076dafcf1b3ecfb"
   }
  }
 },
 "nbformat": 4,
 "nbformat_minor": 2
}
