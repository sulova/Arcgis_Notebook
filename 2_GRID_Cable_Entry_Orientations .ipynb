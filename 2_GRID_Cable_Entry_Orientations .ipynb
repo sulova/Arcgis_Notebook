{
 "cells": [
  {
   "cell_type": "markdown",
   "metadata": {},
   "source": [
    "# Cable Entry Orientations\n",
    "\n",
    "Certainly! Here's an example in ArcPy that demonstrates creating a buffer around points, finding intersections with another feature layer, and adding attributes to the intersecting points:\n"
   ]
  },
  {
   "cell_type": "code",
   "execution_count": 1,
   "metadata": {},
   "outputs": [],
   "source": [
    "import arcpy\n",
    "import math\n",
    "import arcpy\n",
    "import os\n",
    "import pandas as pd"
   ]
  },
  {
   "cell_type": "code",
   "execution_count": 2,
   "metadata": {},
   "outputs": [],
   "source": [
    "# Set up your workspace and paths\n",
    "arcpy.env.workspace = r'\\\\WM20ocqu46ph01\\TEMP\\Andrea_Sulova\\HKW\\0_HKW_Playground\\0_HKW_Playground.gdb'\n",
    "points_layer = \"HKW_VII_WTG_L09_236D_DA2_56T_UTM31N_v0\"  # Replace with your points layer nam\n",
    "cable_layer = \"HKW_VII_EAC_L05_DA2_53T_IMDC_string_UTM31_v2\"  # Replace with the layer to intersect\n",
    "\n",
    "# Name of the new field to create\n",
    "wtg_name = \"NAME\"\n",
    "x = \"X_ETRS_UTM31\"\n",
    "y = \"Y_ETRS_UTM31\"\n",
    "\n"
   ]
  },
  {
   "cell_type": "markdown",
   "metadata": {},
   "source": [
    "## Create a buffer around the points"
   ]
  },
  {
   "cell_type": "code",
   "execution_count": 3,
   "metadata": {},
   "outputs": [
    {
     "data": {
      "text/html": [
       "<div class='gpresult'><h2>Messages</h2><div id='messages' data-messages='[\"Start Time: Monday, February 12, 2024 6:33:01 PM\",\"Succeeded at Monday, February 12, 2024 6:33:04 PM (Elapsed Time: 3.47 seconds)\"]' data-show='true'><div id = 'default' /></div></div>"
      ],
      "text/plain": [
       "<Result '\\\\\\\\WM20ocqu46ph01\\\\TEMP\\\\Andrea_Sulova\\\\HKW\\\\0_HKW_Playground\\\\0_HKW_Playground.gdb\\\\Buffer_100'>"
      ]
     },
     "execution_count": 3,
     "metadata": {},
     "output_type": "execute_result"
    }
   ],
   "source": [
    "# Create a new output feature class with the selected fields\n",
    "buffer_output= \"Buffer_100\"\n",
    "arcpy.Buffer_analysis(points_layer, buffer_output, \"100 Meters\")\n"
   ]
  },
  {
   "cell_type": "markdown",
   "metadata": {},
   "source": [
    "## Create a new attribute Angle_between  "
   ]
  },
  {
   "cell_type": "code",
   "execution_count": 4,
   "metadata": {},
   "outputs": [
    {
     "data": {
      "text/html": [
       "<div class='gpresult'><h2>Messages</h2><div id='messages' data-messages='[\"Start Time: Monday, February 12, 2024 6:33:06 PM\",\"Succeeded at Monday, February 12, 2024 6:33:06 PM (Elapsed Time: 0.33 seconds)\"]' data-show='true'><div id = 'default' /></div></div>"
      ],
      "text/plain": [
       "<Result 'Buffer_100'>"
      ]
     },
     "execution_count": 4,
     "metadata": {},
     "output_type": "execute_result"
    }
   ],
   "source": [
    "new_field_name = \"Angle_between\"\n",
    "\n",
    "# Check if the field already exists and delete it if found\n",
    "existing_fields = [field.name for field in arcpy.ListFields(buffer_output)]\n",
    "if new_field_name in existing_fields:\n",
    "     arcpy.DeleteField_management(buffer_output, new_field_name)\n",
    "        \n",
    "# Add a new text field with 255 characters\n",
    "arcpy.AddField_management(buffer_output, new_field_name, \"TEXT\", field_length=255)\n",
    "# Calculate the new field using values from an existing field\n",
    "arcpy.CalculateField_management(buffer_output, new_field_name, \"!\" + wtg_name + \"!\", \"PYTHON\")\n"
   ]
  },
  {
   "cell_type": "markdown",
   "metadata": {},
   "source": [
    "## Join WTG names intersecting cables to Field: Angle_between "
   ]
  },
  {
   "cell_type": "code",
   "execution_count": 5,
   "metadata": {},
   "outputs": [
    {
     "data": {
      "text/html": [
       "<div class='gpresult'><h2>Messages</h2><div id='messages' data-messages='[\"Start Time: Monday, February 12, 2024 6:33:07 PM\",\"Succeeded at Monday, February 12, 2024 6:33:10 PM (Elapsed Time: 3.33 seconds)\"]' data-show='true'><div id = 'default' /></div></div>"
      ],
      "text/plain": [
       "<Result '\\\\\\\\WM20ocqu46ph01\\\\TEMP\\\\Andrea_Sulova\\\\HKW\\\\0_HKW_Playground\\\\0_HKW_Playground.gdb\\\\Spatial_Join'>"
      ]
     },
     "execution_count": 5,
     "metadata": {},
     "output_type": "execute_result"
    }
   ],
   "source": [
    "# Find the 'Name' field in the field mappings and set its output field properties\n",
    "field_mappings = arcpy.FieldMappings()\n",
    "\n",
    "# Add fields from the join feature class\n",
    "field_mappings.addTable(buffer_output)\n",
    "\n",
    "\n",
    "# Loop through the fields in the field mappings\n",
    "for field in field_mappings.fields:\n",
    "    if field.name == new_field_name:\n",
    "        # Find the field map index for the specified field\n",
    "        field_index = field_mappings.findFieldMapIndex(field.name)\n",
    "        if field_index != -1:\n",
    "            # Get the field map for the specified field index\n",
    "            field_map = field_mappings.getFieldMap(field_index)\n",
    "            # Set the merge rule for the field map\n",
    "            field_map.mergeRule = 'Join'\n",
    "            field_map.joinDelimiter = ' - '\n",
    "            # Replace the field map in the field mappings object\n",
    "            field_mappings.replaceFieldMap(field_index, field_map)\n",
    "\n",
    "# Set environments using arcpy.EnvManager as a context manager\n",
    "arcpy.analysis.SpatialJoin(\n",
    "        cable_layer,\n",
    "        buffer_output,\n",
    "        \"Spatial_Join\",\n",
    "        join_operation=\"JOIN_ONE_TO_ONE\",\n",
    "        join_type=\"KEEP_ALL\",\n",
    "        field_mapping = field_mappings,\n",
    "        match_option=\"WITHIN_A_DISTANCE\",\n",
    "        search_radius=\"30 Meters\")\n"
   ]
  },
  {
   "cell_type": "markdown",
   "metadata": {},
   "source": [
    "# Intersections"
   ]
  },
  {
   "cell_type": "code",
   "execution_count": 7,
   "metadata": {},
   "outputs": [
    {
     "data": {
      "text/html": [
       "<div class='gpresult'><h2>Messages</h2><div id='messages' data-messages='[\"Start Time: Monday, February 12, 2024 6:33:14 PM\",\"Reading Features...\",\"Cracking Features...\",\"Assembling Features...\",\"Succeeded at Monday, February 12, 2024 6:33:17 PM (Elapsed Time: 3.15 seconds)\"]' data-show='true'><div id = 'default' /></div></div>"
      ],
      "text/plain": [
       "<Result '\\\\\\\\WM20ocqu46ph01\\\\TEMP\\\\Andrea_Sulova\\\\HKW\\\\0_HKW_Playground\\\\0_HKW_Playground.gdb\\\\intersections'>"
      ]
     },
     "execution_count": 7,
     "metadata": {},
     "output_type": "execute_result"
    }
   ],
   "source": [
    "\n",
    "arcpy.analysis.Intersect([buffer_output,\"Spatial_Join\",],\"intersections\",\"ALL\",None,output_type=\"INPUT\")\n"
   ]
  },
  {
   "cell_type": "markdown",
   "metadata": {},
   "source": [
    "## Rename and Select Fields into the new feature class"
   ]
  },
  {
   "cell_type": "code",
   "execution_count": 19,
   "metadata": {},
   "outputs": [
    {
     "name": "stdout",
     "output_type": "stream",
     "text": [
      "Changed\n",
      "Changed\n"
     ]
    },
    {
     "data": {
      "text/html": [
       "<div class='gpresult'><h2>Messages</h2><div id='messages' data-messages='[\"Start Time: Thursday, January 25, 2024 3:47:32 PM\",\"Succeeded at Thursday, January 25, 2024 3:47:36 PM (Elapsed Time: 4.10 seconds)\"]' data-show='true'><div id = 'default' /></div></div>"
      ],
      "text/plain": [
       "<Result '\\\\\\\\WM20ocqu46ph01\\\\TEMP\\\\Andrea_Sulova\\\\HKW\\\\0_HKW_Playground\\\\0_HKW_Playground.gdb\\\\test'>"
      ]
     },
     "execution_count": 19,
     "metadata": {},
     "output_type": "execute_result"
    }
   ],
   "source": [
    "# Raname Fields nad \n",
    "new_name_start = \"Start_point\"\n",
    "if not arcpy.ListFields(\"intersections\", new_name_start):\n",
    "    arcpy.AlterField_management(\"intersections\",\"Name\", new_name_start ,new_name_start)\n",
    "    print('Changed')\n",
    "\n",
    "new_name_end = \"End_point\"    \n",
    "if not arcpy.ListFields(\"intersections\", new_name_end):\n",
    "    arcpy.AlterField_management(\"intersections\",\"Angle_between_1\",new_name_end, new_name_end )\n",
    "    print('Changed')\n",
    "    \n",
    "# Iterate through each row in the feature class using an update cursor\n",
    "with arcpy.da.UpdateCursor(\"intersections\", [\"Start_point\", \"End_point\"]) as cursor:\n",
    "    for row in cursor:\n",
    "        # Access field values using indexes or field names\n",
    "        split_values = row[1].split(' - ')\n",
    "        if len(split_values) >= 2:\n",
    "            # Update the fields accordingly\n",
    "            if split_values[0] == row[0]:\n",
    "                row[1] = split_values[1].strip()  # Modify the value\n",
    "                cursor.updateRow(row)  # Update the row in the feature class\n",
    "            if split_values[1] == row[0]:\n",
    "                row[1] = split_values[0].strip()  # Modify the value\n",
    "                cursor.updateRow(row)  # Update the row in the feature class\n",
    "\n",
    "# List of fields to keep (change these to the actual field names you want to keep)\n",
    "fields_to_keep = [new_name_start, new_name_end,x,y ]\n",
    "\n",
    "# Create a field mappings object\n",
    "field_mappings = arcpy.FieldMappings()\n",
    "\n",
    "# Iterate through all fields in the input feature class\n",
    "for field in arcpy.ListFields(\"intersections\"):\n",
    "    # Add the field if it's in the list of fields to keep\n",
    "    if field.name in fields_to_keep:\n",
    "        # Create a field map for the selected field\n",
    "        field_map = arcpy.FieldMap()\n",
    "        field_map.addInputField(\"intersections\", field.name)\n",
    "        \n",
    "        # Create an output field to the field mapping\n",
    "        output_field = field_map.outputField\n",
    "        output_field.name = field.name\n",
    "        field_map.outputField = output_field\n",
    "\n",
    "        # Add the field map to the field mappings object\n",
    "        field_mappings.addFieldMap(field_map)\n",
    "\n",
    "# Use FeatureClassToFeatureClass_conversion with field mapping to copy the selected fields\n",
    "arcpy.FeatureClassToFeatureClass_conversion(\"intersections\", arcpy.env.workspace, \n",
    "                                           arcpy.ValidateTableName(\"test\", arcpy.env.workspace), \n",
    "                                           field_mapping=field_mappings)\n"
   ]
  },
  {
   "cell_type": "markdown",
   "metadata": {},
   "source": [
    "# Retrieve start and end points of the line"
   ]
  },
  {
   "cell_type": "code",
   "execution_count": 20,
   "metadata": {},
   "outputs": [],
   "source": [
    "\n",
    "# Path to your feature class\n",
    "feature_class = \"test\"\n",
    "\n",
    "# Add new float fields to the feature class\n",
    "arcpy.AddField_management(feature_class, \"X1\", \"Text\")\n",
    "arcpy.AddField_management(feature_class, \"Y1\", \"Text\")\n",
    "arcpy.AddField_management(feature_class, \"X2\", \"Text\")\n",
    "arcpy.AddField_management(feature_class, \"Y2\", \"Text\")\n",
    "arcpy.AddField_management(feature_class, \"AngleFromNorth\", \"Double\")  # Add a field for storing the angle from North\n",
    "\n",
    "# Create an update cursor for your feature class\n",
    "with arcpy.da.UpdateCursor(feature_class, [\"SHAPE@\", \"X1\", \"Y1\", \"X2\", \"Y2\", \"AngleFromNorth\", x, y]) as cursor:\n",
    "    for row in cursor:\n",
    "        # Access geometry of the line\n",
    "        line_geometry = row[0]\n",
    "        # Retrieve start and end points of the line\n",
    "        start_point = line_geometry.firstPoint\n",
    "        end_point = line_geometry.lastPoint\n",
    "        \n",
    "        if abs(start_point.X - row[6]) <= 10.0 and abs(start_point.Y - row[7]) <=10.0:\n",
    "            row[1] = start_point.X \n",
    "            row[2] = start_point.Y \n",
    "            row[3] = end_point.X \n",
    "            row[4] = end_point.Y\n",
    "            \n",
    "            # Calculate the angle with respect to North\n",
    "            angle_from_north = math.degrees(math.atan2(end_point.X - start_point.X, end_point.Y - start_point.Y))\n",
    "            \n",
    "            # Adjust the angle to be in the range [0, 360]\n",
    "            angle_from_north = (angle_from_north + 360) % 360\n",
    "            row[5] = angle_from_north  # Set the angle value in the \"AngleFromNorth\" field\n",
    "            cursor.updateRow(row)\n",
    "        else:\n",
    "            row[1] = end_point.X\n",
    "            row[2] = end_point.Y\n",
    "            row[3] = start_point.X \n",
    "            row[4] = start_point.Y  \n",
    "            angle_from_north = math.degrees(math.atan2(start_point.X - end_point.X, start_point.Y - end_point.Y))\n",
    "            \n",
    "            # Adjust the angle to be in the range [0, 360]\n",
    "            angle_from_north = (angle_from_north + 360) % 360\n",
    "            row[5] = angle_from_north  # Set the angle value in the \"AngleFromNorth\" field\n",
    "            cursor.updateRow(row)\n",
    "\n",
    "\n",
    "# List of fields to be removed\n",
    "if arcpy.ListFields(feature_class, x):\n",
    "    fields_to_remove = [x,y, \"Shape_lenght\"]\n",
    "    arcpy.management.DeleteField(feature_class, fields_to_remove)\n",
    "\n"
   ]
  },
  {
   "cell_type": "markdown",
   "metadata": {},
   "source": [
    "## Export a shapefile and an Excel file "
   ]
  },
  {
   "cell_type": "code",
   "execution_count": 21,
   "metadata": {},
   "outputs": [
    {
     "name": "stdout",
     "output_type": "stream",
     "text": [
      "Export completed successfully.\n"
     ]
    }
   ],
   "source": [
    "# Set the workspace (folder) where the shapefile and Excel file will be saved\n",
    "output_folder = r\"\\\\WM20ocqu46ph01\\WF_Projects\\NL_HKW\\4_OUTPUT\\20240125_GRID_Cable_Entry_Orientation_IMDC_Christian\"\n",
    "arcpy.env.workspace = output_folder\n",
    "\n",
    "output_shapefile = os.path.join(output_folder, \"Orientation_Cable.shp\")\n",
    "output_excel = os.path.join(output_folder, \"Angle_Entry_Exit_Cable.xlsx\")\n",
    "\n",
    "# Export the shapefile and Excel\n",
    "arcpy.CopyFeatures_management(feature_class, output_shapefile)\n",
    "arcpy.TableToExcel_conversion(feature_class, output_excel)\n",
    "\n",
    "print(\"Export completed successfully.\")"
   ]
  },
  {
   "cell_type": "code",
   "execution_count": null,
   "metadata": {},
   "outputs": [],
   "source": []
  },
  {
   "cell_type": "code",
   "execution_count": null,
   "metadata": {},
   "outputs": [],
   "source": []
  }
 ],
 "metadata": {
  "kernelspec": {
   "display_name": "ArcGISPro",
   "language": "Python",
   "name": "python3"
  },
  "language_info": {
   "file_extension": ".py",
   "name": "python",
   "version": "3"
  }
 },
 "nbformat": 4,
 "nbformat_minor": 2
}
