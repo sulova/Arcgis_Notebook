{
 "cells": [
  {
   "attachments": {},
   "cell_type": "markdown",
   "metadata": {},
   "source": [
    "### 4) Buffer to a center point -->  Increase Buffer Zone"
   ]
  },
  {
   "cell_type": "code",
   "execution_count": 1,
   "metadata": {},
   "outputs": [],
   "source": [
    "import arcpy\n"
   ]
  },
  {
   "cell_type": "code",
   "execution_count": 11,
   "metadata": {},
   "outputs": [],
   "source": [
    "\n",
    "# Set up your workspace and feature classes\n",
    "arcpy.env.workspace = r\"\\\\WM20ocqu46ph01\\WF_Projects\\NL_IJV\\2_FINAL\\INNOVATION\\INNOVATION.gdb\"\n",
    "input_feature = \"NL_IJV_Solar_Buffer_750m_UTM31_v0\"\n",
    "\n",
    "centroid = arcpy.management.FeatureToPoint(input_feature, \"centroid_feature\", \"CENTROID\").getOutput(0)\n",
    "\n",
    "\n",
    "\n"
   ]
  },
  {
   "cell_type": "code",
   "execution_count": 14,
   "metadata": {},
   "outputs": [],
   "source": [
    "input_feature_centroid = \"NL_IJV_Solar_Buffer_400m_UTM31_centroid_v0\""
   ]
  },
  {
   "cell_type": "code",
   "execution_count": 15,
   "metadata": {},
   "outputs": [],
   "source": [
    "buffer_distance = \"450 Meters\"  # Distance for the initial buffer zone\n",
    "\n",
    "# Create a buffer around the input feature\n",
    "buffered_feature = arcpy.Buffer_analysis(input_feature_centroid, \"buffered_feature\", buffer_distance)\n",
    "\n",
    "# Get the centroid of the buffered feature\n"
   ]
  },
  {
   "cell_type": "code",
   "execution_count": null,
   "metadata": {},
   "outputs": [],
   "source": []
  }
 ],
 "metadata": {
  "kernelspec": {
   "display_name": "Python 3",
   "language": "python",
   "name": "python3"
  },
  "language_info": {
   "codemirror_mode": {
    "name": "ipython",
    "version": 3
   },
   "file_extension": ".py",
   "mimetype": "text/x-python",
   "name": "python",
   "nbconvert_exporter": "python",
   "pygments_lexer": "ipython3",
   "version": "3.9.16"
  },
  "vscode": {
   "interpreter": {
    "hash": "ce21b655b4d6c9e397d5ad93d5666c623f49909f6d0cc2f72076dafcf1b3ecfb"
   }
  }
 },
 "nbformat": 4,
 "nbformat_minor": 2
}
