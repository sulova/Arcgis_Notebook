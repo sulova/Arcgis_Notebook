{
 "cells": [
  {
   "attachments": {},
   "cell_type": "markdown",
   "metadata": {},
   "source": [
    "### Export IJVER FC To Shp"
   ]
  },
  {
   "cell_type": "code",
   "execution_count": 4,
   "metadata": {},
   "outputs": [],
   "source": [
    "# Import arcpy module\n",
    "import arcpy\n",
    "import numpy\n",
    "import os\n",
    "import pandas as pd\n",
    "from IPython.display import display, HTML"
   ]
  },
  {
   "attachments": {},
   "cell_type": "markdown",
   "metadata": {},
   "source": [
    "### 1) Input Shapefles"
   ]
  },
  {
   "cell_type": "code",
   "execution_count": 5,
   "metadata": {},
   "outputs": [],
   "source": [
    "list_shp = [r\"\\\\WM20ocqu46ph01\\WF_Projects\\NL_IJV\\2_FINAL\\WTG\\WTG.gdb\\NL_IJV_I_WTG_L005_276D_DA6_50T_UTM31N_v1\",\n",
    "            r\"\\\\WM20ocqu46ph01\\WF_Projects\\NL_IJV\\2_FINAL\\WTG\\WTG.gdb\\NL_IJV_II_WTG_L005_276D_DA6_50T_UTM31N_v1\",\n",
    "            r\"\\\\WM20ocqu46ph01\\WF_Projects\\NL_IJV\\2_FINAL\\WTG\\WTG.gdb\\NL_IJV_III_WTG_L005_276D_DA6_50T_UTM31N_v1\",\n",
    "            r\"\\\\WM20ocqu46ph01\\WF_Projects\\NL_IJV\\2_FINAL\\WTG\\WTG.gdb\\NL_IJV_IV_WTG_L005_276D_DA6_50T_UTM31N_v1\"          \n",
    "            \n",
    "            \n",
    "            ]\n",
    "\n",
    "\n",
    "folder = r\"\\\\WM20ocqu46ph01\\WF_Projects\\NL_IJV\\4_OUTPUT\\_WTG_GRID_layouts\""
   ]
  },
  {
   "attachments": {},
   "cell_type": "markdown",
   "metadata": {},
   "source": [
    "2) Export FC to SHP"
   ]
  },
  {
   "cell_type": "code",
   "execution_count": 6,
   "metadata": {},
   "outputs": [
    {
     "name": "stdout",
     "output_type": "stream",
     "text": [
      "Input file: \\\\WM20ocqu46ph01\\WF_Projects\\NL_IJV\\2_FINAL\\WTG\\WTG.gdb\\NL_IJV_I_WTG_L005_276D_DA6_50T_UTM31N_v1\n",
      "Input file: \\\\WM20ocqu46ph01\\WF_Projects\\NL_IJV\\2_FINAL\\WTG\\WTG.gdb\\NL_IJV_II_WTG_L005_276D_DA6_50T_UTM31N_v1\n",
      "Input file: \\\\WM20ocqu46ph01\\WF_Projects\\NL_IJV\\2_FINAL\\WTG\\WTG.gdb\\NL_IJV_III_WTG_L005_276D_DA6_50T_UTM31N_v1\n",
      "Input file: \\\\WM20ocqu46ph01\\WF_Projects\\NL_IJV\\2_FINAL\\WTG\\WTG.gdb\\NL_IJV_IV_WTG_L005_276D_DA6_50T_UTM31N_v1\n"
     ]
    }
   ],
   "source": [
    "for i in list_shp:\n",
    "    print('Input file:', i)\n",
    "    fc_name = i.split(os.path.sep)[-1]\n",
    "\n",
    "    if fc_name:\n",
    "        name_shp = fc_name + \".shp\"\n",
    "        output_shp = os.path.join(folder, fc_name, fc_name+ \".shp\")\n",
    "        folder_shp = os.path.join(folder, fc_name)\n",
    "        if not os.path.exists(folder_shp):\n",
    "            os.makedirs(folder_shp)\n",
    "        if not os.path.exists(output_shp):\n",
    "            arcpy.FeatureClassToFeatureClass_conversion(i, folder_shp, name_shp)\n",
    "            print(f\"- Shapefile '{output_shp}' created successfully.\")\n"
   ]
  },
  {
   "attachments": {},
   "cell_type": "markdown",
   "metadata": {},
   "source": [
    "3) Export FC to Excel"
   ]
  },
  {
   "cell_type": "code",
   "execution_count": 7,
   "metadata": {},
   "outputs": [
    {
     "name": "stdout",
     "output_type": "stream",
     "text": [
      "Input file: \\\\WM20ocqu46ph01\\WF_Projects\\NL_IJV\\2_FINAL\\WTG\\WTG.gdb\\NL_IJV_I_WTG_L005_276D_DA6_50T_UTM31N_v1\n",
      "Input file: \\\\WM20ocqu46ph01\\WF_Projects\\NL_IJV\\2_FINAL\\WTG\\WTG.gdb\\NL_IJV_II_WTG_L005_276D_DA6_50T_UTM31N_v1\n",
      "Input file: \\\\WM20ocqu46ph01\\WF_Projects\\NL_IJV\\2_FINAL\\WTG\\WTG.gdb\\NL_IJV_III_WTG_L005_276D_DA6_50T_UTM31N_v1\n",
      "- Excel '\\\\WM20ocqu46ph01\\WF_Projects\\NL_IJV\\4_OUTPUT\\_WTG_GRID_layouts\\NL_IJV_III_WTG_L005_276D_DA6_50T_UTM31N_v1\\NL_IJV_III_WTG_L005_276D_DA6_50T_UTM31N_v1.xlsx' created successfully.\n",
      "Input file: \\\\WM20ocqu46ph01\\WF_Projects\\NL_IJV\\2_FINAL\\WTG\\WTG.gdb\\NL_IJV_IV_WTG_L005_276D_DA6_50T_UTM31N_v1\n"
     ]
    }
   ],
   "source": [
    "for i in list_shp:\n",
    "    print('Input file:', i)\n",
    "    fc_name = i.split(os.path.sep)[-1]\n",
    "\n",
    "    if fc_name:\n",
    "    \n",
    "        output_excel = os.path.join(folder, fc_name, fc_name + \".xlsx\")\n",
    "        folder_excel = os.path.join(folder, fc_name)\n",
    "\n",
    "        if not os.path.exists(folder_excel):\n",
    "            os.makedirs(folder_excel)\n",
    "            # Export attribute table to Excel\n",
    "        if not os.path.exists(output_excel):\n",
    "            arcpy.TableToExcel_conversion(i, output_excel)\n",
    "            print(f\"- Excel '{output_excel}' created successfully.\")\n"
   ]
  },
  {
   "attachments": {},
   "cell_type": "markdown",
   "metadata": {},
   "source": [
    "4) Export FC to DWG"
   ]
  },
  {
   "cell_type": "code",
   "execution_count": 12,
   "metadata": {},
   "outputs": [
    {
     "name": "stdout",
     "output_type": "stream",
     "text": [
      "Input file: \\\\WM20ocqu46ph01\\WF_Projects\\NL_IJV\\2_FINAL\\WTG\\WTG.gdb\\NL_IJV_I_WTG_L005_276D_DA6_50T_UTM31N_v1\n",
      "Input file: \\\\WM20ocqu46ph01\\WF_Projects\\NL_IJV\\2_FINAL\\WTG\\WTG.gdb\\NL_IJV_II_WTG_L005_276D_DA6_50T_UTM31N_v1\n",
      "Input file: \\\\WM20ocqu46ph01\\WF_Projects\\NL_IJV\\2_FINAL\\WTG\\WTG.gdb\\NL_IJV_III_WTG_L005_276D_DA6_50T_UTM31N_v1\n",
      "Input file: \\\\WM20ocqu46ph01\\WF_Projects\\NL_IJV\\2_FINAL\\WTG\\WTG.gdb\\NL_IJV_IV_WTG_L005_276D_DA6_50T_UTM31N_v1\n",
      "- DWG '\\\\WM20ocqu46ph01\\WF_Projects\\NL_IJV\\4_OUTPUT\\_WTG_GRID_layouts\\NL_IJV_IV_WTG_L005_276D_DA6_50T_UTM31N_v1_DWG' created successfully.\n"
     ]
    }
   ],
   "source": [
    "for i in list_shp:\n",
    "    print('Input file:', i)\n",
    "    fc_name = i.split(os.path.sep)[-1]\n",
    "\n",
    "    if fc_name:\n",
    "        # Output DWG file\n",
    "        dwg_folder = os.path.join(folder, fc_name + '_DWG')\n",
    "        dwg_output = os.path.join(dwg_folder, fc_name +'.dwg')\n",
    "        if not os.path.exists(dwg_folder):\n",
    "            os.makedirs(dwg_folder)\n",
    "        if not os.path.exists(dwg_output):\n",
    "            arcpy.conversion.ExportCAD(output_shp, \"DWG_R2018\", dwg_output, False, False)\n",
    "            print(f\"- DWG '{dwg_folder}' created successfully.\")\n"
   ]
  },
  {
   "cell_type": "markdown",
   "metadata": {},
   "source": []
  }
 ],
 "metadata": {
  "kernelspec": {
   "display_name": "Python 3",
   "language": "python",
   "name": "python3"
  },
  "language_info": {
   "codemirror_mode": {
    "name": "ipython",
    "version": 3
   },
   "file_extension": ".py",
   "mimetype": "text/x-python",
   "name": "python",
   "nbconvert_exporter": "python",
   "pygments_lexer": "ipython3",
   "version": "3.9.16 [MSC v.1931 64 bit (AMD64)]"
  },
  "vscode": {
   "interpreter": {
    "hash": "ce21b655b4d6c9e397d5ad93d5666c623f49909f6d0cc2f72076dafcf1b3ecfb"
   }
  }
 },
 "nbformat": 4,
 "nbformat_minor": 2
}
