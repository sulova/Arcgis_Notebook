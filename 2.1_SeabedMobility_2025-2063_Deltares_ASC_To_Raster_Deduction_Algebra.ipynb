{
 "cells": [
  {
   "cell_type": "markdown",
   "metadata": {},
   "source": [
    "## Assessment of design seabed elevations"
   ]
  },
  {
   "cell_type": "code",
   "execution_count": 1,
   "metadata": {},
   "outputs": [],
   "source": [
    "import arcpy\n",
    "from arcpy.sa import *\n",
    "import numpy as np\n",
    "import matplotlib.pyplot as plt\n",
    "import os"
   ]
  },
  {
   "cell_type": "markdown",
   "metadata": {},
   "source": [
    "### 1) Create raste from ASC files in GDB"
   ]
  },
  {
   "cell_type": "code",
   "execution_count": 14,
   "metadata": {},
   "outputs": [
    {
     "name": "stdout",
     "output_type": "stream",
     "text": [
      "BEB_2025.asc\n",
      "BEB_2026.asc\n",
      "BEB_2030.asc\n",
      "BEB_2035.asc\n",
      "BEB_2040.asc\n",
      "BEB_2045.asc\n",
      "BEB_2050.asc\n",
      "BEB_2055.asc\n",
      "BEB_2060.asc\n",
      "BEB_2062.asc\n",
      "BEB_2063.asc\n",
      "HSBL_2025.asc\n",
      "HSBL_2026.asc\n",
      "HSBL_2030.asc\n",
      "HSBL_2035.asc\n",
      "HSBL_2040.asc\n",
      "HSBL_2045.asc\n",
      "HSBL_2050.asc\n",
      "HSBL_2055.asc\n",
      "HSBL_2060.asc\n",
      "HSBL_2062.asc\n",
      "HSBL_2063.asc\n",
      "LSBL_2025.asc\n",
      "LSBL_2026.asc\n",
      "LSBL_2030.asc\n",
      "LSBL_2035.asc\n",
      "LSBL_2040.asc\n",
      "LSBL_2045.asc\n",
      "LSBL_2050.asc\n",
      "LSBL_2055.asc\n",
      "LSBL_2060.asc\n",
      "LSBL_2062.asc\n",
      "LSBL_2063.asc\n"
     ]
    }
   ],
   "source": [
    "# Import system modules\n",
    "import arcgisscripting, os\n",
    "\n",
    "gp = arcgisscripting.create()\n",
    "\n",
    "# Set local variables\n",
    "InAsciiFile = None\n",
    "inDir = r\"\\\\WM20ocqu46ph01\\WF_Projects\\NL_HKW\\1_INPUT\\SITEINV\\20230928_Deltares_Seabed_Mobility_Pooyan_Ghasemi_Ecodoc004813220-02\\ASC_files\"\n",
    "OutRaster = r\"\\\\WM20ocqu46ph01\\WF_Projects\\NL_HKW\\1_INPUT\\SITEINV\\20230928_Deltares_Seabed_Mobility_Pooyan_Ghasemi_Ecodoc004813220-02\\SeabedMobility_Deltares_BEB_HSBL_20230928.gdb\"\n",
    "\n",
    "\n",
    "# Set the coordinate system\n",
    "output_coordinate_system = arcpy.SpatialReference(32631)\n",
    "# Set the output coordinate system environment setting\n",
    "arcpy.env.outputCoordinateSystem = output_coordinate_system\n",
    "\n",
    "\n",
    "for InAsciiFile in os.listdir(inDir):\n",
    "    if InAsciiFile.rsplit(\".\")[-1] == \"asc\":\n",
    "        print (InAsciiFile)\n",
    "        # arcpy.ASCIIToRaster_conversion(os.path.join(inDir,InAsciiFile), os.path.join(OutRaster,InAsciiFile.rsplit(\".\")[0]), \"FLOAT\")\n",
    "        # arcpy.management.DefineProjection( os.path.join(OutRaster,InAsciiFile.rsplit(\".\")[0]), output_coordinate_system)\n"
   ]
  },
  {
   "cell_type": "markdown",
   "metadata": {},
   "source": [
    "##### Plot one raster as an example"
   ]
  },
  {
   "cell_type": "code",
   "execution_count": 15,
   "metadata": {},
   "outputs": [],
   "source": [
    "# Display the raster using matplotlib\n",
    "\n",
    "# arcpy.env.workspace = r\"\\\\WM20ocqu46ph01\\WF_Projects\\NL_HKW\\1_INPUT\\SITEINV\\20230928_Deltares_Seabed_Mobility_Pooyan_Ghasemi_Ecodoc004813220-02\\SeabedMobility_Deltares_BEB_HSBL_20230928.gdb\"\n",
    "# raster_name = \"BEB_2026\"\n",
    "\n",
    "# Convert the raster to a NumPy array\n",
    "# raster_array = arcpy.RasterToNumPyArray(raster_name)\n",
    "\n",
    "\n",
    "# plt.figure(figsize=(8, 8))  # Set the figure size\n",
    "# plt.imshow(raster_array)  # Choose a colormap (e.g., viridis)\n",
    "# plt.colorbar()\n",
    "# \n",
    "# plt.title(\"Raster Image\")  # Set a title\n",
    "# plt.axis('off')  # Turn off axis labels\n",
    "# plt.show()"
   ]
  },
  {
   "cell_type": "markdown",
   "metadata": {},
   "source": [
    "### 2) List of raster in GDB"
   ]
  },
  {
   "cell_type": "code",
   "execution_count": 16,
   "metadata": {},
   "outputs": [
    {
     "name": "stdout",
     "output_type": "stream",
     "text": [
      "Filter rasters that start with B, H and L:\n",
      " ['BEB_2025', 'BEB_2026', 'BEB_2030', 'BEB_2035', 'BEB_2040', 'BEB_2045', 'BEB_2050', 'BEB_2055', 'BEB_2060', 'BEB_2062', 'BEB_2063'] \n",
      " ['HSBL_2025', 'HSBL_2026', 'HSBL_2030', 'HSBL_2035', 'HSBL_2040', 'HSBL_2045', 'HSBL_2050', 'HSBL_2055', 'HSBL_2060', 'HSBL_2062', 'HSBL_2063'] \n",
      " ['LSBL_2025', 'LSBL_2026', 'LSBL_2030', 'LSBL_2035', 'LSBL_2040', 'LSBL_2045', 'LSBL_2050', 'LSBL_2055', 'LSBL_2060', 'LSBL_2062', 'LSBL_2063']\n"
     ]
    }
   ],
   "source": [
    "\n",
    "# Set the workspace to the File Geodatabase\n",
    "arcpy.env.workspace = r\"\\\\WM20ocqu46ph01\\WF_Projects\\NL_HKW\\1_INPUT\\SITEINV\\20230928_Deltares_Seabed_Mobility_Pooyan_Ghasemi_Ecodoc004813220-02\\SeabedMobility_Deltares_BEB_HSBL_20230928.gdb\"\n",
    "\n",
    "# List all datasets (tables, feature classes, and rasters) in the geodatabase\n",
    "datasets = arcpy.ListDatasets()\n",
    "\n",
    "# List all rasters in the geodatabase\n",
    "rasters = arcpy.ListRasters()\n",
    "\n",
    "# Filter rasters that start with 'B', 'H' and 'L':\n",
    "rasters_starting_with_B = [raster for raster in rasters if raster.startswith('B')]\n",
    "rasters_starting_with_H = [raster for raster in rasters if raster.startswith('H')]\n",
    "rasters_starting_with_L = [raster for raster in rasters if raster.startswith('L')]\n",
    "\n",
    "print('Filter rasters that start with B, H and L:\\n', \n",
    "          rasters_starting_with_B,'\\n',      rasters_starting_with_H,'\\n',  rasters_starting_with_L)\n"
   ]
  },
  {
   "cell_type": "markdown",
   "metadata": {},
   "source": [
    "### 3) Dedution betweeen list of raster "
   ]
  },
  {
   "cell_type": "code",
   "execution_count": 17,
   "metadata": {},
   "outputs": [
    {
     "name": "stdout",
     "output_type": "stream",
     "text": [
      "Default rasters for 2025: BEB_2025 HSBL_2025 LSBL_2025\n"
     ]
    }
   ],
   "source": [
    "# Iterate through the list of rasters and perform subtraction\n",
    "raster_2025_B = arcpy.Raster(rasters_starting_with_B[0])\n",
    "raster_2025_H = arcpy.Raster(rasters_starting_with_H[0])\n",
    "raster_2025_L = arcpy.Raster(rasters_starting_with_L[0])\n",
    "\n",
    "print('Default rasters for 2025:',raster_2025_B ,raster_2025_H, raster_2025_L)\n"
   ]
  },
  {
   "cell_type": "code",
   "execution_count": 18,
   "metadata": {},
   "outputs": [
    {
     "name": "stdout",
     "output_type": "stream",
     "text": [
      "BEB_2026\n",
      "BEB_2030\n",
      "BEB_2035\n",
      "BEB_2040\n",
      "BEB_2045\n",
      "BEB_2050\n",
      "BEB_2055\n",
      "BEB_2060\n",
      "BEB_2062\n",
      "BEB_2063\n"
     ]
    }
   ],
   "source": [
    "# Iterate through the list of rasters and perform subtraction\n",
    "for i in range(1, len(rasters_starting_with_B)):\n",
    "    print(rasters_starting_with_B[i])"
   ]
  },
  {
   "cell_type": "code",
   "execution_count": null,
   "metadata": {},
   "outputs": [
    {
     "name": "stdout",
     "output_type": "stream",
     "text": [
      "1 Substraction between: BEB_2025 and BEB_2026\n",
      "2 Substraction between: BEB_2025 and BEB_2030\n"
     ]
    }
   ],
   "source": [
    "# Iterate through the list of rasters and perform subtraction\n",
    "\n",
    "output_folder = r\"\\\\WM20ocqu46ph01\\WF_Projects\\NL_HKW\\1_INPUT\\SITEINV\\20230928_Deltares_Seabed_Mobility_Pooyan_Ghasemi_Ecodoc004813220-02\\SeabedMobility_Deltares_Deduction\"\n",
    "\n",
    "for i in range(1, len(rasters_starting_with_B)):\n",
    "    \n",
    "    print(i, 'Substraction between:',raster_2025_B,'and', rasters_starting_with_B[i])\n",
    "    \n",
    "    # Subtract raster2 from raster1\n",
    "    result =  rasters_starting_with_B[i] - raster_2025_B\n",
    "    \n",
    "    \n",
    "    # Define the output raster path and save it\n",
    "    output_raster = arcpy.CreateUniqueName(f\"Deduction_{raster_2025_B}_{rasters_starting_with_B[i]}.tif\", output_folder)\n",
    "    result.save(output_raster)\n",
    "\n",
    "print(\"Subtraction completed.\")\n",
    "\n"
   ]
  },
  {
   "cell_type": "code",
   "execution_count": null,
   "metadata": {},
   "outputs": [],
   "source": [
    "# Iterate through the list of rasters and perform subtraction\n",
    "\n",
    "output_folder = r\"\\\\WM20ocqu46ph01\\WF_Projects\\NL_HKW\\1_INPUT\\SITEINV\\20230928_Deltares_Seabed_Mobility_Pooyan_Ghasemi_Ecodoc004813220-02\\SeabedMobility_Deltares_Deduction\"\n",
    "\n",
    "for i in range(1, len(rasters_starting_with_H)):\n",
    "    \n",
    "    print(i, 'Substraction between:',raster_2025_H,'and', rasters_starting_with_H[i])\n",
    "    \n",
    "    # Subtract raster2 from raster1\n",
    "    result =  rasters_starting_with_H[i] - raster_2025_H\n",
    "    \n",
    "    # Define the output raster path and save it\n",
    "    output_raster = arcpy.CreateUniqueName(f\"Deduction_{raster_2025_H}_{rasters_starting_with_H[i]}.tif\", output_folder)\n",
    "    result.save(output_raster)\n",
    "\n",
    "print(\"Subtraction completed.\")\n",
    "\n"
   ]
  },
  {
   "cell_type": "code",
   "execution_count": null,
   "metadata": {},
   "outputs": [],
   "source": [
    "# Iterate through the list of rasters and perform subtraction\n",
    "\n",
    "output_folder = r\"\\\\WM20ocqu46ph01\\WF_Projects\\NL_HKW\\1_INPUT\\SITEINV\\20230928_Deltares_Seabed_Mobility_Pooyan_Ghasemi_Ecodoc004813220-02\\SeabedMobility_Deltares_Deduction\"\n",
    "\n",
    "for i in range(1, len(rasters_starting_with_L)):\n",
    "    \n",
    "    print(i, 'Substraction between:',raster_2025_L,'and', rasters_starting_with_L[i])\n",
    "    \n",
    "    # Subtract raster2 from raster1\n",
    "    result =  rasters_starting_with_L[i] - raster_2025_L\n",
    "    \n",
    "    # Define the output raster path and save it\n",
    "    output_raster = arcpy.CreateUniqueName(f\"Deduction_{raster_2025_L}_{rasters_starting_with_L[i]}.tif\", output_folder)\n",
    "    result.save(output_raster)\n",
    "\n",
    "print(\"Subtraction completed.\")\n",
    "\n"
   ]
  },
  {
   "cell_type": "markdown",
   "metadata": {},
   "source": [
    "## 4) Find MAX and MIN across a set of raster"
   ]
  },
  {
   "cell_type": "markdown",
   "metadata": {},
   "source": [
    "## BEB Min and Max"
   ]
  },
  {
   "cell_type": "code",
   "execution_count": null,
   "metadata": {},
   "outputs": [],
   "source": [
    "# Set the DEDUCTION workspace to the folder containing your raster datasets\n",
    "arcpy.env.workspace = r\"\\\\WM20ocqu46ph01\\WF_Projects\\NL_HKW\\1_INPUT\\SITEINV\\20230928_Deltares_Seabed_Mobility_Pooyan_Ghasemi_Ecodoc004813220-02\\SeabedMobility_Deltares_Deduction\"\n",
    "rasters = arcpy.ListRasters()\n",
    "rasters_starting_with_B_deduction = [raster for raster in rasters if raster.startswith('Deduction_B')]\n",
    "print('Filter rasters that start with B:\\n', rasters_starting_with_B_deduction)\n",
    "\n",
    "out_max_raster = arcpy.sa.CellStatistics(rasters_starting_with_B_deduction, \"MAXIMUM\", \"DATA\")\n",
    "out_min_raster = arcpy.sa.CellStatistics(rasters_starting_with_B_deduction, \"MINIMUM\", \"DATA\")\n",
    "\n",
    "output_folder = r\"\\\\WM20ocqu46ph01\\WF_Projects\\NL_HKW\\1_INPUT\\SITEINV\\20230928_Deltares_Seabed_Mobility_Pooyan_Ghasemi_Ecodoc004813220-02\\SeabedMobility_Deltares_Max_Min_Final\"\n",
    "\n",
    "# Define the output raster paths for maximum and minimum values\n",
    "output_max_raster = os.path.join(output_folder, \"HKW_VII_Seabed_Mobility_BEB_max_Deltares_UTM31_v0.tif\")\n",
    "output_min_raster = os.path.join(output_folder, \"HKW_VII_Seabed_Mobility_BEB_min_Deltares_UTM31_v0.tif\")\n",
    "\n",
    "# Save the maximum and minimum value rasters\n",
    "out_max_raster.save(output_max_raster)\n",
    "out_min_raster.save(output_min_raster)\n",
    "\n",
    "print(f\"Maximum value raster saved to: {output_max_raster}\")\n",
    "print(f\"Minimum value raster saved to: {output_min_raster}\")\n",
    "\n",
    "\n",
    "# Define the full path for the output raster in the geodatabase\n",
    "arcpy.env.workspace = r\"\\\\WM20ocqu46ph01\\WF_Projects\\NL_HKW\\1_INPUT\\SITEINV\\20230928_Deltares_Seabed_Mobility_Pooyan_Ghasemi_Ecodoc004813220-02\\SeabedMobility_Deltares_Max_Min_Final\\SeabedMobility_Deltares_Max_Min_Final.gdb\"\n",
    "\n",
    "output_raster_min = arcpy.env.workspace + \"\\HKW_VII_Seabed_Mobility_BEB_min\"\n",
    "output_raster_max = arcpy.env.workspace + \"\\HKW_VII_Seabed_Mobility_BEB_max\"\n",
    "\n",
    "# Use CopyRaster_management to save the raster to the geodatabase\n",
    "arcpy.CopyRaster_management(output_max_raster, output_raster_max)\n",
    "arcpy.CopyRaster_management(output_min_raster, output_raster_min)"
   ]
  },
  {
   "cell_type": "markdown",
   "metadata": {},
   "source": [
    "## HSBL Min and Max"
   ]
  },
  {
   "cell_type": "code",
   "execution_count": null,
   "metadata": {},
   "outputs": [],
   "source": [
    "# Set the DEDUCTION workspace to the folder containing your raster datasets\n",
    "arcpy.env.workspace = r\"\\\\WM20ocqu46ph01\\WF_Projects\\NL_HKW\\1_INPUT\\SITEINV\\20230928_Deltares_Seabed_Mobility_Pooyan_Ghasemi_Ecodoc004813220-02\\SeabedMobility_Deltares_Deduction\"\n",
    "rasters = arcpy.ListRasters()\n",
    "rasters_starting_with_H_deduction = [raster for raster in rasters if raster.startswith('Deduction_H')]\n",
    "print('Filter rasters that start with H:\\n', rasters_starting_with_H_deduction)\n",
    "\n",
    "output_folder = r\"\\\\WM20ocqu46ph01\\WF_Projects\\NL_HKW\\1_INPUT\\SITEINV\\20230928_Deltares_Seabed_Mobility_Pooyan_Ghasemi_Ecodoc004813220-02\\SeabedMobility_Deltares_Max_Min_Final\"\n",
    "\n",
    "out_max_raster = arcpy.sa.CellStatistics(rasters_starting_with_H_deduction, \"MAXIMUM\", \"DATA\")\n",
    "out_min_raster = arcpy.sa.CellStatistics(rasters_starting_with_H_deduction, \"MINIMUM\", \"DATA\")\n",
    "\n",
    "# Define the output raster paths for maximum and minimum values\n",
    "output_max_raster = os.path.join(output_folder, \"HKW_VII_Seabed_Mobility_HSBL_max_Deltares_UTM31_v0.tif\")\n",
    "output_min_raster = os.path.join(output_folder, \"HKW_VII_Seabed_Mobility_HSBL_min_Deltares_UTM31_v0.tif\")\n",
    "\n",
    "# Save the maximum and minimum value rasters\n",
    "# out_max_raster.save(output_max_raster)\n",
    "# out_min_raster.save(output_min_raster)\n",
    "# \n",
    "# print(f\"Maximum value raster saved to: {output_max_raster}\")\n",
    "# print(f\"Minimum value raster saved to: {output_min_raster}\")\n",
    "# \n",
    "\n",
    "# Define the full path for the output raster in the geodatabase\n",
    "arcpy.env.workspace = r\"\\\\WM20ocqu46ph01\\WF_Projects\\NL_HKW\\1_INPUT\\SITEINV\\20230928_Deltares_Seabed_Mobility_Pooyan_Ghasemi_Ecodoc004813220-02\\SeabedMobility_Deltares_Max_Min_Final\\SeabedMobility_Deltares_Max_Min_Final.gdb\"\n",
    "\n",
    "output_raster_min = arcpy.env.workspace + \"\\\\HKW_VII_Seabed_Mobility_HSBL_min\"\n",
    "output_raster_max = arcpy.env.workspace + \"\\\\HKW_VII_Seabed_Mobility_HSBL_max\"\n",
    "\n",
    "# Use CopyRaster_management to save the raster to the geodatabase\n",
    "arcpy.CopyRaster_management(out_max_raster, output_raster_max)\n",
    "arcpy.CopyRaster_management(out_min_raster, output_raster_min)"
   ]
  },
  {
   "cell_type": "markdown",
   "metadata": {},
   "source": [
    "### LSBL Min and Max"
   ]
  },
  {
   "cell_type": "code",
   "execution_count": null,
   "metadata": {},
   "outputs": [],
   "source": [
    "# Set the DEDUCTION workspace to the folder containing your raster datasets\n",
    "arcpy.env.workspace = r\"\\\\WM20ocqu46ph01\\WF_Projects\\NL_HKW\\1_INPUT\\SITEINV\\20230928_Deltares_Seabed_Mobility_Pooyan_Ghasemi_Ecodoc004813220-02\\SeabedMobility_Deltares_Deduction\"\n",
    "rasters = arcpy.ListRasters()\n",
    "rasters_starting_with_L_deduction  = [raster for raster in rasters if raster.startswith('Deduction_L')]\n",
    "print(rasters_starting_with_L_deduction)\n",
    "\n",
    "output_folder = r\"\\\\WM20ocqu46ph01\\WF_Projects\\NL_HKW\\1_INPUT\\SITEINV\\20230928_Deltares_Seabed_Mobility_Pooyan_Ghasemi_Ecodoc004813220-02\\SeabedMobility_Deltares_Max_Min_Final\"\n",
    "\n",
    "out_max_raster = arcpy.sa.CellStatistics(rasters_starting_with_L_deduction, \"MAXIMUM\", \"DATA\")\n",
    "out_min_raster = arcpy.sa.CellStatistics(rasters_starting_with_L_deduction, \"MINIMUM\", \"DATA\")\n",
    "\n",
    "# Define the output raster paths for maximum and minimum values\n",
    "output_max_raster = os.path.join(output_folder, \"HKW_VII_Seabed_Mobility_LSBL_max_Deltares_UTM31_v0.tif\")\n",
    "output_min_raster = os.path.join(output_folder, \"HKW_VII_Seabed_Mobility_LSBL_min_Deltares_UTM31_v0.tif\")\n",
    "\n",
    "# Save the maximum and minimum value rasters\n",
    "out_max_raster.save(output_max_raster)\n",
    "out_min_raster.save(output_min_raster)\n",
    "\n",
    "print(f\"Maximum value raster saved to: {output_max_raster}\")\n",
    "print(f\"Minimum value raster saved to: {output_min_raster}\")\n",
    "\n",
    "\n",
    "# Define the full path for the output raster in the geodatabase\n",
    "arcpy.env.workspace = r\"\\\\WM20ocqu46ph01\\WF_Projects\\NL_HKW\\1_INPUT\\SITEINV\\20230928_Deltares_Seabed_Mobility_Pooyan_Ghasemi_Ecodoc004813220-02\\SeabedMobility_Deltares_Max_Min_Final\\SeabedMobility_Deltares_Max_Min_Final.gdb\"\n",
    "\n",
    "output_raster_min = arcpy.env.workspace + \"\\\\HKW_VII_Seabed_Mobility_LSBL_min\"\n",
    "output_raster_max = arcpy.env.workspace + \"\\\\HKW_VII_Seabed_Mobility_LSBL_max\"\n",
    "\n",
    "# Use CopyRaster_management to save the raster to the geodatabase\n",
    "arcpy.CopyRaster_management(out_max_raster, output_raster_max)\n",
    "arcpy.CopyRaster_management(out_min_raster, output_raster_min)\n"
   ]
  },
  {
   "cell_type": "code",
   "execution_count": null,
   "metadata": {},
   "outputs": [],
   "source": [
    "# Set the workspace (geodatabase path)\n",
    "workspace = r\"\\\\WM20ocqu46ph01\\WF_Projects\\NL_HKW\\2_FINAL\\SITEINV\\SITEINV.gdb\"\n",
    "\n",
    "# Set the name of the raster dataset to delete\n",
    "raster_name = \"HKW_VII_Seabed_Mobility_BEB_max_Deltares_UTM_v1\"\n",
    "\n",
    "try:\n",
    "    # Delete the raster dataset\n",
    "    arcpy.Delete_management(os.path.join(workspace, raster_name))\n",
    "    print(f\"Raster dataset {raster_name} deleted successfully.\")\n",
    "except arcpy.ExecuteError:\n",
    "    print(arcpy.GetMessages(2))\n",
    "except Exception as e:\n",
    "    print(e)"
   ]
  },
  {
   "cell_type": "code",
   "execution_count": null,
   "metadata": {},
   "outputs": [],
   "source": []
  },
  {
   "cell_type": "code",
   "execution_count": null,
   "metadata": {},
   "outputs": [],
   "source": []
  }
 ],
 "metadata": {
  "kernelspec": {
   "display_name": "ArcGISPro",
   "language": "Python",
   "name": "python3"
  },
  "vscode": {
   "interpreter": {
    "hash": "ce21b655b4d6c9e397d5ad93d5666c623f49909f6d0cc2f72076dafcf1b3ecfb"
   }
  }
 },
 "nbformat": 4,
 "nbformat_minor": 2
}
